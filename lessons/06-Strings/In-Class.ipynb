{
 "cells": [
  {
   "cell_type": "code",
   "execution_count": 6,
   "metadata": {},
   "outputs": [
    {
     "name": "stdout",
     "output_type": "stream",
     "text": [
      "Enter some text: cheese\n",
      "e\n"
     ]
    }
   ],
   "source": [
    "text = input(\"Enter some text: \")\n",
    "last_letter = text[-1]\n",
    "print(last_letter)\n"
   ]
  },
  {
   "cell_type": "code",
   "execution_count": 7,
   "metadata": {},
   "outputs": [
    {
     "name": "stdout",
     "output_type": "stream",
     "text": [
      "c\n"
     ]
    }
   ],
   "source": [
    "print( text[0])"
   ]
  },
  {
   "cell_type": "code",
   "execution_count": 8,
   "metadata": {},
   "outputs": [
    {
     "name": "stdout",
     "output_type": "stream",
     "text": [
      "ch\n"
     ]
    }
   ],
   "source": [
    "print( text[0:2])"
   ]
  },
  {
   "cell_type": "code",
   "execution_count": 5,
   "metadata": {},
   "outputs": [
    {
     "name": "stdout",
     "output_type": "stream",
     "text": [
      "pi\n"
     ]
    }
   ],
   "source": [
    "print( text[:2] )\n"
   ]
  },
  {
   "cell_type": "code",
   "execution_count": 11,
   "metadata": {},
   "outputs": [
    {
     "name": "stdout",
     "output_type": "stream",
     "text": [
      "Enter two words: slow pitch\n",
      "slow\n",
      " pitch\n"
     ]
    }
   ],
   "source": [
    "text = input(\"Enter two words: \")\n",
    "i = 0\n",
    "for ch in text:\n",
    "    if ch == ' ':\n",
    "        break\n",
    "    i =i + 1\n",
    "    \n",
    "first_half = text[:i]\n",
    "second_half = text[i:]\n",
    "\n",
    "print(first_half)\n",
    "print(second_half)"
   ]
  },
  {
   "cell_type": "code",
   "execution_count": 12,
   "metadata": {},
   "outputs": [
    {
     "data": {
      "text/plain": [
       "['__add__',\n",
       " '__class__',\n",
       " '__contains__',\n",
       " '__delattr__',\n",
       " '__dir__',\n",
       " '__doc__',\n",
       " '__eq__',\n",
       " '__format__',\n",
       " '__ge__',\n",
       " '__getattribute__',\n",
       " '__getitem__',\n",
       " '__getnewargs__',\n",
       " '__gt__',\n",
       " '__hash__',\n",
       " '__init__',\n",
       " '__init_subclass__',\n",
       " '__iter__',\n",
       " '__le__',\n",
       " '__len__',\n",
       " '__lt__',\n",
       " '__mod__',\n",
       " '__mul__',\n",
       " '__ne__',\n",
       " '__new__',\n",
       " '__reduce__',\n",
       " '__reduce_ex__',\n",
       " '__repr__',\n",
       " '__rmod__',\n",
       " '__rmul__',\n",
       " '__setattr__',\n",
       " '__sizeof__',\n",
       " '__str__',\n",
       " '__subclasshook__',\n",
       " 'capitalize',\n",
       " 'casefold',\n",
       " 'center',\n",
       " 'count',\n",
       " 'encode',\n",
       " 'endswith',\n",
       " 'expandtabs',\n",
       " 'find',\n",
       " 'format',\n",
       " 'format_map',\n",
       " 'index',\n",
       " 'isalnum',\n",
       " 'isalpha',\n",
       " 'isascii',\n",
       " 'isdecimal',\n",
       " 'isdigit',\n",
       " 'isidentifier',\n",
       " 'islower',\n",
       " 'isnumeric',\n",
       " 'isprintable',\n",
       " 'isspace',\n",
       " 'istitle',\n",
       " 'isupper',\n",
       " 'join',\n",
       " 'ljust',\n",
       " 'lower',\n",
       " 'lstrip',\n",
       " 'maketrans',\n",
       " 'partition',\n",
       " 'replace',\n",
       " 'rfind',\n",
       " 'rindex',\n",
       " 'rjust',\n",
       " 'rpartition',\n",
       " 'rsplit',\n",
       " 'rstrip',\n",
       " 'split',\n",
       " 'splitlines',\n",
       " 'startswith',\n",
       " 'strip',\n",
       " 'swapcase',\n",
       " 'title',\n",
       " 'translate',\n",
       " 'upper',\n",
       " 'zfill']"
      ]
     },
     "execution_count": 12,
     "metadata": {},
     "output_type": "execute_result"
    }
   ],
   "source": [
    "dir(str)"
   ]
  },
  {
   "cell_type": "code",
   "execution_count": 16,
   "metadata": {},
   "outputs": [
    {
     "name": "stdout",
     "output_type": "stream",
     "text": [
      "Help on method_descriptor:\n",
      "\n",
      "strip(self, chars=None, /)\n",
      "    Return a copy of the string with leading and trailing whitespace removed.\n",
      "    \n",
      "    If chars is given and not None, remove characters in chars instead.\n",
      "\n"
     ]
    }
   ],
   "source": [
    "help(str.strip)"
   ]
  },
  {
   "cell_type": "code",
   "execution_count": 14,
   "metadata": {},
   "outputs": [
    {
     "data": {
      "text/plain": [
       "4"
      ]
     },
     "execution_count": 14,
     "metadata": {},
     "output_type": "execute_result"
    }
   ],
   "source": [
    "\"mike fudge\".find(\" \")"
   ]
  },
  {
   "cell_type": "code",
   "execution_count": 25,
   "metadata": {},
   "outputs": [
    {
     "name": "stdout",
     "output_type": "stream",
     "text": [
      "Enter two words:     jello    puddin    \n",
      "jello\n",
      "puddin\n"
     ]
    }
   ],
   "source": [
    "text = input(\"Enter two words: \")\n",
    "stripped = text.strip()\n",
    "i = stripped.find(\" \")\n",
    "\n",
    "first_half = stripped[:i].strip()\n",
    "second_half = stripped[i:].strip()\n",
    "\n",
    "print(first_half)\n",
    "print(second_half)"
   ]
  },
  {
   "cell_type": "code",
   "execution_count": 21,
   "metadata": {},
   "outputs": [
    {
     "data": {
      "text/plain": [
       "'dfs    jgd'"
      ]
     },
     "execution_count": 21,
     "metadata": {},
     "output_type": "execute_result"
    }
   ],
   "source": [
    "\"     dfs    jgd     \".strip()"
   ]
  },
  {
   "cell_type": "code",
   "execution_count": 44,
   "metadata": {},
   "outputs": [
    {
     "name": "stdout",
     "output_type": "stream",
     "text": [
      "Play checkers? dsfkjahflkauhfkjasf\n",
      "Okay. Understood.\n"
     ]
    }
   ],
   "source": [
    "answer = input(\"Play checkers? \").lower()\n",
    "if (answer == 'y' and len(answer)==1) or answer == 'yes':\n",
    "    print(\"I'll get the board ready.\")\n",
    "else:\n",
    "    print(\"Okay. Understood.\")"
   ]
  },
  {
   "cell_type": "code",
   "execution_count": 31,
   "metadata": {},
   "outputs": [
    {
     "data": {
      "text/plain": [
       "'shouting'"
      ]
     },
     "execution_count": 31,
     "metadata": {},
     "output_type": "execute_result"
    }
   ],
   "source": [
    "'SHOUTING'.lower()"
   ]
  },
  {
   "cell_type": "code",
   "execution_count": 71,
   "metadata": {},
   "outputs": [
    {
     "name": "stdout",
     "output_type": "stream",
     "text": [
      "When 'yes' then 'yes' acutual  yes\n",
      "When 'no' then 'no' acutual  no\n",
      "When 'y' then 'yes' acutual  yes\n",
      "When 'n' then 'no' acutual  no\n",
      "When 'Y' then 'yes' acutual  yes\n",
      "When 'N' then 'no' acutual  no\n",
      "When 'sdajgf' then '?' acutual  ?\n"
     ]
    }
   ],
   "source": [
    "    \n",
    "print(\"When 'yes' then 'yes' acutual \", yes_or_no('yes'))\n",
    "print(\"When 'no' then 'no' acutual \", yes_or_no('no'))\n",
    "    \n",
    "print(\"When 'y' then 'yes' acutual \", yes_or_no('y'))\n",
    "print(\"When 'n' then 'no' acutual \", yes_or_no('n'))\n",
    "print(\"When 'Y' then 'yes' acutual \", yes_or_no('Y'))\n",
    "print(\"When 'N' then 'no' acutual \", yes_or_no('N'))\n",
    "print(\"When 'sdajgf' then '?' acutual \", yes_or_no('sdajgf'))"
   ]
  },
  {
   "cell_type": "code",
   "execution_count": 56,
   "metadata": {},
   "outputs": [
    {
     "name": "stdout",
     "output_type": "stream",
     "text": [
      "Are you studying? jskefghkljdf\n",
      "Are you studying? hjkdfgsdjf\n",
      "Are you studying? nope\n",
      "Are you studying? yeppers\n",
      "Are you studying? yes\n",
      "yes\n"
     ]
    }
   ],
   "source": [
    "while True:\n",
    "    answer = yes_or_no(input(\"Are you studying? \"))\n",
    "    if answer != '?':\n",
    "        break\n",
    "        \n",
    "print(answer)"
   ]
  },
  {
   "cell_type": "code",
   "execution_count": 57,
   "metadata": {},
   "outputs": [
    {
     "name": "stdout",
     "output_type": "stream",
     "text": [
      "Enter some numbers: 5 10 15\n"
     ]
    }
   ],
   "source": [
    "numbers = input(\"Enter some numbers: \")\n"
   ]
  },
  {
   "cell_type": "code",
   "execution_count": 60,
   "metadata": {},
   "outputs": [
    {
     "data": {
      "text/plain": [
       "['5', '10', '15']"
      ]
     },
     "execution_count": 60,
     "metadata": {},
     "output_type": "execute_result"
    }
   ],
   "source": [
    "numbers.split(' ')"
   ]
  },
  {
   "cell_type": "code",
   "execution_count": 61,
   "metadata": {},
   "outputs": [
    {
     "name": "stdout",
     "output_type": "stream",
     "text": [
      "5\n",
      " \n",
      "1\n",
      "0\n",
      " \n",
      "1\n",
      "5\n"
     ]
    }
   ],
   "source": [
    "for x in numbers:\n",
    "    print(x)"
   ]
  },
  {
   "cell_type": "code",
   "execution_count": 62,
   "metadata": {},
   "outputs": [
    {
     "name": "stdout",
     "output_type": "stream",
     "text": [
      "5\n",
      "10\n",
      "15\n"
     ]
    }
   ],
   "source": [
    "for x in numbers.split(' '):\n",
    "    print(x)"
   ]
  },
  {
   "cell_type": "code",
   "execution_count": 63,
   "metadata": {},
   "outputs": [
    {
     "name": "stdout",
     "output_type": "stream",
     "text": [
      "mike\n",
      "bill\n",
      "dave\n"
     ]
    }
   ],
   "source": [
    "for x in \"mike,bill,dave\".split(','):\n",
    "    print(x)"
   ]
  },
  {
   "cell_type": "code",
   "execution_count": 69,
   "metadata": {},
   "outputs": [
    {
     "name": "stdout",
     "output_type": "stream",
     "text": [
      "Enter some numbers: 10 67 99 104\n",
      "280\n"
     ]
    }
   ],
   "source": [
    "numbers = input(\"Enter some numbers: \")\n",
    "total = 0\n",
    "for number in numbers.split(' '):\n",
    "    total = total + int(number)\n",
    "    \n",
    "print(total)"
   ]
  },
  {
   "cell_type": "code",
   "execution_count": 65,
   "metadata": {},
   "outputs": [
    {
     "data": {
      "text/plain": [
       "'1'"
      ]
     },
     "execution_count": 65,
     "metadata": {},
     "output_type": "execute_result"
    }
   ],
   "source": [
    "number"
   ]
  },
  {
   "cell_type": "code",
   "execution_count": 66,
   "metadata": {},
   "outputs": [
    {
     "data": {
      "text/plain": [
       "str"
      ]
     },
     "execution_count": 66,
     "metadata": {},
     "output_type": "execute_result"
    }
   ],
   "source": [
    "type(number)"
   ]
  },
  {
   "cell_type": "code",
   "execution_count": 67,
   "metadata": {},
   "outputs": [
    {
     "data": {
      "text/plain": [
       "1"
      ]
     },
     "execution_count": 67,
     "metadata": {},
     "output_type": "execute_result"
    }
   ],
   "source": [
    "int(number)"
   ]
  },
  {
   "cell_type": "code",
   "execution_count": 72,
   "metadata": {},
   "outputs": [
    {
     "name": "stdout",
     "output_type": "stream",
     "text": [
      "Requirement already satisfied: import_ipynb in /opt/conda/lib/python3.7/site-packages (0.1.3)\r\n"
     ]
    }
   ],
   "source": [
    "!pip install import_ipynb"
   ]
  },
  {
   "cell_type": "code",
   "execution_count": 10,
   "metadata": {},
   "outputs": [],
   "source": [
    "# import the ipynb importer\n",
    "import import_ipynb\n",
    "# import your code and use an alias. You need to do this to reference the function\n",
    "import ClassFunctions as f\n"
   ]
  },
  {
   "cell_type": "code",
   "execution_count": 11,
   "metadata": {},
   "outputs": [
    {
     "name": "stdout",
     "output_type": "stream",
     "text": [
      "When 'yes' then 'yes' acutual  yes\n",
      "When 'no' then 'no' acutual  no\n",
      "When 'y' then 'yes' acutual  yes\n",
      "When 'n' then 'no' acutual  no\n",
      "When 'Y' then 'yes' acutual  yes\n",
      "When 'N' then 'no' acutual  no\n",
      "When 'sdajgf' then '?' acutual  ?\n"
     ]
    }
   ],
   "source": [
    "print(\"When 'yes' then 'yes' acutual \", f.yes_or_no('yes'))\n",
    "print(\"When 'no' then 'no' acutual \", f.yes_or_no('no'))\n",
    "    \n",
    "print(\"When 'y' then 'yes' acutual \", f.yes_or_no('y'))\n",
    "print(\"When 'n' then 'no' acutual \", f.yes_or_no('n'))\n",
    "print(\"When 'Y' then 'yes' acutual \", f.yes_or_no('Y'))\n",
    "print(\"When 'N' then 'no' acutual \", f.yes_or_no('N'))\n",
    "print(\"When 'sdajgf' then '?' acutual \", f.yes_or_no('sdajgf'))"
   ]
  },
  {
   "cell_type": "code",
   "execution_count": 12,
   "metadata": {},
   "outputs": [
    {
     "name": "stdout",
     "output_type": "stream",
     "text": [
      "Enter your tax rate: 45 %\n",
      "0.45\n"
     ]
    }
   ],
   "source": [
    "taxrate = f.percent(input(\"Enter your tax rate: \"))\n",
    "print(taxrate)"
   ]
  },
  {
   "cell_type": "code",
   "execution_count": null,
   "metadata": {},
   "outputs": [],
   "source": []
  }
 ],
 "metadata": {
  "kernelspec": {
   "display_name": "Python 3",
   "language": "python",
   "name": "python3"
  },
  "language_info": {
   "codemirror_mode": {
    "name": "ipython",
    "version": 3
   },
   "file_extension": ".py",
   "mimetype": "text/x-python",
   "name": "python",
   "nbconvert_exporter": "python",
   "pygments_lexer": "ipython3",
   "version": "3.7.6"
  }
 },
 "nbformat": 4,
 "nbformat_minor": 2
}
