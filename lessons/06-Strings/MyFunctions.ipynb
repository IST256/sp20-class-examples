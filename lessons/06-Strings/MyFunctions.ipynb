{
 "cells": [
  {
   "cell_type": "code",
   "execution_count": 1,
   "metadata": {},
   "outputs": [],
   "source": [
    "## Function: percentage - parses string input into a float as a percentage\n",
    "## Arguments: text\n",
    "## Returns float\n",
    "def percentage(text):\n",
    "    number = float(text.replace('%',''))\n",
    "    if number >1:\n",
    "        number = number /100\n",
    "    return number\n",
    "\n",
    "## Function: currency - parses string input into a float as currency\n",
    "## Arguments: text\n",
    "## Returns float\n",
    "def currency(text):\n",
    "    number = float(text.replace('$',''))\n",
    "    return number"
   ]
  },
  {
   "cell_type": "code",
   "execution_count": null,
   "metadata": {},
   "outputs": [],
   "source": []
  }
 ],
 "metadata": {
  "kernelspec": {
   "display_name": "Python 3",
   "language": "python",
   "name": "python3"
  },
  "language_info": {
   "codemirror_mode": {
    "name": "ipython",
    "version": 3
   },
   "file_extension": ".py",
   "mimetype": "text/x-python",
   "name": "python",
   "nbconvert_exporter": "python",
   "pygments_lexer": "ipython3",
   "version": "3.7.6"
  }
 },
 "nbformat": 4,
 "nbformat_minor": 2
}
