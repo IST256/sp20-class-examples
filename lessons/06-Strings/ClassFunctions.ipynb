{
 "cells": [
  {
   "cell_type": "code",
   "execution_count": null,
   "metadata": {},
   "outputs": [],
   "source": [
    "# nothing in here but your function definitions.\n",
    "# any print statements will output to the calling notebook"
   ]
  },
  {
   "cell_type": "code",
   "execution_count": 2,
   "metadata": {},
   "outputs": [],
   "source": [
    "def yes_or_no(text):\n",
    "    text = text.lower()\n",
    "    if text == 'y':\n",
    "        return 'yes'\n",
    "    elif text == 'yes':\n",
    "        return 'yes'\n",
    "    elif text == 'n' or text == 'no':\n",
    "        return 'no'\n",
    "    else:\n",
    "        return '?'"
   ]
  },
  {
   "cell_type": "markdown",
   "metadata": {},
   "source": [
    ".05 => 0.05\n",
    "\n",
    "\n",
    "5% => 0.05 \n",
    "\n",
    "1) remove the %\n",
    "2) parse into float\n",
    "3) divide by 100"
   ]
  },
  {
   "cell_type": "code",
   "execution_count": 11,
   "metadata": {},
   "outputs": [],
   "source": [
    "def percent(text):\n",
    "    '''\n",
    "    this will parse your text into percent so\n",
    "    15 % becomes 0.15\n",
    "    '''\n",
    "    number = float(text.replace(\"%\",\"\"))/100\n",
    "    return number"
   ]
  },
  {
   "cell_type": "code",
   "execution_count": null,
   "metadata": {},
   "outputs": [],
   "source": []
  }
 ],
 "metadata": {
  "kernelspec": {
   "display_name": "Python 3",
   "language": "python",
   "name": "python3"
  },
  "language_info": {
   "codemirror_mode": {
    "name": "ipython",
    "version": 3
   },
   "file_extension": ".py",
   "mimetype": "text/x-python",
   "name": "python",
   "nbconvert_exporter": "python",
   "pygments_lexer": "ipython3",
   "version": "3.7.6"
  }
 },
 "nbformat": 4,
 "nbformat_minor": 2
}
