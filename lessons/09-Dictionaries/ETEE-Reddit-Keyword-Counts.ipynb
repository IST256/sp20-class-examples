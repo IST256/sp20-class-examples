{
 "cells": [
  {
   "cell_type": "code",
   "execution_count": 7,
   "metadata": {},
   "outputs": [
    {
     "name": "stdout",
     "output_type": "stream",
     "text": [
      "Collecting textblob\n",
      "\u001b[?25l  Downloading https://files.pythonhosted.org/packages/60/f0/1d9bfcc8ee6b83472ec571406bd0dd51c0e6330ff1a51b2d29861d389e85/textblob-0.15.3-py2.py3-none-any.whl (636kB)\n",
      "\u001b[K     |████████████████████████████████| 645kB 5.0MB/s eta 0:00:01\n",
      "\u001b[?25hCollecting nltk>=3.1\n",
      "\u001b[?25l  Downloading https://files.pythonhosted.org/packages/f6/1d/d925cfb4f324ede997f6d47bea4d9babba51b49e87a767c170b77005889d/nltk-3.4.5.zip (1.5MB)\n",
      "\u001b[K     |████████████████████████████████| 1.5MB 34.0MB/s eta 0:00:01\n",
      "\u001b[?25hRequirement already satisfied: six in /opt/conda/lib/python3.7/site-packages (from nltk>=3.1->textblob) (1.13.0)\n",
      "Building wheels for collected packages: nltk\n",
      "  Building wheel for nltk (setup.py) ... \u001b[?25ldone\n",
      "\u001b[?25h  Created wheel for nltk: filename=nltk-3.4.5-cp37-none-any.whl size=1449908 sha256=3cfc509f7e2f5bc317d371740a5795e371001f438de60eee14f0b3442a866d67\n",
      "  Stored in directory: /home/jovyan/.cache/pip/wheels/96/86/f6/68ab24c23f207c0077381a5e3904b2815136b879538a24b483\n",
      "Successfully built nltk\n",
      "Installing collected packages: nltk, textblob\n",
      "Successfully installed nltk-3.4.5 textblob-0.15.3\n"
     ]
    }
   ],
   "source": [
    "!pip install textblob\n"
   ]
  },
  {
   "cell_type": "code",
   "execution_count": 38,
   "metadata": {},
   "outputs": [
    {
     "name": "stdout",
     "output_type": "stream",
     "text": [
      "Enter a keyword: coronavirus\n",
      "42 of 100, or 42.0% of headlines mention coronavirus  \n"
     ]
    }
   ],
   "source": [
    "import json\n",
    "import string \n",
    "\n",
    "datafile = 'top-100-reddit-worldnews-2020-03-09.json'\n",
    "\n",
    "keyword = input(\"Enter a keyword: \").lower()\n",
    "with open(datafile,'r') as f:\n",
    "    reddit = json.load(f)\n",
    "    \n",
    "stories = reddit['data']['children']\n",
    "count = 0\n",
    "total = 0\n",
    "for story in stories:\n",
    "    if keyword in story['data']['title'].lower():\n",
    "        count +=1\n",
    "    total += 1\n",
    "   \n",
    "print(f\"{count} of {total}, or {100*count/total}% of headlines mention {keyword}  \")"
   ]
  },
  {
   "cell_type": "code",
   "execution_count": 14,
   "metadata": {},
   "outputs": [
    {
     "data": {
      "text/plain": [
       "Sentiment(polarity=0.1875, subjectivity=0.4375)"
      ]
     },
     "execution_count": 14,
     "metadata": {},
     "output_type": "execute_result"
    }
   ],
   "source": [
    "text = TextBlob(reddit['data']['children'][0]['data']['title'])\n",
    "text.sentiment"
   ]
  },
  {
   "cell_type": "code",
   "execution_count": 6,
   "metadata": {},
   "outputs": [
    {
     "name": "stdout",
     "output_type": "stream",
     "text": [
      "==> Oil plummets 31% in biggest drop since Gulf War as Saudi cuts spark all-out price war. Oil markets tumbled the most in decades overnight on Sunday. The sell-off was fueled by sinking demand due to coronavirus concerns.\n",
      "==> Xiamen University has developed rapid testing kit for the COVID-19 antibody with results available in 29 minutes. The testing kit has been approved by the EU and exported to countries including Italy, Austria and the Netherlands.\n",
      "==> Six dead as prison riots sweep Italy sparked by coronavirus emergency laws\n",
      "==> The Most Drastic Anti-Coronavirus Travel Ban in the World: 'Micronesia has banned entry to anyone who has been in any country with a confirmed case of coronavirus in the past fortnight'\n",
      "==> Russia has been accused by the US of spreading conspiracy theories that coronavirus is a biological weapon created by the CIA and now the UK has set up a unit to fight them\n",
      "==> UK: Free school dinners ‘led to fall in childhood obesity rates’. Study shows school meals better for pupils than packed lunches\n",
      "==> Hundreds of thousands of women across Latin America’s biggest cities flocked to the streets for International Women’s Day on Sunday, spurred by a growing outcry over inequality, femicide and strict abortion controls.\n",
      "==> Saudi Arabia Stuns World With Massive Discount In Oil Sold To Asia, Europe And U.S.\n",
      "==> Islamists hurl stones and shoes at Women's Day marchers in Pakistan\n",
      "==> Coronavirus ‘highly sensitive’ to high temperatures, but don’t bank on summer killing it off, studies say\n",
      "==> Mexico to witness \"day without women\" as thousands of workers expected to strike over growing gender violence rates\n",
      "==> Taiwan scientists develop antibodies for 15-minute Wuhan virus test in 19 days\n",
      "==> Sudan's PM survives assassination attempt in capital\n",
      "==> Greta on Hungarian media watch list: ‘This shows the importance of democracy’ -- Internal emails show state media staff need permission to write about Thunberg\n",
      "==> Trial to start for murder of 298 on flight MH17\n",
      "==> Carbon emissions fall as electricity producers move away from coal - Carbon emissions from the global electricity system fell by 2% last year, the biggest drop in almost 30 years, as countries began to turn their backs on coal-fired power plants.\n",
      "==> Russian Ruble Plummets Amid Oil Market Chaos\n",
      "==> Dublin cancels St Patrick's Day parade\n",
      "==> North Korea has fired an unidentified projectile, South Korean military says\n",
      "==> Shares plunge in worst day since financial crisis\n",
      "==> Saudi Arabia suspends all schools until further notice amid coronavirus concerns\n",
      "==> Researchers discover that Intel chips have an unfixable security flaw\n",
      "==> Japan: Government official sold masks online at inflated prices amid coronavirus outbreak\n",
      "==> WHO Official Says Coronavirus Containment Remains Possible\n",
      "==> Almost 200 Dead From Coronavirus in Iran\n"
     ]
    }
   ],
   "source": [
    "for story in reddit['data']['children']:\n",
    "    print(\"==> \" +story['data']['title'])"
   ]
  },
  {
   "cell_type": "code",
   "execution_count": 27,
   "metadata": {},
   "outputs": [
    {
     "data": {
      "text/plain": [
       "['m', 'i', 'k', 'e']"
      ]
     },
     "execution_count": 27,
     "metadata": {},
     "output_type": "execute_result"
    }
   ],
   "source": [
    "list('mike')"
   ]
  },
  {
   "cell_type": "code",
   "execution_count": 28,
   "metadata": {},
   "outputs": [
    {
     "ename": "TypeError",
     "evalue": "decoding str is not supported",
     "output_type": "error",
     "traceback": [
      "\u001b[0;31m---------------------------------------------------------------------------\u001b[0m",
      "\u001b[0;31mTypeError\u001b[0m                                 Traceback (most recent call last)",
      "\u001b[0;32m<ipython-input-28-1eacda937204>\u001b[0m in \u001b[0;36m<module>\u001b[0;34m\u001b[0m\n\u001b[0;32m----> 1\u001b[0;31m \u001b[0mstr\u001b[0m\u001b[0;34m(\u001b[0m\u001b[0;34m'm'\u001b[0m\u001b[0;34m,\u001b[0m\u001b[0;34m'i'\u001b[0m\u001b[0;34m,\u001b[0m\u001b[0;34m'k'\u001b[0m\u001b[0;34m)\u001b[0m\u001b[0;34m\u001b[0m\u001b[0;34m\u001b[0m\u001b[0m\n\u001b[0m",
      "\u001b[0;31mTypeError\u001b[0m: decoding str is not supported"
     ]
    }
   ],
   "source": []
  },
  {
   "cell_type": "code",
   "execution_count": null,
   "metadata": {},
   "outputs": [],
   "source": []
  }
 ],
 "metadata": {
  "kernelspec": {
   "display_name": "Python 3",
   "language": "python",
   "name": "python3"
  },
  "language_info": {
   "codemirror_mode": {
    "name": "ipython",
    "version": 3
   },
   "file_extension": ".py",
   "mimetype": "text/x-python",
   "name": "python",
   "nbconvert_exporter": "python",
   "pygments_lexer": "ipython3",
   "version": "3.7.6"
  }
 },
 "nbformat": 4,
 "nbformat_minor": 2
}
