{
 "cells": [
  {
   "cell_type": "code",
   "execution_count": 23,
   "metadata": {},
   "outputs": [],
   "source": [
    "import requests\n",
    "from IPython.display import display, Image\n",
    "\n",
    "YELP_API_KEY = 'Get-Your-Own'\n",
    "\n",
    "\n",
    "def search(term, location):\n",
    "    querystring = { 'term' : term, 'location' : location }\n",
    "    header = { 'Authorization' : f'Bearer {YELP_API_KEY}'}\n",
    "    search_url = \"https://api.yelp.com/v3/businesses/search\"\n",
    "    response = requests.get(search_url, params = querystring, headers=header)\n",
    "    return response.json()\n",
    "\n",
    "def details(id):\n",
    "    header = { 'Authorization' : f'Bearer {YELP_API_KEY}'}\n",
    "    details_url = f\"https://api.yelp.com/v3/businesses/{id}\"\n",
    "    response = requests.get(details_url, headers = header)\n",
    "    return response.json()\n",
    "        \n",
    "def reviews(id):\n",
    "    header = { 'Authorization' : f'Bearer {YELP_API_KEY}'}\n",
    "    details_url = f\"https://api.yelp.com/v3/businesses/{id}/reviews\"\n",
    "    response = requests.get(details_url, headers = header)\n",
    "    return response.json()\n"
   ]
  },
  {
   "cell_type": "code",
   "execution_count": 24,
   "metadata": {
    "scrolled": true
   },
   "outputs": [],
   "source": [
    "s = search('pizza', 'Syracuse, NY')\n",
    "pic = s['businesses'][0]['image_url']\n",
    "id = s['businesses'][0]['id']\n",
    "#display(Image(pic))\n",
    "d = details(id)\n",
    "r = reviews(id)"
   ]
  },
  {
   "cell_type": "code",
   "execution_count": 30,
   "metadata": {},
   "outputs": [
    {
     "name": "stdout",
     "output_type": "stream",
     "text": [
      "5 - Syracuse's best pizza. It says a lot when a custom oven is imported from Italy to guarantee it's correct! Regional products that are essential to a...\n",
      "4 - Our dinner guests were rough-skinned, pock-marked, with blemishes, blisters, and big black welts.\n",
      "\n",
      "Yeah boyee!  Wouldn't have it any other way.\n",
      "\n",
      "Though...\n",
      "5 - The best pizza in Syracuse. It says a lot when a place imports a custom oven from Italy to make sure they get it right! There's a strong emphasis on local...\n"
     ]
    }
   ],
   "source": [
    "for rev in r['reviews']:\n",
    "    print(f\"{rev['rating']} - {rev['text']}\")"
   ]
  },
  {
   "cell_type": "code",
   "execution_count": null,
   "metadata": {},
   "outputs": [],
   "source": []
  }
 ],
 "metadata": {
  "kernelspec": {
   "display_name": "Python 3",
   "language": "python",
   "name": "python3"
  },
  "language_info": {
   "codemirror_mode": {
    "name": "ipython",
    "version": 3
   },
   "file_extension": ".py",
   "mimetype": "text/x-python",
   "name": "python",
   "nbconvert_exporter": "python",
   "pygments_lexer": "ipython3",
   "version": "3.7.6"
  },
  "toc": {
   "base_numbering": 1,
   "nav_menu": {},
   "number_sections": false,
   "sideBar": false,
   "skip_h1_title": false,
   "title_cell": "Table of Contents",
   "title_sidebar": "Contents",
   "toc_cell": false,
   "toc_position": {},
   "toc_section_display": false,
   "toc_window_display": false
  }
 },
 "nbformat": 4,
 "nbformat_minor": 2
}
