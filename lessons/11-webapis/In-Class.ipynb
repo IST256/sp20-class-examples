{
 "cells": [
  {
   "cell_type": "markdown",
   "metadata": {},
   "source": [
    "# More API Examples\n",
    "\n",
    "This notebook contains EVEN MORE API examples so you can get an idea of the types of services available. There's a world of API's out there for the taking, and we cannot teach them all to you. We can only teach you how they work in general... the details are 100% up to you!\n",
    "\n",
    "Key takeaways from this demonstration -\n",
    "\n",
    "- Many API's out there \n",
    "- Countless ways to call an API\n",
    "- All use HTTP which means they will pass data via query string header, URL, and request body.\n",
    "- Most require some form of authentication\n",
    "- Most return JSON, some return XML. JSON is easier to de-serialize in Python\n",
    "- You must read the documentation to figure out how to use them!\n",
    "- Stick to using the HTTP prococol - avoid their sample code in Python or some other language.\n",
    "\n"
   ]
  },
  {
   "cell_type": "code",
   "execution_count": 1,
   "metadata": {},
   "outputs": [],
   "source": [
    "import requests"
   ]
  },
  {
   "cell_type": "markdown",
   "metadata": {},
   "source": [
    "# Earthquakes anyone?\n",
    "\n",
    "Here's an example of the significant earthquakes from the past week. Information on this API can be found here:\n",
    "\n",
    "http://earthquake.usgs.gov/earthquakes/feed/v1.0/geojson.php \n",
    "\n",
    "This is an example of a really simple API which does not require any authentication. These are rare!\n"
   ]
  },
  {
   "cell_type": "code",
   "execution_count": null,
   "metadata": {},
   "outputs": [],
   "source": []
  },
  {
   "cell_type": "markdown",
   "metadata": {},
   "source": [
    "# Searching iTunes\n",
    "\n",
    "Here's an example of the iTunes search API. I'm searching for \"Bruce Springsteen\" and printing out the track names.\n",
    "\n",
    "This example uses the query string, but it does not require any authentication"
   ]
  },
  {
   "cell_type": "code",
   "execution_count": null,
   "metadata": {},
   "outputs": [],
   "source": []
  },
  {
   "cell_type": "markdown",
   "metadata": {},
   "source": [
    "# Get current exchange rates\n",
    "\n",
    "This example uses http://fixer.io to get the current currency exchange rates. \n",
    "\n",
    "This API demonstrates use of the query string to pass in the API key.\n"
   ]
  },
  {
   "cell_type": "code",
   "execution_count": null,
   "metadata": {},
   "outputs": [],
   "source": []
  },
  {
   "cell_type": "markdown",
   "metadata": {},
   "source": [
    "# Caller Id/ Get a location for a Phone number\n",
    "\n",
    "This uses the cosmin phone number lookup API as found on https://market.mashape.com/explore Mashape is a Web API marketplace / aggregator of API's.\n",
    "\n",
    "This api requires `headers` to be passed into the `get()` request. The API key and the requested output of `json` are sent into the header.\n",
    "\n",
    "Enter a phone number as input like `3154432911` and then the API will output JSON data consisting of caller ID data and GPS coordinates."
   ]
  },
  {
   "cell_type": "code",
   "execution_count": null,
   "metadata": {},
   "outputs": [],
   "source": []
  },
  {
   "cell_type": "markdown",
   "metadata": {},
   "source": [
    "# GeoIP lookup: Find the lat/lng of an IP Address\n",
    "\n",
    "Every computer on the internet has a unique IP Address. http://api.ipstack.com service when given an IP address will return back where that IP Address is located. Pretty handy API which is commonly used with mobile devices to determine approximate location when the GPS is turned off. \n",
    "\n",
    "This example demonstrates URL manipulation, which some API's require."
   ]
  },
  {
   "cell_type": "code",
   "execution_count": null,
   "metadata": {},
   "outputs": [],
   "source": []
  },
  {
   "cell_type": "markdown",
   "metadata": {},
   "source": [
    "## An API for sentiment analysis...\n",
    "\n",
    "Process some text and more here: http://text-processing.com \n",
    "\n",
    "This example shows how to call an API which uses an HTTP POST to send large quantities of data to the service.\n"
   ]
  },
  {
   "cell_type": "code",
   "execution_count": null,
   "metadata": {},
   "outputs": [],
   "source": []
  },
  {
   "cell_type": "markdown",
   "metadata": {
    "collapsed": true
   },
   "source": [
    "# Spotify\n",
    "\n",
    "The spotify example shows you how to call an API which uses the OAUTH2 prococol. **This is a two step process.** The first request, you request a token, and in the second request you call the api with that token. Twitter, Facebook, Google, and many other services use this approach.\n",
    "\n",
    "Typically you will use the **client credentials flow** (https://tools.ietf.org/html/rfc6749#section-4.4), which does not explicitly require the user to consent. \n",
    "https://developer.spotify.com/documentation/general/guides/authorization-guide/\n",
    "\n",
    "API's that use this approach will issue you a client id and a client secret. The id is always the same but the secret may be changed. \n",
    "\n",
    "We use that client id and client secret to get an bearer access token. Notice how we pass into the post a named argument `auth=` which authenticates with the client id/secret.\n",
    "\n",
    "Next we use the bearer access token to make subsequent calls to the api.\n",
    "\n",
    "\n",
    "\n",
    "\n"
   ]
  },
  {
   "cell_type": "code",
   "execution_count": null,
   "metadata": {},
   "outputs": [],
   "source": []
  }
 ],
 "metadata": {
  "anaconda-cloud": {},
  "kernelspec": {
   "display_name": "Python 3",
   "language": "python",
   "name": "python3"
  },
  "language_info": {
   "codemirror_mode": {
    "name": "ipython",
    "version": 3
   },
   "file_extension": ".py",
   "mimetype": "text/x-python",
   "name": "python",
   "nbconvert_exporter": "python",
   "pygments_lexer": "ipython3",
   "version": "3.7.6"
  },
  "toc": {
   "base_numbering": 1,
   "nav_menu": {},
   "number_sections": false,
   "sideBar": false,
   "skip_h1_title": false,
   "title_cell": "Table of Contents",
   "title_sidebar": "Contents",
   "toc_cell": false,
   "toc_position": {},
   "toc_section_display": false,
   "toc_window_display": false
  }
 },
 "nbformat": 4,
 "nbformat_minor": 1
}
