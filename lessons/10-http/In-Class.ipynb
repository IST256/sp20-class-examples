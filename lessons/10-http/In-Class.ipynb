{
 "cells": [
  {
   "cell_type": "code",
   "execution_count": 1,
   "metadata": {},
   "outputs": [],
   "source": [
    "# How to use python requests\n",
    "# https://requests.readthedocs.io/en/master/\n",
    "\n",
    "import requests\n"
   ]
  },
  {
   "cell_type": "code",
   "execution_count": 5,
   "metadata": {},
   "outputs": [],
   "source": [
    "url = \"https://www.syr.edu\"\n",
    "response = requests.get(url)"
   ]
  },
  {
   "cell_type": "code",
   "execution_count": 7,
   "metadata": {},
   "outputs": [
    {
     "data": {
      "text/plain": [
       "200"
      ]
     },
     "execution_count": 7,
     "metadata": {},
     "output_type": "execute_result"
    }
   ],
   "source": [
    "response.status_code"
   ]
  },
  {
   "cell_type": "code",
   "execution_count": 8,
   "metadata": {},
   "outputs": [
    {
     "data": {
      "text/plain": [
       "True"
      ]
     },
     "execution_count": 8,
     "metadata": {},
     "output_type": "execute_result"
    }
   ],
   "source": [
    "response.ok"
   ]
  },
  {
   "cell_type": "code",
   "execution_count": 9,
   "metadata": {},
   "outputs": [
    {
     "data": {
      "text/plain": [
       "'<!DOCTYPE html>\\n<html lang=\"en-US\" prefix=\"og: http://ogp.me/ns#\">\\n<head>\\n<meta charset=\"UTF-8\">\\n<title>Syracuse University - Syracuse.edu</title>\\n<meta name=\"viewport\" content=\"width=device-width, initial-scale=1, viewport-fit=cover\">\\n<link rel=\"profile\" href=\"http://gmpg.org/xfn/11\">\\n<meta name=\"apple-mobile-web-app-title\" content=\"Syracuse.edu\">\\n<link rel=\"manifest\" href=\"https://www.syracuse.edu/wp-content/themes/g6-carbon/manifest.json\">\\n<link rel=\"apple-touch-icon\" href=\"https://www.syracuse.edu/wp-content/themes/g6-carbon/img/favicons/apple-touch-icon.png\">\\n<link rel=\"mask-icon\" href=\"https://www.syracuse.edu/wp-content/themes/g6-carbon/img/favicons/favicon-16.svg\" color=\"#d44500\">\\n<link rel=\"icon\" type=\"image/png\" sizes=\"16x16\" href=\"https://www.syracuse.edu/wp-content/themes/g6-carbon/img/favicons/favicon-16.png\">\\n<link rel=\"icon\" type=\"image/png\" sizes=\"32x32\" href=\"https://www.syracuse.edu/wp-content/themes/g6-carbon/img/favicons/favicon-32.png\">\\n<link rel=\"icon\" type=\"image/png\" sizes=\"96x96\" href=\"https://www.syracuse.edu/wp-content/themes/g6-carbon/img/favicons/favicon-96.png\">\\n<link rel=\"icon\" type=\"image/png\" sizes=\"144x144\" href=\"https://www.syracuse.edu/wp-content/themes/g6-carbon/img/favicons/favicon-144.png\">\\n<link rel=\"icon\" type=\"image/png\" sizes=\"192x192\" href=\"https://www.syracuse.edu/wp-content/themes/g6-carbon/img/favicons/favicon-192.png\">\\n\\n    <script type=\"application/ld+json\">\\n    \\t{\\n    \\t\\t\"@context\": \"https://schema.org\",\\n    \\t\\t\"@graph\": [{\\n    \\t\\t\\t\"@type\": \"EducationalOrganization\",\\n    \\t\\t\\t\"name\": \"Syracuse University\",\\n    \\t\\t\\t\"foundingDate\": \"1870\",\\n    \\t\\t\\t\"url\": \"https://www.syracuse.edu/\",\\n    \\t\\t\\t\"logo\": \"https://www.syracuse.edu/wp-content/themes/g6-carbon/img/favicons/og-image.png\",\\n    \\t\\t\\t\"sameAs\": [\\n    \\t\\t\\t\\t\"https://en.wikipedia.org/wiki/Syracuse_University\",\\n    \\t\\t\\t\\t\"https://twitter.com/SyracuseU\",\\n    \\t\\t\\t\\t\"https://www.facebook.com/syracuseuniversity/\",\\n    \\t\\t\\t\\t\"https://www.instagram.com/syracuseu/\",\\n    \\t\\t\\t\\t\"https://www.youtube.com/user/Syracuse\"\\n    \\t\\t\\t],\\n    \\t\\t\\t\"address\": {\\n    \\t\\t\\t\\t\"@type\": \"PostalAddress\",\\n    \\t\\t\\t\\t\"streetAddress\": \"900 South Crouse Ave.\",\\n    \\t\\t\\t\\t\"addressLocality\": \"Syracuse\",\\n    \\t\\t\\t\\t\"addressRegion\": \"NY\",\\n    \\t\\t\\t\\t\"postalCode\": \"13244\",\\n    \\t\\t\\t\\t\"addressCountry\": \"USA\"\\n    \\t\\t\\t},\\n    \\t\\t\\t\"contactPoint\": {\\n    \\t\\t\\t\\t\"@type\": \"ContactPoint\",\\n    \\t\\t\\t\\t\"telephone\": \"+1-315-443-1870\",\\n    \\t\\t\\t\\t\"contactType\": \"customer service\"\\n    \\t\\t\\t}\\n    \\t\\t}, {\\n    \\t\\t\\t\"@type\": \"WebSite\",\\n    \\t\\t\\t\"url\": \"https://www.syracuse.edu/\",\\n    \\t\\t\\t\"name\": \"Syracuse University\",\\n    \\t\\t\\t\"potentialAction\": {\\n    \\t\\t\\t\\t\"@type\": \"SearchAction\",\\n    \\t\\t\\t\\t\"target\": \"https://www.syracuse.edu/search/?q={search_term_string}\",\\n    \\t\\t\\t\\t\"query-input\": \"required name=search_term_string\"\\n    \\t\\t\\t}\\n    \\t\\t}]\\n    \\t}\\n    </script>\\n\\t\\t\\n      <meta name=\"description\" content=\"Syracuse University, founded in 1870 and comprised of thirteen schools and colleges, is a private research university in the heart of New York State.\" />\\n      <meta name=\"twitter:card\" content=\"summary\" />\\n      <meta name=\"twitter:site\" content=\"@syracuseu\" />\\n      <meta property=\"og:url\" content=\"https://www.syracuse.edu/\" />\\n      <meta property=\"og:title\" content=\"Syracuse University\" />\\n      <meta property=\"og:description\" content=\"Syracuse University, founded in 1870 and comprised of thirteen schools and colleges, is a private research university in the heart of New York State.\" />\\n      <meta property=\"og:image\" content=\"https://www.syracuse.edu/wp-content/uploads/Coronavirus-Announcement-1600x1067.jpg\" />\\n      <meta name=\"twitter:image:alt\" content=\"Coronavirus rendering\" />\\n    <!-- Google Tag Manager -->\\n<script>(function(w,d,s,l,i){w[l]=w[l]||[];w[l].push({\\'gtm.start\\':\\nnew Date().getTime(),event:\\'gtm.js\\'});var f=d.getElementsByTagName(s)[0],\\nj=d.createElement(s),dl=l!=\\'dataLayer\\'?\\'&l=\\'+l:\\'\\';j.async=true;j.src=\\n\\'https://www.googletagmanager.com/gtm.js?id=\\'+i+dl;f.parentNode.insertBefore(j,f);\\n})(window,document,\\'script\\',\\'dataLayer\\',\\'GTM-5FC97GL\\');</script>\\n<!-- End Google Tag Manager -->\\n<link rel=\\'dns-prefetch\\' href=\\'//www.google.com\\' />\\n<link rel=\\'dns-prefetch\\' href=\\'//ajax.googleapis.com\\' />\\n<link rel=\\'dns-prefetch\\' href=\\'//cse.google.com\\' />\\n<link rel=\\'dns-prefetch\\' href=\\'//s.w.org\\' />\\n\\t\\t<script type=\"text/javascript\">\\n\\t\\t\\twindow._wpemojiSettings = {\"baseUrl\":\"https:\\\\/\\\\/s.w.org\\\\/images\\\\/core\\\\/emoji\\\\/12.0.0-1\\\\/72x72\\\\/\",\"ext\":\".png\",\"svgUrl\":\"https:\\\\/\\\\/s.w.org\\\\/images\\\\/core\\\\/emoji\\\\/12.0.0-1\\\\/svg\\\\/\",\"svgExt\":\".svg\",\"source\":{\"concatemoji\":\"https:\\\\/\\\\/www.syracuse.edu\\\\/wp-includes\\\\/js\\\\/wp-emoji-release.min.js?ver=619f7aba63fd92db1dc6d3843c7b1a93\"}};\\n\\t\\t\\t!function(e,a,t){var r,n,o,i,p=a.createElement(\"canvas\"),s=p.getContext&&p.getContext(\"2d\");function c(e,t){var a=String.fromCharCode;s.clearRect(0,0,p.width,p.height),s.fillText(a.apply(this,e),0,0);var r=p.toDataURL();return s.clearRect(0,0,p.width,p.height),s.fillText(a.apply(this,t),0,0),r===p.toDataURL()}function l(e){if(!s||!s.fillText)return!1;switch(s.textBaseline=\"top\",s.font=\"600 32px Arial\",e){case\"flag\":return!c([127987,65039,8205,9895,65039],[127987,65039,8203,9895,65039])&&(!c([55356,56826,55356,56819],[55356,56826,8203,55356,56819])&&!c([55356,57332,56128,56423,56128,56418,56128,56421,56128,56430,56128,56423,56128,56447],[55356,57332,8203,56128,56423,8203,56128,56418,8203,56128,56421,8203,56128,56430,8203,56128,56423,8203,56128,56447]));case\"emoji\":return!c([55357,56424,55356,57342,8205,55358,56605,8205,55357,56424,55356,57340],[55357,56424,55356,57342,8203,55358,56605,8203,55357,56424,55356,57340])}return!1}function d(e){var t=a.createElement(\"script\");t.src=e,t.defer=t.type=\"text/javascript\",a.getElementsByTagName(\"head\")[0].appendChild(t)}for(i=Array(\"flag\",\"emoji\"),t.supports={everything:!0,everythingExceptFlag:!0},o=0;o<i.length;o++)t.supports[i[o]]=l(i[o]),t.supports.everything=t.supports.everything&&t.supports[i[o]],\"flag\"!==i[o]&&(t.supports.everythingExceptFlag=t.supports.everythingExceptFlag&&t.supports[i[o]]);t.supports.everythingExceptFlag=t.supports.everythingExceptFlag&&!t.supports.flag,t.DOMReady=!1,t.readyCallback=function(){t.DOMReady=!0},t.supports.everything||(n=function(){t.readyCallback()},a.addEventListener?(a.addEventListener(\"DOMContentLoaded\",n,!1),e.addEventListener(\"load\",n,!1)):(e.attachEvent(\"onload\",n),a.attachEvent(\"onreadystatechange\",function(){\"complete\"===a.readyState&&t.readyCallback()})),(r=t.source||{}).concatemoji?d(r.concatemoji):r.wpemoji&&r.twemoji&&(d(r.twemoji),d(r.wpemoji)))}(window,document,window._wpemojiSettings);\\n\\t\\t</script>\\n\\t\\t<style type=\"text/css\">\\nimg.wp-smiley,\\nimg.emoji {\\n\\tdisplay: inline !important;\\n\\tborder: none !important;\\n\\tbox-shadow: none !important;\\n\\theight: 1em !important;\\n\\twidth: 1em !important;\\n\\tmargin: 0 .07em !important;\\n\\tvertical-align: -0.1em !important;\\n\\tbackground: none !important;\\n\\tpadding: 0 !important;\\n}\\n</style>\\n\\t<link rel=\\'stylesheet\\' id=\\'wp-block-library-css\\'  href=\\'https://www.syracuse.edu/wp-includes/css/dist/block-library/style.min.css?ver=619f7aba63fd92db1dc6d3843c7b1a93\\' type=\\'text/css\\' media=\\'all\\' />\\n<link rel=\\'stylesheet\\' id=\\'g6-carbon-style-css-css\\'  href=\\'https://www.syracuse.edu/wp-content/themes/g6-carbon/style.css?ver=6.5.3-1582121512509\\' type=\\'text/css\\' media=\\'all\\' />\\n<link rel=\\'stylesheet\\' id=\\'g6-carbon-style-homepage-css\\'  href=\\'https://www.syracuse.edu/wp-content/themes/g6-carbon/css/homepage.css?ver=6.5.3-1582121512509\\' type=\\'text/css\\' media=\\'all\\' />\\n<link rel=\\'stylesheet\\' id=\\'g6-carbon-style-special-css\\'  href=\\'https://www.syracuse.edu/wp-content/themes/g6-carbon/css/special.css?ver=6.5.3-1582121512509\\' type=\\'text/css\\' media=\\'all\\' />\\n<link rel=\\'stylesheet\\' id=\\'g6-carbon-style-print-css\\'  href=\\'https://www.syracuse.edu/wp-content/themes/g6-carbon/css/print.css?ver=6.5.3-1582121512509\\' type=\\'text/css\\' media=\\'print\\' />\\n<link rel=\\'https://api.w.org/\\' href=\\'https://www.syracuse.edu/wp-json/\\' />\\n\\n<link rel=\"alternate\" type=\"application/json+oembed\" href=\"https://www.syracuse.edu/wp-json/oembed/1.0/embed?url=https%3A%2F%2Fwww.syracuse.edu%2Fhome%2Fmarch-16%2F\" />\\n<link rel=\"alternate\" type=\"text/xml+oembed\" href=\"https://www.syracuse.edu/wp-json/oembed/1.0/embed?url=https%3A%2F%2Fwww.syracuse.edu%2Fhome%2Fmarch-16%2F&#038;format=xml\" />\\n<script type=\"text/javascript\">\\n(function(url){\\n\\tif(/(?:Chrome\\\\/26\\\\.0\\\\.1410\\\\.63 Safari\\\\/537\\\\.31|WordfenceTestMonBot)/.test(navigator.userAgent)){ return; }\\n\\tvar addEvent = function(evt, handler) {\\n\\t\\tif (window.addEventListener) {\\n\\t\\t\\tdocument.addEventListener(evt, handler, false);\\n\\t\\t} else if (window.attachEvent) {\\n\\t\\t\\tdocument.attachEvent(\\'on\\' + evt, handler);\\n\\t\\t}\\n\\t};\\n\\tvar removeEvent = function(evt, handler) {\\n\\t\\tif (window.removeEventListener) {\\n\\t\\t\\tdocument.removeEventListener(evt, handler, false);\\n\\t\\t} else if (window.detachEvent) {\\n\\t\\t\\tdocument.detachEvent(\\'on\\' + evt, handler);\\n\\t\\t}\\n\\t};\\n\\tvar evts = \\'contextmenu dblclick drag dragend dragenter dragleave dragover dragstart drop keydown keypress keyup mousedown mousemove mouseout mouseover mouseup mousewheel scroll\\'.split(\\' \\');\\n\\tvar logHuman = function() {\\n\\t\\tif (window.wfLogHumanRan) { return; }\\n\\t\\twindow.wfLogHumanRan = true;\\n\\t\\tvar wfscr = document.createElement(\\'script\\');\\n\\t\\twfscr.type = \\'text/javascript\\';\\n\\t\\twfscr.async = true;\\n\\t\\twfscr.src = url + \\'&r=\\' + Math.random();\\n\\t\\t(document.getElementsByTagName(\\'head\\')[0]||document.getElementsByTagName(\\'body\\')[0]).appendChild(wfscr);\\n\\t\\tfor (var i = 0; i < evts.length; i++) {\\n\\t\\t\\tremoveEvent(evts[i], logHuman);\\n\\t\\t}\\n\\t};\\n\\tfor (var i = 0; i < evts.length; i++) {\\n\\t\\taddEvent(evts[i], logHuman);\\n\\t}\\n})(\\'//www.syracuse.edu/?wordfence_lh=1&hid=A71A91F92BEED1115D006B6B4313C8B3\\');\\n</script><style type=\"text/css\">.recentcomments a{display:inline !important;padding:0 !important;margin:0 !important;}</style>\\t\\t<style type=\"text/css\" id=\"wp-custom-css\">\\n\\t\\t\\t.post-type-archive-story .non-featured-posts article,\\n.post-type-archive-story .all-posts article,\\nmain article.carbon-featured-item,\\nmain article.carbon-archive-item {\\n  padding-bottom: 0;\\n}\\n\\n@media screen and (min-width: 55em) {\\n  main.has-sidebar {\\n    display: block;\\n  }\\n}\\n\\n.grecaptcha-badge {\\n\\tdisplay: none;\\n}\\t\\t</style>\\n\\t\\t<link rel=\"canonical\" href=\"https://www.syracuse.edu/\"><style>\\n\\t\\t\\t\\t@media screen and (min-height: 38em) and (min-width: 45em) {\\n\\t\\t\\t\\t\\t#banner-card .sizer {\\n\\t\\t\\t\\t\\t\\tmax-width: 35em;\\n\\t\\t\\t\\t\\t}\\n\\t\\t\\t\\t}\\n\\t\\t\\t\\t@media screen and (min-height: 38em) and (min-width: 73em) {\\n\\t\\t\\t\\t  #banner-card .sizer {\\n\\t\\t\\t\\t    max-width: 35em;\\n\\t\\t\\t\\t  }\\n\\t\\t\\t\\t}\\n\\t\\t\\t\\t.hero #banner {\\n\\t\\t\\t\\t\\tbackground-image: url(\\'https://www.syracuse.edu/wp-content/uploads/Coronavirus-Announcement-800x533.jpg\\');\\n\\t\\t\\t\\t}\\n\\t\\t\\t\\t@media screen and (min-width: 62.5em),\\n\\t\\t\\t\\t\\tscreen and (min-width: 31.25em) and (-webkit-min-device-pixel-ratio: 2),\\n\\t\\t\\t\\t\\tscreen and (min-width: 31.25em) and (min-resolution: 192dpi) {\\n\\t\\t\\t\\t\\t\\t.hero #banner {\\n\\t\\t\\t\\t\\t\\t\\tbackground-image: url(\\'https://www.syracuse.edu/wp-content/uploads/Coronavirus-Announcement-1100x733.jpg\\');\\n\\t\\t\\t\\t\\t}\\n\\t\\t\\t\\t}\\n\\t\\t\\t\\t@media screen and (min-width: 86em),\\n\\t\\t\\t\\t\\tscreen and (min-width: 43em) and (-webkit-min-device-pixel-ratio: 2),\\n\\t\\t\\t\\t\\tscreen and (min-width: 43em) and (min-resolution: 192dpi) {\\n\\t\\t\\t\\t\\t\\t.hero #banner {\\n\\t\\t\\t\\t\\t\\t\\tbackground-image: url(\\'https://www.syracuse.edu/wp-content/uploads/Coronavirus-Announcement-1600x1067.jpg\\');\\n\\t\\t\\t\\t\\t}\\n\\t\\t\\t\\t}\\n\\t\\t\\t\\t@media screen and (min-width: 125em),\\n\\t\\t\\t\\t\\tscreen and (min-width: 62.5em) and (-webkit-min-device-pixel-ratio: 2),\\n\\t\\t\\t\\t\\tscreen and (min-width: 62.5em) and (min-resolution: 192dpi),\\n\\t\\t\\t\\t\\tscreen and (min-width: 86em) and (min-height: 125em),\\n\\t\\t\\t\\t\\tscreen and (min-width: 43em) and (min-height: 62.5em) and (-webkit-min-device-pixel-ratio: 2),\\n\\t\\t\\t\\t\\tscreen and (min-width: 43em) and (min-height: 62.5em) and (min-resolution: 192dpi) {\\n\\t\\t\\t\\t\\t\\t.hero #banner {\\n\\t\\t\\t\\t\\t\\t\\tbackground-image: url(\\'https://www.syracuse.edu/wp-content/uploads/Coronavirus-Announcement-2200x1467.jpg\\');\\n\\t\\t\\t\\t\\t}\\n\\t\\t\\t\\t}\\n\\t\\t\\t</style>\\n</head>\\n<body class=\"home page-template-default page page-id-322 page-homepage\" >\\n\\n<!-- Google Tag Manager (noscript) -->\\n<noscript class=\"gtm-noscript\"><iframe src=\"https://www.googletagmanager.com/ns.html?id=GTM-5FC97GL\"\\nheight=\"0\" width=\"0\" style=\"display:none;visibility:hidden\"></iframe></noscript>\\n<!-- End Google Tag Manager (noscript) -->\\n<div id=\"page\" class=\"site\">\\n\\t<div id=\"orange-alert\" class=\"alert-bar\"></div>\\n\\t<div class=\"alert-bar privacy-notice\">\\n  <div class=\"container\">\\n    <div class=\"cell alert\">\\n      <p>By continuing to use this site, you agree to the use of cookies in accordance with our <a href=\"https://www.syracuse.edu/about/site/privacy-policy/\">privacy policy</a>.</p>\\n    </div>\\n    <div class=\"cell btn\">\\n      <button type=\"button\" class=\"close js-dismiss-privacy-notice\" aria-label=\"Dismiss privacy notice\">Dismiss</button>\\n    </div>\\n  </div>\\n</div>\\t\\t\\t<header id=\"header\" role=\"banner\">\\n\\t  <div id=\"header-inner\">\\n\\t    <div id=\"header-row-1\">\\n\\t      <div class=\"header-table-cell\" id=\"header-branding\">\\n\\t      \\t<a id=\"header-skip-header\" href=\"#content\">Skip to Content</a>\\n\\t        <h1><a href=\"/\"><picture><source srcset=\"https://www.syracuse.edu/wp-content/themes/g6-carbon/img/syracuse-university.svg?ver=6.5.3\" media=\"(min-width: 370px)\"><img srcset=\"https://www.syracuse.edu/wp-content/themes/g6-carbon/img/syracuse-university-2line.svg?ver=6.5.3\" alt=\"Syracuse University Home\"></picture></a></h1>\\n\\t      </div>\\n\\t      <div class=\"header-table-cell\" id=\"header-menu-button\">\\n\\t\\t\\t\\t\\t<button aria-haspopup=\"true\" aria-label=\"Browse all pages\" data-mdown=\"0\">Open menu</button>\\n\\t\\t\\t\\t</div>\\n\\t      <div class=\"header-table-cell\" id=\"header-nav-top\">\\n\\t\\t\\t\\t\\t<div id=\"header-nav-top-container\">\\n\\t\\t        <ul role=\"navigation\" aria-label=\"Syracuse browse categories\">\\n\\t\\t\\t\\t\\t\\t\\t\\t\\t\\t\\t\\t\\t\\t\\t<li><a href=\"https://www.syracuse.edu/about/\">About</a></li>\\n\\t\\t\\t\\t\\t\\t\\t\\t\\t\\t\\t\\t\\t\\t\\t<li><a href=\"https://www.syracuse.edu/admissions/\">Admissions</a></li>\\n\\t\\t\\t\\t\\t\\t\\t\\t\\t\\t\\t\\t\\t\\t\\t<li><a href=\"https://www.syracuse.edu/academics/\">Academics</a></li>\\n\\t\\t\\t\\t\\t\\t\\t\\t\\t\\t\\t\\t\\t\\t\\t<li><a href=\"https://www.syracuse.edu/life/\">Life</a></li>\\n\\t\\t\\t\\t\\t\\t\\t\\t\\t\\t\\t\\t\\t\\t\\t<li><a href=\"http://cuse.com/\">Athletics</a></li>\\n\\t\\t\\t\\t\\t\\t\\t\\t\\t\\t\\t\\t\\t\\t<li id=\"header-link-more\"><button aria-haspopup=\"true\" aria-label=\"Browse all pages\" data-mdown=\"0\">More</button></li>\\n\\t\\t        </ul>\\n\\t\\t\\t\\t\\t</div>\\n\\t      </div>\\n\\t      <div class=\"header-table-cell\" id=\"header-search\">\\n\\t\\t\\t\\t\\t<div class=\"aux-border\">\\n\\t\\t\\t\\t\\t\\t<form id=\"header-search-form\" onsubmit=\"return false;\" role=\"search\">\\n\\t\\t\\t\\t\\t\\t\\t<label for=\"header-search-input\" class=\"carbon_hidden_label\">Search the University</label>\\n\\t\\t\\t\\t\\t\\t\\t<input id=\"header-search-input\" class=\"placeholder-shown\" type=\"text\" name=\"q\" autocomplete=\"off\" placeholder=\"Search the University...\">\\n\\t\\t\\t\\t\\t\\t\\t<input type=\"submit\" value=\"Search\" aria-label=\"Submit University site search query\">\\n\\t\\t\\t\\t\\t\\t</form>\\n\\t\\t\\t\\t\\t</div>\\n\\t\\t\\t\\t</div>\\n\\t      <div class=\"header-table-cell\" id=\"header-search-toggle\">\\n\\t\\t\\t\\t\\t<button>Open search</button>\\n\\t\\t\\t\\t</div>\\n\\t\\t\\t\\t<nav id=\"g6-uni-header-search-drop\" class=\"g6-uni-search-open\">\\n\\t\\t\\t\\t  <div id=\"g6-uni-header-search-popular\" class=\"g6-uni-row\" style=\"display: block;\">\\n\\t\\t\\t\\t    <strong>Popular searches</strong>\\n\\t\\t\\t\\t\\t\\t<ol id=\"g6-uni-header-search-queries\" role=\"navigation\" aria-label=\"Popular searches\" style=\"display: block;\"></ol>\\n\\t\\t\\t\\t  </div>\\n\\t\\t\\t\\t\\t<div id=\"header-search-people\">\\n\\t\\t\\t\\t\\t\\t<a href=\"http://directory.syr.edu/\">Search people (directory)</a>\\n\\t\\t\\t\\t\\t\\t<div style=\"position: absolute; left: -10000px\"><button class=\"go-to-quick-nav\">Go to quick nav</button></div>\\t\\t\\t\\t\\t</div>\\n\\t\\t\\t\\t</nav>\\n\\t    </div>\\n\\t  </div>\\n\\t\\t<nav id=\"g6-uni-header-menu\" role=\"navigation\" aria-label=\"Browse all pages menu\">\\n\\t    <div id=\"g6-uni-header-menu-header\">\\n\\t\\t\\t\\t<a href=\"/\"><picture class=\"wordmark\">\\n\\t\\t\\t\\t\\t<source srcset=\"https://www.syracuse.edu/wp-content/themes/g6-carbon/img/syracuse-university-2line.svg\" media=\"(min-width: 720px)\">\\n\\t\\t\\t\\t\\t<source srcset=\"https://www.syracuse.edu/wp-content/themes/g6-carbon/img/syracuse-university.svg\" media=\"(min-width: 370px)\">\\n\\t\\t\\t\\t\\t<img srcset=\"https://www.syracuse.edu/wp-content/themes/g6-carbon/img/syracuse-university-2line.svg\" alt=\"Syracuse University Home\">\\n\\t\\t\\t\\t</picture></a>\\n\\t      <button id=\"g6-uni-header-menu-close\" data-mdown=\"0\">Close menu</button>\\n\\t    </div>\\n      <ol id=\"g6-uni-header-menu-main\">\\n\\t\\t\\t\\t<li id=\"menu-home\" class=\"active\"><a id=\"menu-toggle-home\" class=\"menu-toggle\" data-menu=\"home\" data-mdown=\"0\" href=\"javascript:void(0);\" aria-label=\"Home menu\">Home</a>\\n<ol>\\n\\t<li><a href=\"https://www.syracuse.edu/about/\">About</a>\\n\\t<button class=\"drawer-button\">Toggle dropdown</button>\\n\\n\\t<ol>\\n\\t\\t<li><a href=\"https://www.syracuse.edu/about/leadership/\">Leadership</a></li>\\n\\t\\t<li><a href=\"https://www.syracuse.edu/about/vision-mission/\">Vision &#038; Mission</a></li>\\n\\t\\t<li><a href=\"https://www.syracuse.edu/about/consumer-information/\">Consumer Information</a></li>\\n\\t\\t<li><a href=\"https://www.syracuse.edu/about/facts-figures-rankings/\">Facts &#038; Figures</a></li>\\n\\t\\t<li><a href=\"https://www.syracuse.edu/about/visit/\">Plan Your Visit</a></li>\\n\\t\\t<li><a href=\"https://www.syracuse.edu/about/map/\">Campus Map</a></li>\\n\\t\\t<li><a href=\"https://www.syracuse.edu/about/campus-shuttle/\">Campus Shuttle</a></li>\\n\\t\\t<li><a href=\"https://www.syracuse.edu/about/history/\">History</a></li>\\n\\t\\t<li><a href=\"https://www.syracuse.edu/about/news/\">News &#038; Magazine</a></li>\\n\\t\\t<li><a href=\"https://www.syracuse.edu/about/partnerships/\">Partnerships</a></li>\\n\\t\\t<li><a href=\"https://www.syracuse.edu/about/work-at-syracuse/\">Work at Syracuse</a></li>\\n\\t\\t<li><a href=\"https://www.syracuse.edu/about/social-media/\">Social Media</a></li>\\n\\t\\t<li><a href=\"https://www.syracuse.edu/about/bookstore/\">Bookstore</a></li>\\n\\t\\t<li><a href=\"https://www.syracuse.edu/about/brand/\">Brand</a></li>\\n\\t\\t<li><a href=\"https://www.syracuse.edu/about/contact/\">Help &#038; Contacts</a></li>\\n\\t</ol>\\n</li>\\n\\t<li><a href=\"https://www.syracuse.edu/admissions/\">Admissions</a>\\n\\t<button class=\"drawer-button\">Toggle dropdown</button>\\n\\n\\t<ol>\\n\\t\\t<li><a href=\"https://www.syracuse.edu/admissions/undergraduate/\">Undergraduate</a></li>\\n\\t\\t<li><a href=\"https://www.syracuse.edu/admissions/graduate/\">Graduate</a></li>\\n\\t\\t<li><a href=\"https://www.syracuse.edu/admissions/part-time/\">Part-Time</a></li>\\n\\t\\t<li><a href=\"https://www.syracuse.edu/admissions/cost-and-aid/\">Cost &#038; Aid</a></li>\\n\\t\\t<li><a href=\"https://www.syracuse.edu/admissions/request-information/\">Request Information</a></li>\\n\\t\\t<li><a href=\"https://www.syracuse.edu/admissions/visit-tour/\">Visit &#038; Tour</a></li>\\n\\t\\t<li><a href=\"https://www.syracuse.edu/admissions/apply/\">Apply</a></li>\\n\\t</ol>\\n</li>\\n\\t<li><a href=\"https://www.syracuse.edu/academics/\">Academics</a>\\n\\t<button class=\"drawer-button\">Toggle dropdown</button>\\n\\n\\t<ol>\\n\\t\\t<li><a href=\"https://www.syracuse.edu/academics/schools-colleges/\">Schools &#038; Colleges</a></li>\\n\\t\\t<li><a href=\"https://www.syracuse.edu/academics/undergraduate-majors-minors/\">Undergraduate Majors &#038; Minors</a></li>\\n\\t\\t<li><a href=\"https://www.syracuse.edu/academics/graduate-programs/\">Graduate Degrees</a></li>\\n\\t\\t<li><a href=\"https://www.syracuse.edu/academics/study-abroad/\">Study Abroad</a></li>\\n\\t\\t<li><a href=\"https://www.syracuse.edu/academics/opportunities/\">Opportunities &#038; Support</a></li>\\n\\t\\t<li><a href=\"https://www.syracuse.edu/academics/calendars/\">Calendars</a></li>\\n\\t\\t<li><a href=\"https://www.syracuse.edu/academics/departments/\">Departments</a></li>\\n\\t\\t<li><a href=\"https://www.syracuse.edu/academics/research/\">Research</a></li>\\n\\t\\t<li><a href=\"https://www.syracuse.edu/academics/centers-institutes/\">Centers &#038; Institutes</a></li>\\n\\t\\t<li><a href=\"https://www.syracuse.edu/academics/libraries-collections-galleries/\">Libraries, Collections &#038; Galleries</a></li>\\n\\t\\t<li><a href=\"https://www.syracuse.edu/academics/administration/\">Academic Administration</a></li>\\n\\t</ol>\\n</li>\\n\\t<li><a href=\"https://www.syracuse.edu/life/\">Life</a>\\n\\t<button class=\"drawer-button\">Toggle dropdown</button>\\n\\n\\t<ol>\\n\\t\\t<li><a href=\"https://www.syracuse.edu/life/accessibility-diversity/\">Accessibility &#038; Diversity</a></li>\\n\\t\\t<li><a href=\"https://www.syracuse.edu/life/campus-highlights/\">Campus Highlights</a></li>\\n\\t\\t<li><a href=\"https://www.syracuse.edu/life/events-calendar/\">Events Calendar</a></li>\\n\\t\\t<li><a href=\"https://www.syracuse.edu/life/services-support/\">Services &#038; Support</a></li>\\n\\t\\t<li><a href=\"https://www.syracuse.edu/life/meals-dining/\">Meals &#038; Dining</a></li>\\n\\t\\t<li><a href=\"https://www.syracuse.edu/life/housing/\">Housing</a></li>\\n\\t\\t<li><a href=\"https://www.syracuse.edu/life/groups-activities/\">Groups &#038; Activities</a></li>\\n\\t\\t<li><a href=\"https://www.syracuse.edu/life/recreation/\">Recreation &#038; Facilities</a></li>\\n\\t\\t<li><a href=\"https://www.syracuse.edu/life/students/\">For Students</a></li>\\n\\t\\t<li><a href=\"https://www.syracuse.edu/life/veterans-military/\">For Veterans &#038; Military</a></li>\\n\\t\\t<li><a href=\"https://www.syracuse.edu/life/faculty-staff/\">For Faculty &#038; Staff</a></li>\\n\\t\\t<li><a href=\"https://www.syracuse.edu/life/parents/\">For Parents &#038; Families</a></li>\\n\\t</ol>\\n</li>\\n\\t<li><a href=\"https://www.syracuse.edu/a-z/\">A-Z Index</a></li>\\n\\t<li><a href=\"https://www.syracuse.edu/sitemap/\">Sitemap</a></li>\\n\\t<li><a href=\"https://www.syracuse.edu/login/\">Login</a></li>\\n</ol>\\n</li>\\n<li id=\"menu-athletics\"><a id=\"menu-toggle-athletics\" class=\"menu-toggle\" data-menu=\"athletics\" data-mdown=\"0\" href=\"javascript:void(0);\" aria-label=\"Athletics menu\">Athletics</a>\\n<ol>\\n\\t<li><a href=\"https://www.syracuse.edu/search/?r=athletics&q=men%E2%80%99s+sports\">Men&#8217;s Sports</a>\\n\\t<button class=\"drawer-button\">Toggle dropdown</button>\\n\\n\\t<ol>\\n\\t\\t<li><a href=\"http://cuse.com/index.aspx?path=mbasket\">Basketball</a></li>\\n\\t\\t<li><a href=\"http://cuse.com/index.aspx?path=ccountry\">Cross Country</a></li>\\n\\t\\t<li><a href=\"http://cuse.com/index.aspx?path=football\">Football</a></li>\\n\\t\\t<li><a href=\"http://cuse.com/index.aspx?path=mlacrosse\">Lacrosse</a></li>\\n\\t\\t<li><a href=\"http://cuse.com/index.aspx?path=crew\">Rowing</a></li>\\n\\t\\t<li><a href=\"http://cuse.com/index.aspx?path=msoccer\">Soccer</a></li>\\n\\t\\t<li><a href=\"http://cuse.com/index.aspx?path=trun\">Track and Field</a></li>\\n\\t</ol>\\n</li>\\n\\t<li><a href=\"https://www.syracuse.edu/search/?r=athletics&q=women%E2%80%99s+sports\">Women&#8217;s Sports</a>\\n\\t<button class=\"drawer-button\">Toggle dropdown</button>\\n\\n\\t<ol>\\n\\t\\t<li><a href=\"http://cuse.com/schedule.aspx?path=wbasket\">Basketball</a></li>\\n\\t\\t<li><a href=\"http://cuse.com/index.aspx?path=ccountry\">Cross Country</a></li>\\n\\t\\t<li><a href=\"http://cuse.com/index.aspx?path=fhockey\">Field Hockey</a></li>\\n\\t\\t<li><a href=\"http://cuse.com/index.aspx?path=wice\">Ice Hockey</a></li>\\n\\t\\t<li><a href=\"http://cuse.com/index.aspx?path=wlacrosse\">Lacrosse</a></li>\\n\\t\\t<li><a href=\"http://cuse.com/index.aspx?path=rowing\">Rowing</a></li>\\n\\t\\t<li><a href=\"http://cuse.com/index.aspx?path=wsoccer\">Soccer</a></li>\\n\\t\\t<li><a href=\"http://cuse.com/index.aspx?path=softball\">Softball</a></li>\\n\\t\\t<li><a href=\"http://cuse.com/index.aspx?path=tennis\">Tennis</a></li>\\n\\t\\t<li><a href=\"http://cuse.com/index.aspx?path=trun\">Track and Field</a></li>\\n\\t\\t<li><a href=\"http://cuse.com/index.aspx?path=vball\">Volleyball</a></li>\\n\\t</ol>\\n</li>\\n\\t<li><a href=\"https://cuse.com/sports/2018/3/9/syracuse-athletics-mission-statement.aspx\">Athletics Dept.</a>\\n\\t<button class=\"drawer-button\">Toggle dropdown</button>\\n\\n\\t<ol>\\n\\t\\t<li><a href=\"http://cuse.com/facilities/facilities.aspx\">Facilities</a></li>\\n\\t\\t<li><a href=\"http://cuse.com/staff.aspx\">Staff Directory</a></li>\\n\\t\\t<li><a href=\"http://cuse.com/sports/2001/8/7/recognition.aspx\">Academic Honors</a></li>\\n\\t\\t<li><a href=\"http://cuse.com/sports/2006/9/20/communityservicemainpage.aspx\">Community Service</a></li>\\n\\t\\t<li><a href=\"http://cuse.com/sports/2011/5/11/Spirit_Program.aspx\">Spirit Program</a></li>\\n\\t\\t<li><a href=\"http://cuse.com/sports/2015/9/22/varsityclub.aspx\">Varsity Club</a></li>\\n\\t\\t<li><a href=\"http://www.cuse.com/sports/2003/10/11/sportsmedinice.aspx\">Sports Medicine</a></li>\\n\\t\\t<li><a href=\"http://www.cuse.com/sports/2006/12/21/SUNationalChampions.aspx\">Championships</a></li>\\n\\t</ol>\\n</li>\\n\\t<li><a href=\"https://contests.cuse.com/\">Fan Zone</a>\\n\\t<button class=\"drawer-button\">Toggle dropdown</button>\\n\\n\\t<ol>\\n\\t\\t<li><a href=\"http://www.carrierdome.com/calendar.aspx?vwcal=1\">Dome Schedule</a></li>\\n\\t\\t<li><a href=\"http://syracusebasketball.io-media.com/web/index.html\">Seating Information</a></li>\\n\\t\\t<li><a href=\"http://www.cuse.com/watch/?Live=3618\">Orange All Access</a></li>\\n\\t\\t<li><a href=\"http://cuse.com/sports/2016/4/22/ottos-kids-club.aspx\">Otto&#8217;s Kids Club</a></li>\\n\\t\\t<li><a href=\"http://cuse.com/galleries/\">Game Photos</a></li>\\n\\t\\t<li><a href=\"http://cuse.com/sports/2009/2/4/GEN_0204093552.aspx\">Promotions</a></li>\\n\\t\\t<li><a href=\"http://cuse.com/sports/2012/9/18/club44.aspx\">Orange Club</a></li>\\n\\t</ol>\\n</li>\\n\\t<li><a href=\"http://cuse.com/calendar.aspx\">Schedules</a></li>\\n\\t<li><a href=\"http://cuse.com/archives.aspx\">News</a></li>\\n</ol>\\n</li>\\n<li id=\"menu-alumni\"><a id=\"menu-toggle-alumni\" class=\"menu-toggle\" data-menu=\"alumni\" data-mdown=\"0\" href=\"javascript:void(0);\" aria-label=\"Alumni menu\">Alumni</a>\\n<ol>\\n\\t<li><a href=\"http://cusecommunity.syr.edu/s/1632/17/interior.aspx?sid=1632&gid=2&pgid=2220\">About</a>\\n\\t<button class=\"drawer-button\">Toggle dropdown</button>\\n\\n\\t<ol>\\n\\t\\t<li><a href=\"http://cusecommunity.syr.edu/s/1632/17/interior.aspx?sid=1632&gid=2&pgid=2226\">Notable Alumni</a></li>\\n\\t\\t<li><a href=\"http://cusecommunity.syr.edu/s/1632/17/interior.aspx?sid=1632&gid=2&pgid=2214\">Alumni Association</a></li>\\n\\t\\t<li><a href=\"http://cusecommunity.syr.edu/s/1632/17/interior.aspx?sid=1632&gid=2&pgid=2245\">Awards</a></li>\\n\\t\\t<li><a href=\"https://news.syr.edu/topics/alumni/\">News</a></li>\\n\\t</ol>\\n</li>\\n\\t<li><a href=\"http://cusecommunity.syr.edu/clubs\">Events and Clubs</a>\\n\\t<button class=\"drawer-button\">Toggle dropdown</button>\\n\\n\\t<ol>\\n\\t\\t<li><a href=\"http://orangecentral.syr.edu/\">Orange Central</a></li>\\n\\t\\t<li><a href=\"http://cusecommunity.syr.edu/clubs-northeast\">Northeast</a></li>\\n\\t\\t<li><a href=\"http://cusecommunity.syr.edu/clubs-midwest\">Midwest</a></li>\\n\\t\\t<li><a href=\"http://cusecommunity.syr.edu/clubs-south\">South</a></li>\\n\\t\\t<li><a href=\"http://cusecommunity.syr.edu/clubs-west\">West</a></li>\\n\\t\\t<li><a href=\"http://cusecommunity.syr.edu/clubs-other\">World/Affinity</a></li>\\n\\t</ol>\\n</li>\\n\\t<li><a href=\"http://cusecommunity.syr.edu/s/1632/17/interior.aspx?sid=1632&gid=2&pgid=2227\">Regions</a>\\n\\t<button class=\"drawer-button\">Toggle dropdown</button>\\n\\n\\t<ol>\\n\\t\\t<li><a href=\"http://atlanta.syr.edu/\">Atlanta</a></li>\\n\\t\\t<li><a href=\"http://boston.syr.edu/\">Boston</a></li>\\n\\t\\t<li><a href=\"http://chicago.syr.edu/\">Chicago</a></li>\\n\\t\\t<li><a href=\"http://la.syr.edu/\">Los Angeles</a></li>\\n\\t\\t<li><a href=\"http://middleeast.syr.edu/\">Middle East</a></li>\\n\\t\\t<li><a href=\"http://nyc.syr.edu/\">New York</a></li>\\n\\t\\t<li><a href=\"http://sf.syr.edu/\">San Francisco</a></li>\\n\\t\\t<li><a href=\"http://dc.syr.edu/\">Washington, DC</a></li>\\n\\t</ol>\\n</li>\\n\\t<li><a href=\"http://cusecommunity.syr.edu/s/1632/17/interior.aspx?sid=1632&gid=2&pgid=2240\">Services</a>\\n\\t<button class=\"drawer-button\">Toggle dropdown</button>\\n\\n\\t<ol>\\n\\t\\t<li><a href=\"http://cusecommunity.syr.edu/s/1632/17/interior.aspx?sid=1632&gid=2&pgid=2231\">Career</a></li>\\n\\t\\t<li><a href=\"http://cusecommunity.syr.edu/s/1632/17/interior.aspx?sid=1632&gid=2&pgid=2268\">Network</a></li>\\n\\t\\t<li><a href=\"http://cusecommunity.syr.edu/s/1632/17/interior.aspx?sid=1632&gid=2&pgid=2225\">Generation Orange</a></li>\\n\\t\\t<li><a href=\"http://cusecommunity.syr.edu/?sid=1632&gid=2&pgid=6\">Directory</a></li>\\n\\t\\t<li><a href=\"http://cusecommunity.syr.edu/profile\">Profile</a></li>\\n\\t\\t<li><a href=\"http://cusecommunity.syr.edu/notes\">Class Notes</a></li>\\n\\t</ol>\\n</li>\\n\\t<li><a href=\"http://giving.syr.edu/\">Giving</a></li>\\n\\t<li><a href=\"http://cusecommunity.syr.edu/s/1632/17/interior.aspx?sid=1632&gid=2&pgid=2219\">Contact</a></li>\\n</ol>\\n</li>\\n      </ol>\\n\\t\\t\\t<aside id=\"g6-uni-header-menu-utility\">\\n\\t\\t\\t\\t<ol role=\"navigation\" aria-label=\"Connect with Syracuse\">\\n\\t\\t\\t\\t\\t<li >\\n\\t\\t\\t<a href=\"https://www.syracuse.edu/about/contact/\">Contact</a>\\n\\t\\t</li>\\n\\t\\t\\t\\t\\t<li >\\n\\t\\t\\t<a href=\"https://www.syracuse.edu/about/visit/\">Visit</a>\\n\\t\\t</li>\\n\\t\\t\\t\\t\\t<li >\\n\\t\\t\\t<a href=\"https://www.syracuse.edu/admissions/apply/\">Apply</a>\\n\\t\\t</li>\\n\\t\\t\\t\\t\\t<li  id=\"g6-uni-last\">\\n\\t\\t\\t<a href=\"https://giving.syr.edu/?foreverorangebar\">Forever Orange</a>\\n\\t\\t</li>\\n\\t</ol>\\n\\t\\t\\t\\t<div style=\"position: absolute; left: -10000px\"><button class=\"go-to-close-button\">Go to close menu button</button></div>\\n\\t\\t\\t</aside>\\n\\t\\t</nav>\\n\\t</header>\\n\\t<nav id=\"nav-local\"><span class=\"hoverLeft\"></span><div class=\"scroller scroll-x\">  <ol id=\"nav-local-browse\" role=\"navigation\" aria-label=\"Syracuse browse categories\">\\n\\t\\t\\t\\t\\t<li class=\"dropdown\"><a href=\"https://www.syracuse.edu/coronavirus/\">Coronavirus Updates</a></li>\\n\\t\\t\\t\\t\\t<li class=\"dropdown\"><a href=\"https://news.syr.edu/\">News</a></li>\\n\\t\\t\\t\\t\\t<li class=\"dropdown\"><a href=\"https://calendar.syracuse.edu/events/\">Events</a></li>\\n\\t\\t\\t\\t\\t<li class=\"dropdown\"><a href=\"http://giving.syr.edu/\">Giving</a></li>\\n\\t\\t\\t\\t\\t<li class=\"dropdown\"><a href=\"http://library.syr.edu\">Libraries</a></li>\\n\\t\\t\\t\\t\\t<li class=\"dropdown\"><a href=\"https://myslice.ps.syr.edu/\">MySlice</a></li>\\n\\t\\t\\t\\t\\t<li class=\"dropdown\"><a href=\"/a-z/\">A-Z</a></li>\\n\\t\\t  </ol>\\n  <ol id=\"nav-local-dropdown\" role=\"navigation\" aria-label=\"Audience links\">\\n\\t\\t<li class=\"in-this-section\" data-trigger><a href=\"#\" aria-haspopup=\"true\" aria-expanded=\"false\">Info for</a></li>\\n\\t\\t\\t\\t\\t<li class=\"dropdown\"><a href=\"/life/students/\">Students</a></li>\\n\\t\\t\\t\\t\\t<li class=\"dropdown\"><a href=\"/life/veterans-military/\">Veterans & Military</a></li>\\n\\t\\t\\t\\t\\t<li class=\"dropdown\"><a href=\"/life/faculty-staff/\">Faculty & Staff</a></li>\\n\\t\\t\\t\\t\\t<li class=\"dropdown\"><a href=\"/life/parents/\">Parents & Families</a></li>\\n\\t\\t\\t\\t\\t<li class=\"dropdown\"><a href=\"http://cusecommunity.syr.edu/\">Alumni</a></li>\\n\\t\\t  </ol>\\n  <ol id=\"nav-local-breadcrumbs\" role=\"navigation\" aria-label=\"Quick links\">\\n\\t\\t\\t\\t\\t<li class=\"dropdown\"><a href=\"https://www.syracuse.edu/coronavirus/\">Coronavirus Updates</a></li>\\n\\t\\t\\t\\t\\t<li class=\"dropdown\"><a href=\"https://giving.syr.edu/?foreverorangebar\">Forever Orange</a></li>\\n\\t\\t\\t\\t\\t<li class=\"dropdown\"><a href=\"/150years/\">150 Years</a></li>\\n\\t\\t\\t\\t\\t<li class=\"dropdown\"><a href=\"https://news.syr.edu/\">News</a></li>\\n\\t\\t\\t\\t\\t<li class=\"dropdown\"><a href=\"https://calendar.syracuse.edu/events/\">Events</a></li>\\n\\t\\t\\t\\t\\t<li class=\"dropdown\"><a href=\"https://library.syr.edu/\">Libraries</a></li>\\n\\t\\t\\t\\t\\t<li class=\"dropdown\"><a href=\"https://myslice.ps.syr.edu/\">MySlice</a></li>\\n\\t\\t\\t\\t\\t<li class=\"dropdown\"><a href=\"/a-z/\">A-Z</a></li>\\n\\t\\t  </ol>\\n</div><span class=\"hoverRight\"></span></nav><div id=\"content\" class=\"site-content\">\\t<div id=\"primary\" class=\"content-area\">\\n\\t\\t<main id=\"main\" class=\"site-main\" role=\"main\">\\n\\n\\t\\t\\t<div class=\"hero\"><article id=\"post-20320\">\\n\\t\\t\\t\\t<figure id=\"banner\"></figure>\\n\\t\\t\\t\\t<div id=\"banner-card\" class=\"right  \">\\n\\t\\t\\t\\t\\t<div class=\"sizer\"><h1 class=\"hero-title\">Important Coronavirus Update for the Syracuse University Community</h1><p>Syracuse University will not resume residential instruction this semester.</p><a class=\"button orange\" href=\"http://syracuse.edu/coronavirus\">Latest information</a></div>\\n\\t\\t\\t\\t</div>\\n\\t\\t\\t</article><aside><div id=\"homepage_cards\"><div class=\"card\"><figure><a href=\"https://www.syracuse.edu/stories/beorange-chevon-janczuk-university-college/\" tabindex=\"-1\"><img class=\"lazy-load\" srcset=\"https://www.syracuse.edu/wp-content/themes/g6-carbon/img/3x2.gif 3w\" data-srcset=\"https://www.syracuse.edu/wp-content/uploads/chevon-be-orange-hp-well-1600x1067.jpg 1600w,\\n\\t\\t\\t\\t\\t\\t\\t\\t\\t\\thttps://www.syracuse.edu/wp-content/uploads/chevon-be-orange-hp-well-1100x734.jpg 1100w,\\n\\t\\t\\t\\t\\t\\t\\t\\t\\t\\thttps://www.syracuse.edu/wp-content/uploads/chevon-be-orange-hp-well-800x534.jpg 800w\"\\n\\t\\t\\t\\t\\t\\t\\t\\t\\tsizes=\"(min-width: 95em) 25vw, (min-width: 45em) 50vw, 100vw\"\\n\\t\\t\\t\\t\\t\\t\\t\\t\\tsrc=\"https://www.syracuse.edu/wp-content/themes/g6-carbon/img/3x2.gif\" data-src=\"https://www.syracuse.edu/wp-content/uploads/chevon-be-orange-hp-well-1100x734.jpg\" width=\"1100\" height=\"734\" alt=\"Chevon Janczuk stands in library\"><noscript><img srcset=\"https://www.syracuse.edu/wp-content/uploads/chevon-be-orange-hp-well-1600x1067.jpg 1600w,\\n\\t\\t\\t\\t\\t\\t\\t\\t\\t\\t\\thttps://www.syracuse.edu/wp-content/uploads/chevon-be-orange-hp-well-1100x734.jpg 1100w,\\n\\t\\t\\t\\t\\t\\t\\t\\t\\t\\t\\thttps://www.syracuse.edu/wp-content/uploads/chevon-be-orange-hp-well-800x534.jpg 800w\"\\n\\t\\t\\t\\t\\t\\t\\t\\t\\t\\tsizes=\"(min-width: 95em) 25vw, (min-width: 45em) 50vw, 100vw\"\\n\\t\\t\\t\\t\\t\\t\\t\\t\\t\\tsrc=\"https://www.syracuse.edu/wp-content/uploads/chevon-be-orange-hp-well-1100x734.jpg\" width=\"1100\" height=\"734\" alt=\"Chevon Janczuk stands in library\"></noscript></a></figure><div class=\"sizer\"><p class=\"kicker\">BE ORANGE</p><h2><a href=\"https://www.syracuse.edu/stories/beorange-chevon-janczuk-university-college/\">Chevon Janczuk Savors Her Slice of the Orange</a></h2><p class=\"text\">Years after dropping out of high school, the mother of four finds her place at Syracuse University with a 3.9 GPA and a commitment to social justice.</p></div></div><div class=\"card\"><figure><a href=\"https://news.syr.edu/blog/2020/03/11/professor-emeritus-harold-jones-encourages-student-faculty-discovery-through-gifts-to-forever-orange-campaign/\" tabindex=\"-1\"><img class=\"lazy-load\" srcset=\"https://www.syracuse.edu/wp-content/themes/g6-carbon/img/3x2.gif 3w\" data-srcset=\"https://www.syracuse.edu/wp-content/uploads/harold-jones-home-page-1600x1066.jpg 1600w,\\n\\t\\t\\t\\t\\t\\t\\t\\t\\t\\thttps://www.syracuse.edu/wp-content/uploads/harold-jones-home-page-1100x733.jpg 1100w,\\n\\t\\t\\t\\t\\t\\t\\t\\t\\t\\thttps://www.syracuse.edu/wp-content/uploads/harold-jones-home-page-800x533.jpg 800w\"\\n\\t\\t\\t\\t\\t\\t\\t\\t\\tsizes=\"(min-width: 95em) 25vw, (min-width: 45em) 50vw, 100vw\"\\n\\t\\t\\t\\t\\t\\t\\t\\t\\tsrc=\"https://www.syracuse.edu/wp-content/themes/g6-carbon/img/3x2.gif\" data-src=\"https://www.syracuse.edu/wp-content/uploads/harold-jones-home-page-1100x733.jpg\" width=\"1100\" height=\"733\" alt=\"Harold Jones holds a painting\"><noscript><img srcset=\"https://www.syracuse.edu/wp-content/uploads/harold-jones-home-page-1600x1066.jpg 1600w,\\n\\t\\t\\t\\t\\t\\t\\t\\t\\t\\t\\thttps://www.syracuse.edu/wp-content/uploads/harold-jones-home-page-1100x733.jpg 1100w,\\n\\t\\t\\t\\t\\t\\t\\t\\t\\t\\t\\thttps://www.syracuse.edu/wp-content/uploads/harold-jones-home-page-800x533.jpg 800w\"\\n\\t\\t\\t\\t\\t\\t\\t\\t\\t\\tsizes=\"(min-width: 95em) 25vw, (min-width: 45em) 50vw, 100vw\"\\n\\t\\t\\t\\t\\t\\t\\t\\t\\t\\tsrc=\"https://www.syracuse.edu/wp-content/uploads/harold-jones-home-page-1100x733.jpg\" width=\"1100\" height=\"733\" alt=\"Harold Jones holds a painting\"></noscript></a></figure><div class=\"sizer\"><p class=\"kicker\">FOREVER ORANGE</p><h2><a href=\"https://news.syr.edu/blog/2020/03/11/professor-emeritus-harold-jones-encourages-student-faculty-discovery-through-gifts-to-forever-orange-campaign/\">Harold Jones Fuels Student, Faculty Discovery through Gifts to Forever Orange Campaign</a></h2><p class=\"text\">The professor emeritus of Spanish and his wife, Barbara, make an impact with endowments for world-class teaching in the humanities and gifts supporting libraries and the arts.</p></div></div><div class=\"card\"><figure><a href=\"https://www.syracuse.edu/stories/barrington-bucknor-medicine-compassion/\" tabindex=\"-1\"><img class=\"lazy-load\" srcset=\"https://www.syracuse.edu/wp-content/themes/g6-carbon/img/3x2.gif 3w\" data-srcset=\"https://www.syracuse.edu/wp-content/uploads/barrington-bucknor-hp-well.jpg 1600w,\\n\\t\\t\\t\\t\\t\\t\\t\\t\\t\\thttps://www.syracuse.edu/wp-content/uploads/barrington-bucknor-hp-well.jpg 1100w,\\n\\t\\t\\t\\t\\t\\t\\t\\t\\t\\thttps://www.syracuse.edu/wp-content/uploads/barrington-bucknor-hp-well-800x533.jpg 800w\"\\n\\t\\t\\t\\t\\t\\t\\t\\t\\tsizes=\"(min-width: 95em) 25vw, (min-width: 45em) 50vw, 100vw\"\\n\\t\\t\\t\\t\\t\\t\\t\\t\\tsrc=\"https://www.syracuse.edu/wp-content/themes/g6-carbon/img/3x2.gif\" data-src=\"https://www.syracuse.edu/wp-content/uploads/barrington-bucknor-hp-well.jpg\" width=\"1090\" height=\"726\" alt=\"Barrington Bucknor stands with his arms crossed\"><noscript><img srcset=\"https://www.syracuse.edu/wp-content/uploads/barrington-bucknor-hp-well.jpg 1600w,\\n\\t\\t\\t\\t\\t\\t\\t\\t\\t\\t\\thttps://www.syracuse.edu/wp-content/uploads/barrington-bucknor-hp-well.jpg 1100w,\\n\\t\\t\\t\\t\\t\\t\\t\\t\\t\\t\\thttps://www.syracuse.edu/wp-content/uploads/barrington-bucknor-hp-well-800x533.jpg 800w\"\\n\\t\\t\\t\\t\\t\\t\\t\\t\\t\\tsizes=\"(min-width: 95em) 25vw, (min-width: 45em) 50vw, 100vw\"\\n\\t\\t\\t\\t\\t\\t\\t\\t\\t\\tsrc=\"https://www.syracuse.edu/wp-content/uploads/barrington-bucknor-hp-well.jpg\" width=\"1090\" height=\"726\" alt=\"Barrington Bucknor stands with his arms crossed\"></noscript></a></figure><div class=\"sizer\"><p class=\"kicker\">STEM</p><h2><a href=\"https://www.syracuse.edu/stories/barrington-bucknor-medicine-compassion/\">Pre-Med Student’s Career Plans Are Rooted in Compassion</a></h2><p class=\"text\">Driven by concern for children facing emotional trauma and loss, Barrington Bucknor prepares to enter medical school with a focus on brain science.</p></div></div><div class=\"card\"><figure><a href=\"https://www.syracuse.edu/life/accessibility-diversity/diversity-inclusion/commitments/\" tabindex=\"-1\"><img class=\"lazy-load\" srcset=\"https://www.syracuse.edu/wp-content/themes/g6-carbon/img/3x2.gif 3w\" data-srcset=\"https://www.syracuse.edu/wp-content/uploads/syracuse-university-seal-e1574721060402.png 1600w,\\n\\t\\t\\t\\t\\t\\t\\t\\t\\t\\thttps://www.syracuse.edu/wp-content/uploads/syracuse-university-seal-e1574721060402.png 1100w,\\n\\t\\t\\t\\t\\t\\t\\t\\t\\t\\thttps://www.syracuse.edu/wp-content/uploads/syracuse-university-seal-e1574721060402.png 800w\"\\n\\t\\t\\t\\t\\t\\t\\t\\t\\tsizes=\"(min-width: 95em) 25vw, (min-width: 45em) 50vw, 100vw\"\\n\\t\\t\\t\\t\\t\\t\\t\\t\\tsrc=\"https://www.syracuse.edu/wp-content/themes/g6-carbon/img/3x2.gif\" data-src=\"https://www.syracuse.edu/wp-content/uploads/syracuse-university-seal-e1574721060402.png\" width=\"690\" height=\"460\" alt=\"Syracuse University Heritage Logo\"><noscript><img srcset=\"https://www.syracuse.edu/wp-content/uploads/syracuse-university-seal-e1574721060402.png 1600w,\\n\\t\\t\\t\\t\\t\\t\\t\\t\\t\\t\\thttps://www.syracuse.edu/wp-content/uploads/syracuse-university-seal-e1574721060402.png 1100w,\\n\\t\\t\\t\\t\\t\\t\\t\\t\\t\\t\\thttps://www.syracuse.edu/wp-content/uploads/syracuse-university-seal-e1574721060402.png 800w\"\\n\\t\\t\\t\\t\\t\\t\\t\\t\\t\\tsizes=\"(min-width: 95em) 25vw, (min-width: 45em) 50vw, 100vw\"\\n\\t\\t\\t\\t\\t\\t\\t\\t\\t\\tsrc=\"https://www.syracuse.edu/wp-content/uploads/syracuse-university-seal-e1574721060402.png\" width=\"690\" height=\"460\" alt=\"Syracuse University Heritage Logo\"></noscript></a></figure><div class=\"sizer\"><p class=\"kicker\">CAMPUS AND COMMUNITY</p><h2><a href=\"https://www.syracuse.edu/life/accessibility-diversity/diversity-inclusion/commitments/\">Campus Commitments to Diversity and Inclusion</a></h2><p class=\"text\">Syracuse University is fully committed to fostering a diverse, inclusive and respectful campus community, not only in vision but in practice. Our commitment is rooted in the belief that multiple points of view, life experiences, ethnicities, cultures and belief systems are essential to academic excellence.</p></div></div></div></aside></div>\\n\\t\\t\\t<div style=\"clear:both;\"></div>\\n\\n\\t\\t</main><!-- #main -->\\n\\t</div><!-- #primary -->\\n\\n\\n\\t</div><!-- #content -->\\n\\n\\t<footer id=\"footer\" role=\"contentinfo\">\\n\\n\\t\\t<div id=\"footer-main\">\\n\\t\\t\\t<div id=\"footer-main-inner\">\\n\\n\\t\\t\\t\\t<div id=\"footer-main-right\">\\n\\t\\t\\t\\t\\t<ol id=\"footer-nav\" role=\"navigation\" aria-label=\"Popular tasks\">\\n<li>\\n<a href=\"https://www.syracuse.edu/sitemap/\" class=\"top-level\" aria-expanded=\"false\" aria-label=\"Popular section\">Popular</a>\\n<button class=\"drawer-button\">Toggle dropdown</button>\\n<ol>\\n<li>\\n<a href=\"https://www.syracuse.edu/academics/calendars/\" class=\"title\">Academic Calendar</a>\\n</li>\\n<li>\\n<a href=\"https://www.syracuse.edu/about/map/\" class=\"title\">Campus Map</a>\\n</li>\\n<li>\\n<a href=\"https://www.syracuse.edu/about/work-at-syracuse/\" class=\"title\">Careers</a>\\n</li>\\n<li>\\n<a href=\"http://library.syr.edu/\" class=\"title\">Libraries</a>\\n</li>\\n<li>\\n<a href=\"https://www.syracuse.edu/academics/undergraduate-majors-minors/\" class=\"title\">Majors and Minors</a>\\n</li>\\n<li>\\n<a href=\"https://www.syracuse.edu/admissions/visit-tour/\" class=\"title\">Visit and Tour</a>\\n</li>\\n</ol>\\n</li>\\n<li>\\n<a href=\"https://www.syracuse.edu/a-z/\" class=\"top-level\" aria-expanded=\"false\" aria-label=\"A-Z section\">A-Z</a>\\n<button class=\"drawer-button\">Toggle dropdown</button>\\n<ol>\\n<li>\\n<a href=\"http://directory.syr.edu/\" class=\"title\">Find People (Directory)</a>\\n</li>\\n<li>\\n<a href=\"https://www.syracuse.edu/academics/departments/\" class=\"title\">Academic Departments</a>\\n</li>\\n<li>\\n<a href=\"https://www.syracuse.edu/academics/schools-colleges/\" class=\"title\">Schools and Colleges</a>\\n</li>\\n<li>\\n<a href=\"https://www.syracuse.edu/sitemap/\" class=\"title\">Sitemap</a>\\n</li>\\n<li>\\n<a href=\"https://www.syracuse.edu/search/\" class=\"title\">Search</a>\\n</li>\\n</ol>\\n</li>\\n<li>\\n<a href=\"https://www.syracuse.edu/about/contact/\" class=\"top-level\" aria-expanded=\"false\" aria-label=\"Contact section\">Contact</a>\\n<button class=\"drawer-button\">Toggle dropdown</button>\\n<ol>\\n<li>\\n<a href=\"https://www.syracuse.edu/admissions/\" class=\"title\">Admissions</a>\\n</li>\\n<li>\\n<a href=\"https://www.syracuse.edu/admissions/cost-and-aid/contact/\" class=\"title\">Financial Aid</a>\\n</li>\\n<li>\\n<a href=\"https://www.syracuse.edu/about/contact/emergencies/\" class=\"title\">Emergency Contacts</a>\\n</li>\\n<li>\\n<a href=\"https://hr.syr.edu\" class=\"title\">Human Resources</a>\\n</li>\\n<li>\\n<a href=\"https://www.syracuse.edu/about/site/feedback/\" class=\"title\">Website Feedback</a>\\n</li>\\n<li>\\n<a href=\"http://cusecommunity.syr.edu/s/1632/17/form/landing.aspx?sid=1632&gid=2&pgid=383\" class=\"title\">Make a Gift</a>\\n</li>\\n</ol>\\n</li>\\n<li>\\n<a href=\"https://www.syracuse.edu/login/\" class=\"top-level\" aria-expanded=\"false\" aria-label=\"Login section\">Login</a>\\n<button class=\"drawer-button\">Toggle dropdown</button>\\n<ol>\\n<li>\\n<a href=\"https://myslice.ps.syr.edu/\" class=\"title\">MySlice</a>\\n</li>\\n<li>\\n<a href=\"https://blackboard.syracuse.edu/\" class=\"title\">Blackboard</a>\\n</li>\\n<li>\\n<a href=\"https://sumail.syr.edu/\" class=\"title\">Student Email</a>\\n</li>\\n<li>\\n<a href=\"https://exchange.syr.edu/\" class=\"title\">Faculty & Staff Email</a>\\n</li>\\n</ul>\\n\\t\\t\\t\\t</div>\\n\\n\\t\\t\\t\\t<div id=\"footer-main-left\">\\n\\t\\t\\t\\t\\t<div id=\"footer-seal\">\\n\\t\\t\\t\\t\\t\\t<span>\\n\\t\\t\\t\\t\\t\\t\\t<img src=\"https://www.syracuse.edu/wp-content/themes/g6-carbon/img/syracuse-university-seal-white.svg?ver=6.5.3\" width=\"169\" height=\"170\" alt=\"Syracuse University Seal\">\\n\\t\\t\\t\\t\\t\\t</span>\\n\\t\\t\\t\\t\\t</div>\\n\\t\\t\\t\\t\\t<div id=\"footer-address\">\\n\\t\\t\\t\\t\\t\\t<address>Syracuse University <br>900 South Crouse Ave. <br>Syracuse, NY 13244 <br><br>Phone: +1.315.443.1870</address>\\n\\t\\t\\t\\t\\t</div>\\n\\t\\t\\t\\t</div>\\n\\n\\t\\t\\t</div>\\n\\t\\t</div>\\n\\n\\t\\t<div id=\"footer-universal\">\\n\\t\\t\\t<div id=\"footer-universal-inner\">\\n\\n\\t\\t\\t\\t<div id=\"footer-copyright-utility\">\\n\\n\\t\\t\\t\\t\\t<div id=\"footer-social\">\\n\\t\\t\\t\\t\\t\\t<ul role=\"navigation\" aria-label=\"Social media\">\\n\\t\\t\\t\\t\\t\\t\\t<li><a class=\"facebook\" href=\"https://www.facebook.com/syracuseuniversity/\">\\n\\t\\t\\t\\t\\t\\t\\t\\t<svg width=\"14\" height=\"26\" aria-labelledby=\"footer-social-facebook\" role=\"img\" xmlns=\"http://www.w3.org/2000/svg\" viewBox=\"0 0 13 24\" enable-background=\"new 0 0 13 24\"><title id=\"footer-social-facebook\">Like Syracuse on Facebook</title><path d=\"M12 3.8H9.8c-1.7 0-2 .8-2 2v2.6h4.1l-.6 4.2H7.8v10.6H3.5V12.6H0V8.5h3.6v-3C3.6 2 5.8 0 8.9 0c1.5 0 2.8.1 3.2.2L12 3.8z\"/></svg>\\n\\t\\t\\t\\t\\t\\t\\t</a></li>\\n\\t\\t\\t\\t\\t\\t\\t<li><a class=\"twitter\" href=\"https://twitter.com/SyracuseU\">\\n\\t\\t\\t\\t\\t\\t\\t\\t<svg width=\"28\" height=\"21\" aria-labelledby=\"footer-social-twitter\" role=\"img\" xmlns=\"http://www.w3.org/2000/svg\" viewBox=\"0 0 24 20\" enable-background=\"new 0 0 24 20\"><title id=\"footer-social-twitter\">Follow Syracuse on Twitter</title><path d=\"M21.3 5.1c0 .2 0 .4 0 .6 0 6.4-4.9 13.8-13.8 13.8-2.8 0-5.3-.8-7.5-2.2.4 0 .8.1 1.2.1 2.3 0 4.4-.8 6-2.1-2.1 0-3.9-1.4-4.5-3.4.3 0 .6.1.9.1.4 0 .9-.1 1.3-.2C2.7 11.3 1 9.4 1 7c0 0 0 0 0-.1.6.4 1.4.6 2.2.6C1.9 6.6 1 5.1 1 3.4c0-.9.2-1.7.7-2.5 2.4 3 6 4.9 10 5.1-.1-.4-.1-.7-.1-1.1 0-2.7 2.2-4.9 4.9-4.9 1.4 0 2.7.6 3.6 1.5 1.1-.2 2.2-.6 3.1-1.2-.4 1.1-1.1 2.1-2.1 2.7 1-.1 1.9-.4 2.8-.8-.8 1.3-1.6 2.2-2.6 2.9z\"/></svg>\\n\\t\\t\\t\\t\\t\\t\\t</a></li>\\n\\t\\t\\t\\t\\t\\t\\t<li><a class=\"youtube\" href=\"https://www.youtube.com/user/Syracuse\">\\n\\t\\t\\t\\t\\t\\t\\t\\t<svg width=\"28\" height=\"18\" aria-labelledby=\"footer-social-youtube\" role=\"img\" xmlns=\"http://www.w3.org/2000/svg\" viewBox=\"0 0 25 18\" enable-background=\"new 0 0 25 18\"><title id=\"footer-social-youtube\">Subscribe to Syracuse on YouTube</title><path d=\"M24.6 15.1c-.3 1.4-1.4 2.4-2.7 2.5-3 .3-6.2.3-9.3.3s-6.3 0-9.3-.3C2 17.5.9 16.4.6 15.1 0 13.2 0 11 0 9s0-4.2.4-6.1C.7 1.5 1.8.5 3.1.4 6.2 0 9.3 0 12.5 0s6.3 0 9.3.3c1.3.1 2.4 1.2 2.7 2.5.5 2 .5 4.2.5 6.2s0 4.2-.4 6.1zm-7.1-6.9l-6.9-4.5c-.4-.2-.7-.2-1 0-.4.1-.6.5-.6.8v9c0 .3.2.7.5.8.1.1.4.1.5.1.2 0 .4 0 .5-.1l7-4.5c.3-.1.5-.5.5-.8s-.1-.5-.5-.8z\"/></svg>\\n\\t\\t\\t\\t\\t\\t\\t</a></li>\\n\\t\\t\\t\\t\\t\\t\\t<li><a class=\"instagram\" href=\"https://www.instagram.com/syracuseu/\">\\n\\t\\t\\t\\t\\t\\t\\t\\t<svg width=\"22\" height=\"22\" aria-labelledby=\"footer-social-instagram\" role=\"img\" xmlns=\"http://www.w3.org/2000/svg\" viewBox=\"0 0 22 22\" enable-background=\"new 0 0 22 22\"><title id=\"footer-social-instagram\">Follow Syracuse on Instagram</title><path d=\"M11 7c-2.2 0-4 1.8-4 4s1.8 4 4 4 4-1.7 4-4-1.8-4-4-4zM21.9 6.5c-.1-1.8-.5-3.3-1.8-4.6S17.3.2 15.5.1C14 0 12.5 0 11 0S8 0 6.5.1C4.7.2 3.1.6 1.8 1.8.6 3.1.2 4.7.1 6.5 0 8 0 9.5 0 11s0 3 .1 4.5c.1 1.8.5 3.3 1.8 4.6 1.3 1.3 2.8 1.7 4.6 1.8 1.5.1 3 .1 4.5.1s3 0 4.5-.1c1.8-.1 3.3-.5 4.6-1.8 1.3-1.3 1.7-2.8 1.8-4.6.1-1.5.1-3 .1-4.5s0-3-.1-4.5zM11 17c-3.3 0-6-2.7-6-6s2.7-6 6-6 6 2.7 6 6-2.7 6-6 6zm6-10.5c-.8 0-1.5-.7-1.5-1.5s.7-1.5 1.5-1.5 1.5.7 1.5 1.5c0 .9-.7 1.5-1.5 1.5z\"/></svg>\\n\\t\\t\\t\\t\\t\\t\\t</a></li>\\n\\t\\t\\t\\t\\t\\t</ul>\\n\\t\\t\\t\\t\\t</div>\\n\\n\\t\\t\\t\\t\\t<p class=\"copyright\">&copy; <a href=\"/\" aria-label=\"Copyright Syracuse University\">Syracuse University</a>. <em><a class=\"toggle-motto\" href=\"#\" title=\"Toggle English/Latin\">Knowledge crowns those who seek her</a>.</em></p>\\n\\n\\t\\t\\t\\t\\t<ul class=\"utility\" role=\"navigation\" aria-label=\"Utility links\">\\n<li>\\n<a href=\"https://www.syracuse.edu/life/accessibility-diversity/accessible-syracuse/\">Accessibility</a>\\n</li>\\n<li>\\n<a href=\"http://middlestates.syr.edu/?_ga=1.122695753.313684714.1479758891\">Accreditation</a>\\n</li>\\n<li>\\n<a href=\"https://www.syracuse.edu/about/contact/emergencies/\">Emergencies</a>\\n</li>\\n<li>\\n<a href=\"https://www.syracuse.edu/about/site/privacy-policy/\">Privacy</a>\\n</li>\\n</ul>\\n\\t\\t\\t\\t</div>\\n\\t\\t\\t</div>\\n\\t\\t</div>\\n\\n\\t</footer>\\n\\n</div><!-- #page -->\\n\\n<!-- Matomo -->\\n<script type=\"text/javascript\">\\n  var _paq = window._paq || [];\\n  /* tracker methods like \"setCustomDimension\" should be called before \"trackPageView\" */\\n  _paq.push([\"setDomains\", [\"*.www.syracuse.edu\"]]);\\n  _paq.push([\"enableCrossDomainLinking\"]);\\n  _paq.push([\\'trackPageView\\']);\\n  _paq.push([\\'enableLinkTracking\\']);\\n  (function() {\\n    var u=\"//syr-piwik-prod.syr.edu/\";\\n    _paq.push([\\'setTrackerUrl\\', u+\\'piwik.php\\']);\\n    _paq.push([\\'setSiteId\\', \\'1\\']);\\n    var d=document, g=d.createElement(\\'script\\'), s=d.getElementsByTagName(\\'script\\')[0];\\n    g.type=\\'text/javascript\\'; g.async=true; g.defer=true; g.src=u+\\'piwik.js\\'; s.parentNode.insertBefore(g,s);\\n  })();\\n</script>\\n<!-- End Matomo Code -->\\n<noscript><p><img src=\"//syr-piwik-prod.syr.edu/piwik.php?idsite=1&rec=1\" style=\"border:0;\" alt=\"\" /></p></noscript>\\n<script type=\\'text/javascript\\' src=\\'https://www.google.com/recaptcha/api.js?render=6LdvTo8UAAAAAOTyucdXrHsAks8qdurjoJX4QgRE&#038;ver=3.0\\'></script>\\n<script type=\\'text/javascript\\' src=\\'//ajax.googleapis.com/ajax/libs/jquery/3.3.1/jquery.min.js?ver=3.3.1\\'></script>\\n<script type=\\'text/javascript\\' src=\\'https://cse.google.com/query_renderer.js?ver=619f7aba63fd92db1dc6d3843c7b1a93\\'></script>\\n<script type=\\'text/javascript\\' src=\\'https://cse.google.com/api/004164346848750669847:ikweksae9yu/popularqueryjs?view=overall&#038;callback=%28new+PopularQueryRenderer%28document.getElementById%28%22g6-uni-header-search-queries%22%29%29%29.render&#038;ver=619f7aba63fd92db1dc6d3843c7b1a93\\'></script>\\n<script type=\\'text/javascript\\'>\\n/* <![CDATA[ */\\nvar php_vars = {\"isAdmin\":\"\",\"templateUrl\":\"https:\\\\/\\\\/www.syracuse.edu\\\\/wp-content\\\\/themes\\\\/g6-carbon\"};\\n/* ]]> */\\n</script>\\n<script type=\\'text/javascript\\' src=\\'https://www.syracuse.edu/wp-content/themes/g6-carbon/js/carbon-all.js?ver=6.5.3-1565727603651\\'></script>\\n<script type=\\'text/javascript\\' src=\\'https://www.syracuse.edu/wp-includes/js/wp-embed.min.js?ver=619f7aba63fd92db1dc6d3843c7b1a93\\'></script>\\n<script type=\"text/javascript\">\\n( function( grecaptcha, sitekey, actions ) {\\n\\n\\tvar wpcf7recaptcha = {\\n\\n\\t\\texecute: function( action ) {\\n\\t\\t\\tgrecaptcha.execute(\\n\\t\\t\\t\\tsitekey,\\n\\t\\t\\t\\t{ action: action }\\n\\t\\t\\t).then( function( token ) {\\n\\t\\t\\t\\tvar forms = document.getElementsByTagName( \\'form\\' );\\n\\n\\t\\t\\t\\tfor ( var i = 0; i < forms.length; i++ ) {\\n\\t\\t\\t\\t\\tvar fields = forms[ i ].getElementsByTagName( \\'input\\' );\\n\\n\\t\\t\\t\\t\\tfor ( var j = 0; j < fields.length; j++ ) {\\n\\t\\t\\t\\t\\t\\tvar field = fields[ j ];\\n\\n\\t\\t\\t\\t\\t\\tif ( \\'g-recaptcha-response\\' === field.getAttribute( \\'name\\' ) ) {\\n\\t\\t\\t\\t\\t\\t\\tfield.setAttribute( \\'value\\', token );\\n\\t\\t\\t\\t\\t\\t\\tbreak;\\n\\t\\t\\t\\t\\t\\t}\\n\\t\\t\\t\\t\\t}\\n\\t\\t\\t\\t}\\n\\t\\t\\t} );\\n\\t\\t},\\n\\n\\t\\texecuteOnHomepage: function() {\\n\\t\\t\\twpcf7recaptcha.execute( actions[ \\'homepage\\' ] );\\n\\t\\t},\\n\\n\\t\\texecuteOnContactform: function() {\\n\\t\\t\\twpcf7recaptcha.execute( actions[ \\'contactform\\' ] );\\n\\t\\t},\\n\\n\\t};\\n\\n\\tgrecaptcha.ready(\\n\\t\\twpcf7recaptcha.executeOnHomepage\\n\\t);\\n\\n\\tdocument.addEventListener( \\'change\\',\\n\\t\\twpcf7recaptcha.executeOnContactform, false\\n\\t);\\n\\n\\tdocument.addEventListener( \\'wpcf7submit\\',\\n\\t\\twpcf7recaptcha.executeOnHomepage, false\\n\\t);\\n\\n} )(\\n\\tgrecaptcha,\\n\\t\\'6LdvTo8UAAAAAOTyucdXrHsAks8qdurjoJX4QgRE\\',\\n\\t{\"homepage\":\"homepage\",\"contactform\":\"contactform\"}\\n);\\n</script>\\n\\n</body>\\n</html>\\n'"
      ]
     },
     "execution_count": 9,
     "metadata": {},
     "output_type": "execute_result"
    }
   ],
   "source": [
    "response.text"
   ]
  },
  {
   "cell_type": "code",
   "execution_count": 10,
   "metadata": {},
   "outputs": [
    {
     "ename": "JSONDecodeError",
     "evalue": "Expecting value: line 1 column 1 (char 0)",
     "output_type": "error",
     "traceback": [
      "\u001b[0;31m---------------------------------------------------------------------------\u001b[0m",
      "\u001b[0;31mJSONDecodeError\u001b[0m                           Traceback (most recent call last)",
      "\u001b[0;32m<ipython-input-10-34c975fa6377>\u001b[0m in \u001b[0;36m<module>\u001b[0;34m\u001b[0m\n\u001b[0;32m----> 1\u001b[0;31m \u001b[0mresponse\u001b[0m\u001b[0;34m.\u001b[0m\u001b[0mjson\u001b[0m\u001b[0;34m(\u001b[0m\u001b[0;34m)\u001b[0m\u001b[0;34m\u001b[0m\u001b[0;34m\u001b[0m\u001b[0m\n\u001b[0m",
      "\u001b[0;32m/opt/conda/lib/python3.7/site-packages/requests/models.py\u001b[0m in \u001b[0;36mjson\u001b[0;34m(self, **kwargs)\u001b[0m\n\u001b[1;32m    848\u001b[0m                     \u001b[0;31m# used.\u001b[0m\u001b[0;34m\u001b[0m\u001b[0;34m\u001b[0m\u001b[0;34m\u001b[0m\u001b[0m\n\u001b[1;32m    849\u001b[0m                     \u001b[0;32mpass\u001b[0m\u001b[0;34m\u001b[0m\u001b[0;34m\u001b[0m\u001b[0m\n\u001b[0;32m--> 850\u001b[0;31m         \u001b[0;32mreturn\u001b[0m \u001b[0mcomplexjson\u001b[0m\u001b[0;34m.\u001b[0m\u001b[0mloads\u001b[0m\u001b[0;34m(\u001b[0m\u001b[0mself\u001b[0m\u001b[0;34m.\u001b[0m\u001b[0mtext\u001b[0m\u001b[0;34m,\u001b[0m \u001b[0;34m**\u001b[0m\u001b[0mkwargs\u001b[0m\u001b[0;34m)\u001b[0m\u001b[0;34m\u001b[0m\u001b[0;34m\u001b[0m\u001b[0m\n\u001b[0m\u001b[1;32m    851\u001b[0m \u001b[0;34m\u001b[0m\u001b[0m\n\u001b[1;32m    852\u001b[0m     \u001b[0;34m@\u001b[0m\u001b[0mproperty\u001b[0m\u001b[0;34m\u001b[0m\u001b[0;34m\u001b[0m\u001b[0m\n",
      "\u001b[0;32m/opt/conda/lib/python3.7/json/__init__.py\u001b[0m in \u001b[0;36mloads\u001b[0;34m(s, encoding, cls, object_hook, parse_float, parse_int, parse_constant, object_pairs_hook, **kw)\u001b[0m\n\u001b[1;32m    346\u001b[0m             \u001b[0mparse_int\u001b[0m \u001b[0;32mis\u001b[0m \u001b[0;32mNone\u001b[0m \u001b[0;32mand\u001b[0m \u001b[0mparse_float\u001b[0m \u001b[0;32mis\u001b[0m \u001b[0;32mNone\u001b[0m \u001b[0;32mand\u001b[0m\u001b[0;34m\u001b[0m\u001b[0;34m\u001b[0m\u001b[0m\n\u001b[1;32m    347\u001b[0m             parse_constant is None and object_pairs_hook is None and not kw):\n\u001b[0;32m--> 348\u001b[0;31m         \u001b[0;32mreturn\u001b[0m \u001b[0m_default_decoder\u001b[0m\u001b[0;34m.\u001b[0m\u001b[0mdecode\u001b[0m\u001b[0;34m(\u001b[0m\u001b[0ms\u001b[0m\u001b[0;34m)\u001b[0m\u001b[0;34m\u001b[0m\u001b[0;34m\u001b[0m\u001b[0m\n\u001b[0m\u001b[1;32m    349\u001b[0m     \u001b[0;32mif\u001b[0m \u001b[0mcls\u001b[0m \u001b[0;32mis\u001b[0m \u001b[0;32mNone\u001b[0m\u001b[0;34m:\u001b[0m\u001b[0;34m\u001b[0m\u001b[0;34m\u001b[0m\u001b[0m\n\u001b[1;32m    350\u001b[0m         \u001b[0mcls\u001b[0m \u001b[0;34m=\u001b[0m \u001b[0mJSONDecoder\u001b[0m\u001b[0;34m\u001b[0m\u001b[0;34m\u001b[0m\u001b[0m\n",
      "\u001b[0;32m/opt/conda/lib/python3.7/json/decoder.py\u001b[0m in \u001b[0;36mdecode\u001b[0;34m(self, s, _w)\u001b[0m\n\u001b[1;32m    335\u001b[0m \u001b[0;34m\u001b[0m\u001b[0m\n\u001b[1;32m    336\u001b[0m         \"\"\"\n\u001b[0;32m--> 337\u001b[0;31m         \u001b[0mobj\u001b[0m\u001b[0;34m,\u001b[0m \u001b[0mend\u001b[0m \u001b[0;34m=\u001b[0m \u001b[0mself\u001b[0m\u001b[0;34m.\u001b[0m\u001b[0mraw_decode\u001b[0m\u001b[0;34m(\u001b[0m\u001b[0ms\u001b[0m\u001b[0;34m,\u001b[0m \u001b[0midx\u001b[0m\u001b[0;34m=\u001b[0m\u001b[0m_w\u001b[0m\u001b[0;34m(\u001b[0m\u001b[0ms\u001b[0m\u001b[0;34m,\u001b[0m \u001b[0;36m0\u001b[0m\u001b[0;34m)\u001b[0m\u001b[0;34m.\u001b[0m\u001b[0mend\u001b[0m\u001b[0;34m(\u001b[0m\u001b[0;34m)\u001b[0m\u001b[0;34m)\u001b[0m\u001b[0;34m\u001b[0m\u001b[0;34m\u001b[0m\u001b[0m\n\u001b[0m\u001b[1;32m    338\u001b[0m         \u001b[0mend\u001b[0m \u001b[0;34m=\u001b[0m \u001b[0m_w\u001b[0m\u001b[0;34m(\u001b[0m\u001b[0ms\u001b[0m\u001b[0;34m,\u001b[0m \u001b[0mend\u001b[0m\u001b[0;34m)\u001b[0m\u001b[0;34m.\u001b[0m\u001b[0mend\u001b[0m\u001b[0;34m(\u001b[0m\u001b[0;34m)\u001b[0m\u001b[0;34m\u001b[0m\u001b[0;34m\u001b[0m\u001b[0m\n\u001b[1;32m    339\u001b[0m         \u001b[0;32mif\u001b[0m \u001b[0mend\u001b[0m \u001b[0;34m!=\u001b[0m \u001b[0mlen\u001b[0m\u001b[0;34m(\u001b[0m\u001b[0ms\u001b[0m\u001b[0;34m)\u001b[0m\u001b[0;34m:\u001b[0m\u001b[0;34m\u001b[0m\u001b[0;34m\u001b[0m\u001b[0m\n",
      "\u001b[0;32m/opt/conda/lib/python3.7/json/decoder.py\u001b[0m in \u001b[0;36mraw_decode\u001b[0;34m(self, s, idx)\u001b[0m\n\u001b[1;32m    353\u001b[0m             \u001b[0mobj\u001b[0m\u001b[0;34m,\u001b[0m \u001b[0mend\u001b[0m \u001b[0;34m=\u001b[0m \u001b[0mself\u001b[0m\u001b[0;34m.\u001b[0m\u001b[0mscan_once\u001b[0m\u001b[0;34m(\u001b[0m\u001b[0ms\u001b[0m\u001b[0;34m,\u001b[0m \u001b[0midx\u001b[0m\u001b[0;34m)\u001b[0m\u001b[0;34m\u001b[0m\u001b[0;34m\u001b[0m\u001b[0m\n\u001b[1;32m    354\u001b[0m         \u001b[0;32mexcept\u001b[0m \u001b[0mStopIteration\u001b[0m \u001b[0;32mas\u001b[0m \u001b[0merr\u001b[0m\u001b[0;34m:\u001b[0m\u001b[0;34m\u001b[0m\u001b[0;34m\u001b[0m\u001b[0m\n\u001b[0;32m--> 355\u001b[0;31m             \u001b[0;32mraise\u001b[0m \u001b[0mJSONDecodeError\u001b[0m\u001b[0;34m(\u001b[0m\u001b[0;34m\"Expecting value\"\u001b[0m\u001b[0;34m,\u001b[0m \u001b[0ms\u001b[0m\u001b[0;34m,\u001b[0m \u001b[0merr\u001b[0m\u001b[0;34m.\u001b[0m\u001b[0mvalue\u001b[0m\u001b[0;34m)\u001b[0m \u001b[0;32mfrom\u001b[0m \u001b[0;32mNone\u001b[0m\u001b[0;34m\u001b[0m\u001b[0;34m\u001b[0m\u001b[0m\n\u001b[0m\u001b[1;32m    356\u001b[0m         \u001b[0;32mreturn\u001b[0m \u001b[0mobj\u001b[0m\u001b[0;34m,\u001b[0m \u001b[0mend\u001b[0m\u001b[0;34m\u001b[0m\u001b[0;34m\u001b[0m\u001b[0m\n",
      "\u001b[0;31mJSONDecodeError\u001b[0m: Expecting value: line 1 column 1 (char 0)"
     ]
    }
   ],
   "source": [
    "response.json()"
   ]
  },
  {
   "cell_type": "code",
   "execution_count": 12,
   "metadata": {},
   "outputs": [
    {
     "data": {
      "text/plain": [
       "{'args': {},\n",
       " 'headers': {'Accept': '*/*',\n",
       "  'Accept-Encoding': 'gzip, deflate',\n",
       "  'Cache-Control': 'max-age=259200',\n",
       "  'Host': 'httpbin.org',\n",
       "  'If-Modified-Since': 'Tue, 17 Mar 2020 13:13:17 GMT',\n",
       "  'User-Agent': 'python-requests/2.12.4',\n",
       "  'X-Amzn-Trace-Id': 'Root=1-5e70cd0b-844f79c795d0b81199c83296'},\n",
       " 'origin': '10.30.24.17, 128.230.247.170',\n",
       " 'url': 'http://httpbin.org/get'}"
      ]
     },
     "execution_count": 12,
     "metadata": {},
     "output_type": "execute_result"
    }
   ],
   "source": [
    "url = \"http://httpbin.org/get\"\n",
    "response = requests.get(url)\n",
    "data =response.json()\n",
    "data"
   ]
  },
  {
   "cell_type": "code",
   "execution_count": 13,
   "metadata": {},
   "outputs": [
    {
     "data": {
      "text/plain": [
       "dict"
      ]
     },
     "execution_count": 13,
     "metadata": {},
     "output_type": "execute_result"
    }
   ],
   "source": [
    "type(data)"
   ]
  },
  {
   "cell_type": "code",
   "execution_count": 15,
   "metadata": {},
   "outputs": [
    {
     "data": {
      "text/plain": [
       "'httpbin.org'"
      ]
     },
     "execution_count": 15,
     "metadata": {},
     "output_type": "execute_result"
    }
   ],
   "source": [
    "data['headers']['Host']"
   ]
  },
  {
   "cell_type": "code",
   "execution_count": 16,
   "metadata": {},
   "outputs": [],
   "source": [
    "raw_data = response.text"
   ]
  },
  {
   "cell_type": "code",
   "execution_count": 17,
   "metadata": {},
   "outputs": [
    {
     "data": {
      "text/plain": [
       "'{\\n  \"args\": {}, \\n  \"headers\": {\\n    \"Accept\": \"*/*\", \\n    \"Accept-Encoding\": \"gzip, deflate\", \\n    \"Cache-Control\": \"max-age=259200\", \\n    \"Host\": \"httpbin.org\", \\n    \"If-Modified-Since\": \"Tue, 17 Mar 2020 13:13:17 GMT\", \\n    \"User-Agent\": \"python-requests/2.12.4\", \\n    \"X-Amzn-Trace-Id\": \"Root=1-5e70cd0b-844f79c795d0b81199c83296\"\\n  }, \\n  \"origin\": \"10.30.24.17, 128.230.247.170\", \\n  \"url\": \"http://httpbin.org/get\"\\n}\\n'"
      ]
     },
     "execution_count": 17,
     "metadata": {},
     "output_type": "execute_result"
    }
   ],
   "source": [
    "raw_data"
   ]
  },
  {
   "cell_type": "code",
   "execution_count": 19,
   "metadata": {},
   "outputs": [
    {
     "data": {
      "text/plain": [
       "139"
      ]
     },
     "execution_count": 19,
     "metadata": {},
     "output_type": "execute_result"
    }
   ],
   "source": [
    "raw_data.find('\"Host\":')"
   ]
  },
  {
   "cell_type": "code",
   "execution_count": 20,
   "metadata": {},
   "outputs": [
    {
     "data": {
      "text/plain": [
       "160"
      ]
     },
     "execution_count": 20,
     "metadata": {},
     "output_type": "execute_result"
    }
   ],
   "source": [
    "raw_data.find(\",\", 139)"
   ]
  },
  {
   "cell_type": "code",
   "execution_count": 21,
   "metadata": {},
   "outputs": [
    {
     "data": {
      "text/plain": [
       "' \"httpbin.org\"'"
      ]
     },
     "execution_count": 21,
     "metadata": {},
     "output_type": "execute_result"
    }
   ],
   "source": [
    "raw_data[139+7:160]"
   ]
  },
  {
   "cell_type": "code",
   "execution_count": 22,
   "metadata": {},
   "outputs": [
    {
     "data": {
      "text/plain": [
       "{'args': {},\n",
       " 'headers': {'Accept': '*/*',\n",
       "  'Accept-Encoding': 'gzip, deflate',\n",
       "  'Cache-Control': 'max-age=259200',\n",
       "  'Host': 'httpbin.org',\n",
       "  'If-Modified-Since': 'Tue, 17 Mar 2020 13:13:17 GMT',\n",
       "  'User-Agent': 'python-requests/2.12.4',\n",
       "  'X-Amzn-Trace-Id': 'Root=1-5e70cd0b-844f79c795d0b81199c83296'},\n",
       " 'origin': '10.30.24.17, 128.230.247.170',\n",
       " 'url': 'http://httpbin.org/get'}"
      ]
     },
     "execution_count": 22,
     "metadata": {},
     "output_type": "execute_result"
    }
   ],
   "source": [
    "import json\n",
    "\n",
    "json.loads(response.text)"
   ]
  },
  {
   "cell_type": "code",
   "execution_count": 28,
   "metadata": {},
   "outputs": [
    {
     "data": {
      "text/plain": [
       "{'args': {'age': '48', 'name': 'mike'},\n",
       " 'headers': {'Accept': '*/*',\n",
       "  'Accept-Encoding': 'gzip, deflate',\n",
       "  'Host': 'httpbin.org',\n",
       "  'User-Agent': 'python-requests/2.12.4',\n",
       "  'X-Amzn-Trace-Id': 'Root=1-5e70cfb6-3963d2e08bcc75a0ef8ac5c0'},\n",
       " 'origin': '128.230.247.170',\n",
       " 'url': 'https://httpbin.org/get?name=mike&age=48'}"
      ]
     },
     "execution_count": 28,
     "metadata": {},
     "output_type": "execute_result"
    }
   ],
   "source": [
    "u1 = \"https://httpbin.org/get?name=mike&age=48\"\n",
    "r1 = requests.get(u1)\n",
    "r1.json()"
   ]
  },
  {
   "cell_type": "code",
   "execution_count": 31,
   "metadata": {},
   "outputs": [
    {
     "name": "stdout",
     "output_type": "stream",
     "text": [
      "https://httpbin.org/get?name=mike&age=45\n"
     ]
    },
    {
     "data": {
      "text/plain": [
       "{'args': {'age': '45', 'name': 'mike'},\n",
       " 'headers': {'Accept': '*/*',\n",
       "  'Accept-Encoding': 'gzip, deflate',\n",
       "  'Host': 'httpbin.org',\n",
       "  'User-Agent': 'python-requests/2.12.4',\n",
       "  'X-Amzn-Trace-Id': 'Root=1-5e70d046-0910534416e45700391f7e90'},\n",
       " 'origin': '128.230.247.170',\n",
       " 'url': 'https://httpbin.org/get?name=mike&age=45'}"
      ]
     },
     "execution_count": 31,
     "metadata": {},
     "output_type": "execute_result"
    }
   ],
   "source": [
    "querystring = { 'name' : 'mike', 'age' :45 }\n",
    "u2  =\"https://httpbin.org/get\"\n",
    "r2 = requests.get(u2, params = querystring )\n",
    "print(r2.url)\n",
    "r2.json()\n",
    "               "
   ]
  },
  {
   "cell_type": "code",
   "execution_count": 32,
   "metadata": {},
   "outputs": [
    {
     "data": {
      "text/plain": [
       "{'args': {},\n",
       " 'headers': {'Accept': '*/*',\n",
       "  'Accept-Encoding': 'gzip, deflate',\n",
       "  'Api-Key': 'wdsjkhaghf34135798-6ty0897dfguy413123tbhds',\n",
       "  'Host': 'httpbin.org',\n",
       "  'User-Agent': 'python-requests/2.12.4',\n",
       "  'X-Amzn-Trace-Id': 'Root=1-5e70d0b1-03846e332d821c6dec6d0ed3'},\n",
       " 'origin': '128.230.247.170',\n",
       " 'url': 'https://httpbin.org/get'}"
      ]
     },
     "execution_count": 32,
     "metadata": {},
     "output_type": "execute_result"
    }
   ],
   "source": [
    "header = { 'api-key' : 'wdsjkhaghf34135798-6ty0897dfguy413123tbhds' }\n",
    "u3 = \"https://httpbin.org/get\"\n",
    "r3 = requests.get(u3, headers = header)\n",
    "r3.json()"
   ]
  },
  {
   "cell_type": "code",
   "execution_count": 35,
   "metadata": {},
   "outputs": [
    {
     "data": {
      "text/plain": [
       "{'args': {},\n",
       " 'data': 'This is some data that I want to send to your web server',\n",
       " 'files': {},\n",
       " 'form': {},\n",
       " 'headers': {'Accept': '*/*',\n",
       "  'Accept-Encoding': 'gzip, deflate',\n",
       "  'Content-Length': '56',\n",
       "  'Host': 'httpbin.org',\n",
       "  'User-Agent': 'python-requests/2.12.4',\n",
       "  'X-Amzn-Trace-Id': 'Root=1-5e70d16e-26d13e692829a06acf3537a3'},\n",
       " 'json': None,\n",
       " 'origin': '128.230.247.170',\n",
       " 'url': 'https://httpbin.org/post'}"
      ]
     },
     "execution_count": 35,
     "metadata": {},
     "output_type": "execute_result"
    }
   ],
   "source": [
    "payload = \"This is some data that I want to send to your web server\"\n",
    "u4 = \"https://httpbin.org/post\"\n",
    "r4 = requests.post(u4, data = payload)\n",
    "r4.json()"
   ]
  },
  {
   "cell_type": "code",
   "execution_count": 37,
   "metadata": {},
   "outputs": [
    {
     "data": {
      "text/plain": [
       "{'args': {'age': '45', 'name': 'mike'},\n",
       " 'data': 'This is some data that I want to send to your web server',\n",
       " 'files': {},\n",
       " 'form': {},\n",
       " 'headers': {'Accept': '*/*',\n",
       "  'Accept-Encoding': 'gzip, deflate',\n",
       "  'Api-Key': '123456789',\n",
       "  'Content-Length': '56',\n",
       "  'Host': 'httpbin.org',\n",
       "  'User-Agent': 'python-requests/2.12.4',\n",
       "  'X-Amzn-Trace-Id': 'Root=1-5e70d1fe-992e94bbbad6edb264f0235e'},\n",
       " 'json': None,\n",
       " 'origin': '128.230.247.170',\n",
       " 'url': 'https://httpbin.org/post?name=mike&age=45'}"
      ]
     },
     "execution_count": 37,
     "metadata": {},
     "output_type": "execute_result"
    }
   ],
   "source": [
    "querystring = { 'name' : 'mike', 'age' :45 }\n",
    "header = { 'api-key' : '123456789' }\n",
    "payload = \"This is some data that I want to send to your web server\"\n",
    "u5 = \"https://httpbin.org/post\"\n",
    "r5 = requests.post(u5, data = payload, params = querystring, headers = header)\n",
    "r5.json()"
   ]
  },
  {
   "cell_type": "code",
   "execution_count": 41,
   "metadata": {},
   "outputs": [
    {
     "name": "stdout",
     "output_type": "stream",
     "text": [
      "https://nominatim.openstreetmap.org/search?q=Hinds+Hall+Syracuse+University+Syracuse+NY&format=json\n"
     ]
    }
   ],
   "source": [
    "address = \"Hinds Hall Syracuse University Syracuse NY\"\n",
    "params =  { 'q' : address , 'format' : 'json'}\n",
    "url = \"https://nominatim.openstreetmap.org/search\"\n",
    "response = requests.get(url, params = params)\n",
    "print(response.url)\n",
    "data = response.json()\n"
   ]
  },
  {
   "cell_type": "code",
   "execution_count": 44,
   "metadata": {},
   "outputs": [
    {
     "data": {
      "text/plain": [
       "'43.038215550000004'"
      ]
     },
     "execution_count": 44,
     "metadata": {},
     "output_type": "execute_result"
    }
   ],
   "source": [
    "data[0]['lat']"
   ]
  },
  {
   "cell_type": "code",
   "execution_count": 45,
   "metadata": {},
   "outputs": [
    {
     "data": {
      "text/plain": [
       "'-76.13334564172943'"
      ]
     },
     "execution_count": 45,
     "metadata": {},
     "output_type": "execute_result"
    }
   ],
   "source": [
    "data[0]['lon']"
   ]
  },
  {
   "cell_type": "code",
   "execution_count": 49,
   "metadata": {},
   "outputs": [
    {
     "name": "stdout",
     "output_type": "stream",
     "text": [
      "https://nominatim.openstreetmap.org/search?q=Carrier+Dome&format=json\n",
      "43.0362428 -76.13633966027417\n"
     ]
    }
   ],
   "source": [
    "def geocode_to_lat_lon(address):\n",
    "    params =  { 'q' : address , 'format' : 'json'}\n",
    "    url = \"https://nominatim.openstreetmap.org/search\"\n",
    "    response = requests.get(url, params = params)\n",
    "    print(response.url)\n",
    "    data = response.json()\n",
    "    return data[0]['lat'], data[0]['lon']\n",
    "\n",
    "lat, lon = geocode_to_lat_lon(\"Carrier Dome\")\n",
    "print(lat,lon)"
   ]
  },
  {
   "cell_type": "code",
   "execution_count": 54,
   "metadata": {},
   "outputs": [
    {
     "name": "stdout",
     "output_type": "stream",
     "text": [
      "https://nominatim.openstreetmap.org/search?q=90210+USA&format=json\n"
     ]
    },
    {
     "data": {
      "text/plain": [
       "'Beverly Hills, Los Angeles County, California, 90210, United States of America'"
      ]
     },
     "execution_count": 54,
     "metadata": {},
     "output_type": "execute_result"
    }
   ],
   "source": [
    "def geocode(location):\n",
    "    params =  { 'q' : location , 'format' : 'json'}\n",
    "    url = \"https://nominatim.openstreetmap.org/search\"\n",
    "    response = requests.get(url, params = params)\n",
    "    print(response.url)\n",
    "    data = response.json()\n",
    "    return data\n",
    "\n",
    "\n",
    "zipcode = '90210 USA'\n",
    "data = geocode(zipcode)\n",
    "data[0]['display_name']"
   ]
  },
  {
   "cell_type": "code",
   "execution_count": 55,
   "metadata": {},
   "outputs": [
    {
     "data": {
      "text/plain": [
       "[{'place_id': 175508090,\n",
       "  'licence': 'Data © OpenStreetMap contributors, ODbL 1.0. https://osm.org/copyright',\n",
       "  'osm_type': 'way',\n",
       "  'osm_id': 390894038,\n",
       "  'boundingbox': ['34.0812729', '34.0814193', '-118.3917104', '-118.391395'],\n",
       "  'lat': '34.081333400000005',\n",
       "  'lon': '-118.39155318985753',\n",
       "  'display_name': 'Beverly Hills, Los Angeles County, California, 90210, United States of America',\n",
       "  'class': 'place',\n",
       "  'type': 'postcode',\n",
       "  'importance': 0.33499999999999996},\n",
       " {'place_id': 237749970,\n",
       "  'licence': 'Data © OpenStreetMap contributors, ODbL 1.0. https://osm.org/copyright',\n",
       "  'boundingbox': ['34.085665658319',\n",
       "   '34.085765658319',\n",
       "   '-118.29104506473',\n",
       "   '-118.29094506473'],\n",
       "  'lat': '34.08571565831852',\n",
       "  'lon': '-118.29099506473375',\n",
       "  'display_name': '90210, United States of America',\n",
       "  'class': 'place',\n",
       "  'type': 'postcode',\n",
       "  'importance': 0.33499999999999996}]"
      ]
     },
     "execution_count": 55,
     "metadata": {},
     "output_type": "execute_result"
    }
   ],
   "source": [
    "data"
   ]
  },
  {
   "cell_type": "code",
   "execution_count": 56,
   "metadata": {},
   "outputs": [
    {
     "name": "stdout",
     "output_type": "stream",
     "text": [
      "https://api.darksky.net/forecast/bb903709924ce81390257e3161422ccb/43.0362428,-76.13633966027417\n"
     ]
    }
   ],
   "source": [
    "print(\"https://api.darksky.net/forecast/bb903709924ce81390257e3161422ccb/43.0362428,-76.13633966027417\")"
   ]
  },
  {
   "cell_type": "code",
   "execution_count": 59,
   "metadata": {},
   "outputs": [
    {
     "name": "stdout",
     "output_type": "stream",
     "text": [
      "https://api.darksky.net/forecast/bb903709924ce81390257e3161422ccb/43.0362428,-76.13633966027417\n"
     ]
    },
    {
     "data": {
      "text/plain": [
       "{'time': 1584453476,\n",
       " 'summary': 'Overcast',\n",
       " 'icon': 'cloudy',\n",
       " 'nearestStormDistance': 3,\n",
       " 'nearestStormBearing': 234,\n",
       " 'precipIntensity': 0,\n",
       " 'precipProbability': 0,\n",
       " 'temperature': 42.63,\n",
       " 'apparentTemperature': 35.8,\n",
       " 'dewPoint': 32.13,\n",
       " 'humidity': 0.66,\n",
       " 'pressure': 1018.2,\n",
       " 'windSpeed': 13.04,\n",
       " 'windGust': 13.04,\n",
       " 'windBearing': 212,\n",
       " 'cloudCover': 0.96,\n",
       " 'uvIndex': 1,\n",
       " 'visibility': 10,\n",
       " 'ozone': 333.8}"
      ]
     },
     "execution_count": 59,
     "metadata": {},
     "output_type": "execute_result"
    }
   ],
   "source": [
    "key =\"bb903709924ce81390257e3161422ccb\"\n",
    "lat = 43.0362428\n",
    "lon = -76.13633966027417\n",
    "url = f\"https://api.darksky.net/forecast/{key}/{lat},{lon}\"\n",
    "print(url)\n",
    "response = requests.get(url)\n",
    "weather = response.json()\n",
    "weather['currently']"
   ]
  },
  {
   "cell_type": "code",
   "execution_count": 60,
   "metadata": {},
   "outputs": [
    {
     "name": "stdout",
     "output_type": "stream",
     "text": [
      "https://api.darksky.net/forecast/bb903709924ce81390257e3161422ccb/43.0362428,-76.13633966027417\n",
      "{'time': 1584453615, 'summary': 'Overcast', 'icon': 'cloudy', 'nearestStormDistance': 3, 'nearestStormBearing': 234, 'precipIntensity': 0, 'precipProbability': 0, 'temperature': 42.68, 'apparentTemperature': 35.88, 'dewPoint': 32.18, 'humidity': 0.66, 'pressure': 1018.2, 'windSpeed': 13, 'windGust': 13, 'windBearing': 212, 'cloudCover': 0.96, 'uvIndex': 1, 'visibility': 10, 'ozone': 333.7}\n"
     ]
    }
   ],
   "source": [
    "def get_current_weather(lat, lon):\n",
    "    key =\"bb903709924ce81390257e3161422ccb\"\n",
    "    url = f\"https://api.darksky.net/forecast/{key}/{lat},{lon}\"\n",
    "    print(url)\n",
    "    response = requests.get(url)\n",
    "    weather = response.json()\n",
    "    return weather['currently']\n",
    "\n",
    "\n",
    "conditions = get_current_weather(43.0362428,-76.13633966027417)\n",
    "print(conditions)\n"
   ]
  },
  {
   "cell_type": "code",
   "execution_count": 63,
   "metadata": {},
   "outputs": [],
   "source": [
    "import requests"
   ]
  },
  {
   "cell_type": "code",
   "execution_count": 67,
   "metadata": {},
   "outputs": [
    {
     "name": "stdout",
     "output_type": "stream",
     "text": [
      "43.0362428 -76.13633966027417\n"
     ]
    }
   ],
   "source": [
    "def geocode_to_lat_lon(address):\n",
    "    params =  { 'q' : address , 'format' : 'json'}\n",
    "    url = \"https://nominatim.openstreetmap.org/search\"\n",
    "    response = requests.get(url, params = params)\n",
    "    #print(response.url)\n",
    "    data = response.json()\n",
    "    return data[0]['lat'], data[0]['lon']\n",
    "\n",
    "lat, lon = geocode_to_lat_lon(\"Carrier Dome\")\n",
    "print(lat,lon)\n"
   ]
  },
  {
   "cell_type": "code",
   "execution_count": 68,
   "metadata": {},
   "outputs": [
    {
     "name": "stdout",
     "output_type": "stream",
     "text": [
      "{'time': 1584454138, 'summary': 'Drizzle', 'icon': 'rain', 'nearestStormDistance': 0, 'precipIntensity': 0.003, 'precipIntensityError': 0, 'precipProbability': 0.94, 'precipType': 'rain', 'temperature': 42.91, 'apparentTemperature': 36.21, 'dewPoint': 32.4, 'humidity': 0.66, 'pressure': 1018.2, 'windSpeed': 12.86, 'windGust': 12.86, 'windBearing': 213, 'cloudCover': 0.95, 'uvIndex': 2, 'visibility': 10, 'ozone': 333.6}\n"
     ]
    }
   ],
   "source": [
    "def get_current_weather(lat, lon):\n",
    "    key =\"bb903709924ce81390257e3161422ccb\"\n",
    "    url = f\"https://api.darksky.net/forecast/{key}/{lat},{lon}\"\n",
    "    #print(url)\n",
    "    response = requests.get(url)\n",
    "    weather = response.json()\n",
    "    return weather['currently']\n",
    "\n",
    "\n",
    "conditions = get_current_weather(43.0362428,-76.13633966027417)\n",
    "print(conditions)\n"
   ]
  },
  {
   "cell_type": "markdown",
   "metadata": {},
   "source": [
    "loop:\n",
    "    input a location or type quit\n",
    "    if quit exit loop\n",
    "    geocode location to lat / long\n",
    "    get current weather conditions for lat /long\n",
    "    print current weather conditions\n",
    "    "
   ]
  },
  {
   "cell_type": "code",
   "execution_count": 73,
   "metadata": {},
   "outputs": [
    {
     "name": "stdout",
     "output_type": "stream",
     "text": [
      "Enter a location, or Quit to stop: rkjdsafhglakjsd\n",
      "Error: I could not find the location rkjdsafhglakjsd\n",
      "Enter a location, or Quit to stop: Montreal, QC\n",
      "The current conditions at Montreal, QC are Light Snow and 34.58 degrees.\n",
      "Enter a location, or Quit to stop: Montreal, QB\n",
      "Error: I could not find the location Montreal, QB\n",
      "Enter a location, or Quit to stop: 90210 USA\n",
      "The current conditions at 90210 USA are Clear and 45.11 degrees.\n",
      "Enter a location, or Quit to stop: Beverly Hills, CA\n",
      "The current conditions at Beverly Hills, CA are Overcast and 15.86 degrees.\n",
      "Enter a location, or Quit to stop: Washington, DC\n",
      "The current conditions at Washington, DC are Overcast and 47.26 degrees.\n",
      "Enter a location, or Quit to stop: Key West, FL\n",
      "The current conditions at Key West, FL are Partly Cloudy and 77.45 degrees.\n",
      "Enter a location, or Quit to stop: Brownsville, TX\n",
      "The current conditions at Brownsville, TX are Humid and Partly Cloudy and 75.45 degrees.\n",
      "Enter a location, or Quit to stop: Antartica\n",
      "The current conditions at Antartica are Foggy and -1.21 degrees.\n",
      "Enter a location, or Quit to stop: quit\n"
     ]
    }
   ],
   "source": [
    "while True:\n",
    "    try:\n",
    "        location = input(\"Enter a location, or Quit to stop: \")\n",
    "        if location.lower() == 'quit':\n",
    "            break\n",
    "        lat, lon = geocode_to_lat_lon(location)\n",
    "        conditions = get_current_weather(lat,lon)\n",
    "        print(f\"The current conditions at {location} are {conditions['summary']} and {conditions['temperature']} degrees.\")\n",
    "    except IndexError:\n",
    "        print(f\"Error: I could not find the location {location}\")\n"
   ]
  },
  {
   "cell_type": "code",
   "execution_count": null,
   "metadata": {},
   "outputs": [],
   "source": []
  }
 ],
 "metadata": {
  "kernelspec": {
   "display_name": "Python 3",
   "language": "python",
   "name": "python3"
  },
  "language_info": {
   "codemirror_mode": {
    "name": "ipython",
    "version": 3
   },
   "file_extension": ".py",
   "mimetype": "text/x-python",
   "name": "python",
   "nbconvert_exporter": "python",
   "pygments_lexer": "ipython3",
   "version": "3.7.6"
  }
 },
 "nbformat": 4,
 "nbformat_minor": 2
}
