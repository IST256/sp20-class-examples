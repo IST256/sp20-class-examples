{
 "cells": [
  {
   "cell_type": "code",
   "execution_count": 2,
   "metadata": {},
   "outputs": [
    {
     "name": "stdout",
     "output_type": "stream",
     "text": [
      "Type your name: sf\n"
     ]
    }
   ],
   "source": [
    "name = input(\"Type your name: \")\n",
    "x = y(s)"
   ]
  },
  {
   "cell_type": "code",
   "execution_count": 3,
   "metadata": {},
   "outputs": [],
   "source": [
    "import getpass"
   ]
  },
  {
   "cell_type": "code",
   "execution_count": 5,
   "metadata": {},
   "outputs": [
    {
     "data": {
      "text/plain": [
       "['GetPassWarning',\n",
       " '__all__',\n",
       " '__builtins__',\n",
       " '__cached__',\n",
       " '__doc__',\n",
       " '__file__',\n",
       " '__loader__',\n",
       " '__name__',\n",
       " '__package__',\n",
       " '__spec__',\n",
       " '_raw_input',\n",
       " 'contextlib',\n",
       " 'fallback_getpass',\n",
       " 'getpass',\n",
       " 'getuser',\n",
       " 'io',\n",
       " 'os',\n",
       " 'sys',\n",
       " 'termios',\n",
       " 'unix_getpass',\n",
       " 'warnings',\n",
       " 'win_getpass']"
      ]
     },
     "execution_count": 5,
     "metadata": {},
     "output_type": "execute_result"
    }
   ],
   "source": [
    "dir(getpass)"
   ]
  },
  {
   "cell_type": "code",
   "execution_count": 6,
   "metadata": {},
   "outputs": [
    {
     "name": "stdout",
     "output_type": "stream",
     "text": [
      "Help on function getuser in module getpass:\n",
      "\n",
      "getuser()\n",
      "    Get the username from the environment or password database.\n",
      "    \n",
      "    First try various environment variables, then the password\n",
      "    database.  This works on Windows as long as USERNAME is set.\n",
      "\n"
     ]
    }
   ],
   "source": [
    "help(getpass.getuser)"
   ]
  },
  {
   "cell_type": "code",
   "execution_count": 7,
   "metadata": {},
   "outputs": [
    {
     "data": {
      "text/plain": [
       "'jovyan'"
      ]
     },
     "execution_count": 7,
     "metadata": {},
     "output_type": "execute_result"
    }
   ],
   "source": [
    "getpass.getuser()"
   ]
  },
  {
   "cell_type": "code",
   "execution_count": 8,
   "metadata": {},
   "outputs": [
    {
     "name": "stdout",
     "output_type": "stream",
     "text": [
      "Help on method getpass in module ipykernel.kernelbase:\n",
      "\n",
      "getpass(prompt='', stream=None) method of ipykernel.ipkernel.IPythonKernel instance\n",
      "    Forward getpass to frontends\n",
      "    \n",
      "    Raises\n",
      "    ------\n",
      "    StdinNotImplentedError if active frontend doesn't support stdin.\n",
      "\n"
     ]
    }
   ],
   "source": [
    "help(getpass.getpass)"
   ]
  },
  {
   "cell_type": "code",
   "execution_count": 9,
   "metadata": {},
   "outputs": [
    {
     "name": "stdout",
     "output_type": "stream",
     "text": [
      "········\n"
     ]
    },
    {
     "data": {
      "text/plain": [
       "'What is the box????????'"
      ]
     },
     "execution_count": 9,
     "metadata": {},
     "output_type": "execute_result"
    }
   ],
   "source": [
    "getpass.getpass()\n"
   ]
  },
  {
   "cell_type": "code",
   "execution_count": 13,
   "metadata": {},
   "outputs": [
    {
     "name": "stdout",
     "output_type": "stream",
     "text": [
      "Enter your Password : ········\n",
      "My Password is shghkfjdasj\n"
     ]
    }
   ],
   "source": [
    "pw = getpass.getpass(prompt = 'Enter your Password : ')\n",
    "print(f\"My Password is {pw}\")\n"
   ]
  },
  {
   "cell_type": "code",
   "execution_count": 14,
   "metadata": {},
   "outputs": [
    {
     "name": "stdout",
     "output_type": "stream",
     "text": [
      "Enter your SSN: ········\n",
      "The SSN is 423875690\n"
     ]
    }
   ],
   "source": [
    "import getpass as gp\n",
    "ssn = gp.getpass(\"Enter your SSN: \")\n",
    "print(\"The SSN is\", ssn)"
   ]
  },
  {
   "cell_type": "code",
   "execution_count": 15,
   "metadata": {},
   "outputs": [
    {
     "data": {
      "text/plain": [
       "['In',\n",
       " 'Out',\n",
       " '_',\n",
       " '_4',\n",
       " '_5',\n",
       " '_7',\n",
       " '_9',\n",
       " '__',\n",
       " '___',\n",
       " '__builtin__',\n",
       " '__builtins__',\n",
       " '__doc__',\n",
       " '__loader__',\n",
       " '__name__',\n",
       " '__package__',\n",
       " '__spec__',\n",
       " '_dh',\n",
       " '_i',\n",
       " '_i1',\n",
       " '_i10',\n",
       " '_i11',\n",
       " '_i12',\n",
       " '_i13',\n",
       " '_i14',\n",
       " '_i15',\n",
       " '_i2',\n",
       " '_i3',\n",
       " '_i4',\n",
       " '_i5',\n",
       " '_i6',\n",
       " '_i7',\n",
       " '_i8',\n",
       " '_i9',\n",
       " '_ih',\n",
       " '_ii',\n",
       " '_iii',\n",
       " '_oh',\n",
       " 'exit',\n",
       " 'get_ipython',\n",
       " 'getpass',\n",
       " 'gp',\n",
       " 'pw',\n",
       " 'quit',\n",
       " 'ssn',\n",
       " 'x']"
      ]
     },
     "execution_count": 15,
     "metadata": {},
     "output_type": "execute_result"
    }
   ],
   "source": [
    "dir()"
   ]
  },
  {
   "cell_type": "code",
   "execution_count": 16,
   "metadata": {},
   "outputs": [],
   "source": [
    "del gp"
   ]
  },
  {
   "cell_type": "code",
   "execution_count": 17,
   "metadata": {},
   "outputs": [
    {
     "data": {
      "text/plain": [
       "['In',\n",
       " 'Out',\n",
       " '_',\n",
       " '_15',\n",
       " '_4',\n",
       " '_5',\n",
       " '_7',\n",
       " '_9',\n",
       " '__',\n",
       " '___',\n",
       " '__builtin__',\n",
       " '__builtins__',\n",
       " '__doc__',\n",
       " '__loader__',\n",
       " '__name__',\n",
       " '__package__',\n",
       " '__spec__',\n",
       " '_dh',\n",
       " '_i',\n",
       " '_i1',\n",
       " '_i10',\n",
       " '_i11',\n",
       " '_i12',\n",
       " '_i13',\n",
       " '_i14',\n",
       " '_i15',\n",
       " '_i16',\n",
       " '_i17',\n",
       " '_i2',\n",
       " '_i3',\n",
       " '_i4',\n",
       " '_i5',\n",
       " '_i6',\n",
       " '_i7',\n",
       " '_i8',\n",
       " '_i9',\n",
       " '_ih',\n",
       " '_ii',\n",
       " '_iii',\n",
       " '_oh',\n",
       " 'exit',\n",
       " 'get_ipython',\n",
       " 'getpass',\n",
       " 'pw',\n",
       " 'quit',\n",
       " 'ssn',\n",
       " 'x']"
      ]
     },
     "execution_count": 17,
     "metadata": {},
     "output_type": "execute_result"
    }
   ],
   "source": [
    "dir()"
   ]
  },
  {
   "cell_type": "code",
   "execution_count": 18,
   "metadata": {},
   "outputs": [
    {
     "ename": "ModuleNotFoundError",
     "evalue": "No module named 'pygame'",
     "output_type": "error",
     "traceback": [
      "\u001b[0;31m---------------------------------------------------------------------------\u001b[0m",
      "\u001b[0;31mModuleNotFoundError\u001b[0m                       Traceback (most recent call last)",
      "\u001b[0;32m<ipython-input-18-671b35b41eba>\u001b[0m in \u001b[0;36m<module>\u001b[0;34m\u001b[0m\n\u001b[0;32m----> 1\u001b[0;31m \u001b[0;32mimport\u001b[0m \u001b[0mpygame\u001b[0m\u001b[0;34m\u001b[0m\u001b[0;34m\u001b[0m\u001b[0m\n\u001b[0m",
      "\u001b[0;31mModuleNotFoundError\u001b[0m: No module named 'pygame'"
     ]
    }
   ],
   "source": [
    "import pygame"
   ]
  },
  {
   "cell_type": "code",
   "execution_count": 19,
   "metadata": {},
   "outputs": [
    {
     "name": "stdout",
     "output_type": "stream",
     "text": [
      "Collecting pygame\n",
      "\u001b[?25l  Downloading https://files.pythonhosted.org/packages/18/b3/0bf5afdcf6ef95d2a343cd7865585a6efe5e3e727c1a4f3385c9935248cf/pygame-1.9.6-cp37-cp37m-manylinux1_x86_64.whl (11.4MB)\n",
      "\u001b[K     |████████████████████████████████| 11.4MB 4.8MB/s eta 0:00:01\n",
      "\u001b[?25hInstalling collected packages: pygame\n",
      "Successfully installed pygame-1.9.6\n"
     ]
    }
   ],
   "source": [
    "!pip install pygame"
   ]
  },
  {
   "cell_type": "code",
   "execution_count": 22,
   "metadata": {},
   "outputs": [],
   "source": [
    "!pip --quiet install gtts"
   ]
  },
  {
   "cell_type": "code",
   "execution_count": 25,
   "metadata": {},
   "outputs": [
    {
     "name": "stderr",
     "output_type": "stream",
     "text": [
      "/opt/conda/lib/python3.7/site-packages/requests/packages/urllib3/connectionpool.py:843: InsecureRequestWarning: Unverified HTTPS request is being made. Adding certificate verification is strongly advised. See: https://urllib3.readthedocs.io/en/latest/advanced-usage.html#ssl-warnings\n",
      "  InsecureRequestWarning)\n"
     ]
    }
   ],
   "source": [
    "from gtts import gTTS\n",
    "speech = gTTS('wake up!')\n",
    "speech.save('hello.mp3')"
   ]
  },
  {
   "cell_type": "code",
   "execution_count": 29,
   "metadata": {},
   "outputs": [
    {
     "data": {
      "text/html": [
       "\n",
       "                <audio  controls=\"controls\" >\n",
       "                    <source src=\"data:audio/mpeg;base64,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\" type=\"audio/mpeg\" />\n",
       "                    Your browser does not support the audio element.\n",
       "                </audio>\n",
       "              "
      ],
      "text/plain": [
       "<IPython.lib.display.Audio object>"
      ]
     },
     "execution_count": 29,
     "metadata": {},
     "output_type": "execute_result"
    }
   ],
   "source": [
    "import IPython.display as ipd\n",
    "ipd.Audio(\"hello.mp3\")"
   ]
  },
  {
   "cell_type": "code",
   "execution_count": 70,
   "metadata": {},
   "outputs": [
    {
     "name": "stdout",
     "output_type": "stream",
     "text": [
      "Enter your message: dsaghfklasdjdf\n"
     ]
    },
    {
     "name": "stderr",
     "output_type": "stream",
     "text": [
      "/opt/conda/lib/python3.7/site-packages/requests/packages/urllib3/connectionpool.py:843: InsecureRequestWarning: Unverified HTTPS request is being made. Adding certificate verification is strongly advised. See: https://urllib3.readthedocs.io/en/latest/advanced-usage.html#ssl-warnings\n",
      "  InsecureRequestWarning)\n"
     ]
    },
    {
     "data": {
      "text/html": [
       "\n",
       "                <audio  controls=\"controls\" >\n",
       "                    <source src=\"data:audio/mpeg;base64,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\" type=\"audio/mpeg\" />\n",
       "                    Your browser does not support the audio element.\n",
       "                </audio>\n",
       "              "
      ],
      "text/plain": [
       "<IPython.lib.display.Audio object>"
      ]
     },
     "execution_count": 70,
     "metadata": {},
     "output_type": "execute_result"
    }
   ],
   "source": [
    "import IPython.display as ipd\n",
    "from gtts import gTTS\n",
    "filename = \"message.mp3\"\n",
    "message = input(\"Enter your message: \")\n",
    "speech = gTTS(message, lang ='en')\n",
    "speech.save(filename)\n",
    "ipd.Audio(filename, autoplay=True)\n"
   ]
  },
  {
   "cell_type": "code",
   "execution_count": 69,
   "metadata": {},
   "outputs": [
    {
     "name": "stdout",
     "output_type": "stream",
     "text": [
      "Help on class Audio in module IPython.lib.display:\n",
      "\n",
      "class Audio(IPython.core.display.DisplayObject)\n",
      " |  Audio(data=None, filename=None, url=None, embed=None, rate=None, autoplay=False, normalize=True, *, element_id=None)\n",
      " |  \n",
      " |  Create an audio object.\n",
      " |  \n",
      " |  When this object is returned by an input cell or passed to the\n",
      " |  display function, it will result in Audio controls being displayed\n",
      " |  in the frontend (only works in the notebook).\n",
      " |  \n",
      " |  Parameters\n",
      " |  ----------\n",
      " |  data : numpy array, list, unicode, str or bytes\n",
      " |      Can be one of\n",
      " |  \n",
      " |        * Numpy 1d array containing the desired waveform (mono)\n",
      " |        * Numpy 2d array containing waveforms for each channel.\n",
      " |          Shape=(NCHAN, NSAMPLES). For the standard channel order, see\n",
      " |          http://msdn.microsoft.com/en-us/library/windows/hardware/dn653308(v=vs.85).aspx\n",
      " |        * List of float or integer representing the waveform (mono)\n",
      " |        * String containing the filename\n",
      " |        * Bytestring containing raw PCM data or\n",
      " |        * URL pointing to a file on the web.\n",
      " |  \n",
      " |      If the array option is used, the waveform will be normalized.\n",
      " |  \n",
      " |      If a filename or url is used, the format support will be browser\n",
      " |      dependent.\n",
      " |  url : unicode\n",
      " |      A URL to download the data from.\n",
      " |  filename : unicode\n",
      " |      Path to a local file to load the data from.\n",
      " |  embed : boolean\n",
      " |      Should the audio data be embedded using a data URI (True) or should\n",
      " |      the original source be referenced. Set this to True if you want the\n",
      " |      audio to playable later with no internet connection in the notebook.\n",
      " |  \n",
      " |      Default is `True`, unless the keyword argument `url` is set, then\n",
      " |      default value is `False`.\n",
      " |  rate : integer\n",
      " |      The sampling rate of the raw data.\n",
      " |      Only required when data parameter is being used as an array\n",
      " |  autoplay : bool\n",
      " |      Set to True if the audio should immediately start playing.\n",
      " |      Default is `False`.\n",
      " |  normalize : bool\n",
      " |      Whether audio should be normalized (rescaled) to the maximum possible\n",
      " |      range. Default is `True`. When set to `False`, `data` must be between\n",
      " |      -1 and 1 (inclusive), otherwise an error is raised.\n",
      " |      Applies only when `data` is a list or array of samples; other types of\n",
      " |      audio are never normalized.\n",
      " |  \n",
      " |  Examples\n",
      " |  --------\n",
      " |  ::\n",
      " |  \n",
      " |      # Generate a sound\n",
      " |      import numpy as np\n",
      " |      framerate = 44100\n",
      " |      t = np.linspace(0,5,framerate*5)\n",
      " |      data = np.sin(2*np.pi*220*t) + np.sin(2*np.pi*224*t)\n",
      " |      Audio(data,rate=framerate)\n",
      " |  \n",
      " |      # Can also do stereo or more channels\n",
      " |      dataleft = np.sin(2*np.pi*220*t)\n",
      " |      dataright = np.sin(2*np.pi*224*t)\n",
      " |      Audio([dataleft, dataright],rate=framerate)\n",
      " |  \n",
      " |      Audio(\"http://www.nch.com.au/acm/8k16bitpcm.wav\")  # From URL\n",
      " |      Audio(url=\"http://www.w3schools.com/html/horse.ogg\")\n",
      " |  \n",
      " |      Audio('/path/to/sound.wav')  # From file\n",
      " |      Audio(filename='/path/to/sound.ogg')\n",
      " |  \n",
      " |      Audio(b'RAW_WAV_DATA..)  # From bytes\n",
      " |      Audio(data=b'RAW_WAV_DATA..)\n",
      " |  \n",
      " |  See Also\n",
      " |  --------\n",
      " |  \n",
      " |  See also the ``Audio`` widgets form the ``ipywidget`` package for more flexibility and options.\n",
      " |  \n",
      " |  Method resolution order:\n",
      " |      Audio\n",
      " |      IPython.core.display.DisplayObject\n",
      " |      builtins.object\n",
      " |  \n",
      " |  Methods defined here:\n",
      " |  \n",
      " |  __init__(self, data=None, filename=None, url=None, embed=None, rate=None, autoplay=False, normalize=True, *, element_id=None)\n",
      " |      Create a display object given raw data.\n",
      " |      \n",
      " |      When this object is returned by an expression or passed to the\n",
      " |      display function, it will result in the data being displayed\n",
      " |      in the frontend. The MIME type of the data should match the\n",
      " |      subclasses used, so the Png subclass should be used for 'image/png'\n",
      " |      data. If the data is a URL, the data will first be downloaded\n",
      " |      and then displayed. If\n",
      " |      \n",
      " |      Parameters\n",
      " |      ----------\n",
      " |      data : unicode, str or bytes\n",
      " |          The raw data or a URL or file to load the data from\n",
      " |      url : unicode\n",
      " |          A URL to download the data from.\n",
      " |      filename : unicode\n",
      " |          Path to a local file to load the data from.\n",
      " |      metadata : dict\n",
      " |          Dict of metadata associated to be the object when displayed\n",
      " |  \n",
      " |  autoplay_attr(self)\n",
      " |  \n",
      " |  element_id_attr(self)\n",
      " |  \n",
      " |  reload(self)\n",
      " |      Reload the raw data from file or URL.\n",
      " |  \n",
      " |  src_attr(self)\n",
      " |  \n",
      " |  ----------------------------------------------------------------------\n",
      " |  Methods inherited from IPython.core.display.DisplayObject:\n",
      " |  \n",
      " |  __repr__(self)\n",
      " |      Return repr(self).\n",
      " |  \n",
      " |  ----------------------------------------------------------------------\n",
      " |  Data descriptors inherited from IPython.core.display.DisplayObject:\n",
      " |  \n",
      " |  __dict__\n",
      " |      dictionary for instance variables (if defined)\n",
      " |  \n",
      " |  __weakref__\n",
      " |      list of weak references to the object (if defined)\n",
      " |  \n",
      " |  ----------------------------------------------------------------------\n",
      " |  Data and other attributes inherited from IPython.core.display.DisplayObject:\n",
      " |  \n",
      " |  metadata = None\n",
      "\n"
     ]
    }
   ],
   "source": [
    "help(ipd.Audio)"
   ]
  },
  {
   "cell_type": "code",
   "execution_count": 58,
   "metadata": {},
   "outputs": [],
   "source": [
    "def speakit(message, lang ='en', autoplay=False):\n",
    "    '''\n",
    "    This function will take message and play it back as audio.\n",
    "    '''\n",
    "    filename = \"message.mp3\"\n",
    "    speech = gTTS(message, lang=lang)\n",
    "    speech.save(filename)\n",
    "    audio = ipd.Audio(filename, autoplay=autoplay)\n",
    "    return audio\n",
    "\n",
    "\n"
   ]
  },
  {
   "cell_type": "code",
   "execution_count": 60,
   "metadata": {},
   "outputs": [
    {
     "name": "stderr",
     "output_type": "stream",
     "text": [
      "/opt/conda/lib/python3.7/site-packages/requests/packages/urllib3/connectionpool.py:843: InsecureRequestWarning: Unverified HTTPS request is being made. Adding certificate verification is strongly advised. See: https://urllib3.readthedocs.io/en/latest/advanced-usage.html#ssl-warnings\n",
      "  InsecureRequestWarning)\n"
     ]
    },
    {
     "data": {
      "text/html": [
       "\n",
       "                <audio  controls=\"controls\" autoplay=\"autoplay\">\n",
       "                    <source src=\"data:audio/mpeg;base64,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\" type=\"audio/mpeg\" />\n",
       "                    Your browser does not support the audio element.\n",
       "                </audio>\n",
       "              "
      ],
      "text/plain": [
       "<IPython.lib.display.Audio object>"
      ]
     },
     "metadata": {},
     "output_type": "display_data"
    },
    {
     "name": "stderr",
     "output_type": "stream",
     "text": [
      "/opt/conda/lib/python3.7/site-packages/requests/packages/urllib3/connectionpool.py:843: InsecureRequestWarning: Unverified HTTPS request is being made. Adding certificate verification is strongly advised. See: https://urllib3.readthedocs.io/en/latest/advanced-usage.html#ssl-warnings\n",
      "  InsecureRequestWarning)\n"
     ]
    },
    {
     "data": {
      "text/html": [
       "\n",
       "                <audio  controls=\"controls\" autoplay=\"autoplay\">\n",
       "                    <source src=\"data:audio/mpeg;base64,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\" type=\"audio/mpeg\" />\n",
       "                    Your browser does not support the audio element.\n",
       "                </audio>\n",
       "              "
      ],
      "text/plain": [
       "<IPython.lib.display.Audio object>"
      ]
     },
     "metadata": {},
     "output_type": "display_data"
    }
   ],
   "source": [
    "import time \n",
    "ipd.display( speakit(\"This is a test.\", autoplay=True, lang = 'en-GB') )\n",
    "time.sleep(2)\n",
    "ipd.display( speakit(\"This is only a test.\", lang = 'en-GB', autoplay=True) )\n"
   ]
  },
  {
   "cell_type": "code",
   "execution_count": 43,
   "metadata": {},
   "outputs": [
    {
     "name": "stdout",
     "output_type": "stream",
     "text": [
      "Help on function speakit in module __main__:\n",
      "\n",
      "speakit(message)\n",
      "    This function will take message and play it back as audio.\n",
      "\n"
     ]
    }
   ],
   "source": [
    "help(speakit)"
   ]
  },
  {
   "cell_type": "code",
   "execution_count": 52,
   "metadata": {},
   "outputs": [],
   "source": [
    "x =10\n",
    "y = 20"
   ]
  },
  {
   "cell_type": "code",
   "execution_count": 55,
   "metadata": {},
   "outputs": [
    {
     "name": "stdout",
     "output_type": "stream",
     "text": [
      "10\n",
      "20\n"
     ]
    }
   ],
   "source": [
    "print(x)\n",
    "print(y)"
   ]
  },
  {
   "cell_type": "code",
   "execution_count": 63,
   "metadata": {},
   "outputs": [
    {
     "name": "stdout",
     "output_type": "stream",
     "text": [
      "1000\n"
     ]
    }
   ],
   "source": [
    "# Variable Scope Of Functions\n",
    "def add(a,b):\n",
    "    if c > 100:\n",
    "        return 1000\n",
    "    else:\n",
    "        return a+b\n",
    "\n",
    "a = 100\n",
    "c = 500\n",
    "x = add(10,5)\n",
    "print(x)\n"
   ]
  },
  {
   "cell_type": "code",
   "execution_count": 67,
   "metadata": {},
   "outputs": [
    {
     "name": "stdout",
     "output_type": "stream",
     "text": [
      "When f2c(80) Expect: 26.6667 ACTUAL: 26.666666666666668\n",
      "When f2c(212) Expect: 100 ACTUAL: 100.0\n"
     ]
    }
   ],
   "source": [
    "def f2c( deg_in_f ):\n",
    "    # (32°F − 32) × 5/9 = 0°C\n",
    "    deg_in_c = (deg_in_f - 32) * 5/9\n",
    "    return deg_in_c\n",
    "\n",
    "print(\"When f2c(80) Expect: 26.6667 ACTUAL:\", f2c(80) )\n",
    "print(\"When f2c(212) Expect: 100 ACTUAL:\", f2c(212) )\n"
   ]
  },
  {
   "cell_type": "code",
   "execution_count": 68,
   "metadata": {},
   "outputs": [
    {
     "name": "stdout",
     "output_type": "stream",
     "text": [
      "Enter your temp in F:32\n",
      "32.0 Deg F is Equal to 0.0 Deg C\n"
     ]
    }
   ],
   "source": [
    "temp = float(input(\"Enter your temp in F:\") )\n",
    "celcius = f2c(temp)\n",
    "print(f\"{temp} Deg F is Equal to {celcius} Deg C\")\n",
    "                   "
   ]
  },
  {
   "cell_type": "code",
   "execution_count": null,
   "metadata": {},
   "outputs": [],
   "source": []
  }
 ],
 "metadata": {
  "kernelspec": {
   "display_name": "Python 3",
   "language": "python",
   "name": "python3"
  },
  "language_info": {
   "codemirror_mode": {
    "name": "ipython",
    "version": 3
   },
   "file_extension": ".py",
   "mimetype": "text/x-python",
   "name": "python",
   "nbconvert_exporter": "python",
   "pygments_lexer": "ipython3",
   "version": "3.7.6"
  }
 },
 "nbformat": 4,
 "nbformat_minor": 2
}
