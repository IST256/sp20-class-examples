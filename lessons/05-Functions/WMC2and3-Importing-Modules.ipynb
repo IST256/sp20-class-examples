{
 "cells": [
  {
   "cell_type": "code",
   "execution_count": 1,
   "metadata": {},
   "outputs": [
    {
     "name": "stdout",
     "output_type": "stream",
     "text": [
      "Collecting gtts\n",
      "  Downloading https://files.pythonhosted.org/packages/a1/0c/4ca77eca3b739a4a08360930643f58d714e302fee0d2f8c654e67d9af8e7/gTTS-2.1.1-py3-none-any.whl\n",
      "Collecting gtts-token>=1.1.3\n",
      "  Downloading https://files.pythonhosted.org/packages/e7/25/ca6e9cd3275bfc3097fe6b06cc31db6d3dfaf32e032e0f73fead9c9a03ce/gTTS-token-1.1.3.tar.gz\n",
      "Collecting beautifulsoup4\n",
      "\u001b[?25l  Downloading https://files.pythonhosted.org/packages/cb/a1/c698cf319e9cfed6b17376281bd0efc6bfc8465698f54170ef60a485ab5d/beautifulsoup4-4.8.2-py3-none-any.whl (106kB)\n",
      "\u001b[K     |████████████████████████████████| 112kB 11.3MB/s eta 0:00:01\n",
      "\u001b[?25hRequirement already satisfied: six in /opt/conda/lib/python3.7/site-packages (from gtts) (1.13.0)\n",
      "Requirement already satisfied: requests in /opt/conda/lib/python3.7/site-packages (from gtts) (2.12.4)\n",
      "Requirement already satisfied: click in /opt/conda/lib/python3.7/site-packages (from gtts) (7.0)\n",
      "Collecting soupsieve>=1.2\n",
      "  Downloading https://files.pythonhosted.org/packages/81/94/03c0f04471fc245d08d0a99f7946ac228ca98da4fa75796c507f61e688c2/soupsieve-1.9.5-py2.py3-none-any.whl\n",
      "Building wheels for collected packages: gtts-token\n",
      "  Building wheel for gtts-token (setup.py) ... \u001b[?25ldone\n",
      "\u001b[?25h  Created wheel for gtts-token: filename=gTTS_token-1.1.3-cp37-none-any.whl size=4098 sha256=2aa80bc9f9bc9091292d908b483f76659c2f8d4a3597e8fa5f7e4208ddf6f17e\n",
      "  Stored in directory: /home/jovyan/.cache/pip/wheels/dd/11/61/33f7e51bf545e910552b2255eead2a7cd8ef54064b46dceb34\n",
      "Successfully built gtts-token\n",
      "Installing collected packages: gtts-token, soupsieve, beautifulsoup4, gtts\n",
      "Successfully installed beautifulsoup4-4.8.2 gtts-2.1.1 gtts-token-1.1.3 soupsieve-1.9.5\n"
     ]
    }
   ],
   "source": [
    "!pip install gtts"
   ]
  },
  {
   "cell_type": "code",
   "execution_count": 2,
   "metadata": {},
   "outputs": [],
   "source": [
    "from gtts import gTTS"
   ]
  },
  {
   "cell_type": "code",
   "execution_count": 3,
   "metadata": {},
   "outputs": [
    {
     "data": {
      "text/plain": [
       "['GOOGLE_TTS_HEADERS',\n",
       " 'GOOGLE_TTS_MAX_CHARS',\n",
       " '__class__',\n",
       " '__delattr__',\n",
       " '__dict__',\n",
       " '__dir__',\n",
       " '__doc__',\n",
       " '__eq__',\n",
       " '__format__',\n",
       " '__ge__',\n",
       " '__getattribute__',\n",
       " '__gt__',\n",
       " '__hash__',\n",
       " '__init__',\n",
       " '__init_subclass__',\n",
       " '__le__',\n",
       " '__lt__',\n",
       " '__module__',\n",
       " '__ne__',\n",
       " '__new__',\n",
       " '__reduce__',\n",
       " '__reduce_ex__',\n",
       " '__repr__',\n",
       " '__setattr__',\n",
       " '__sizeof__',\n",
       " '__str__',\n",
       " '__subclasshook__',\n",
       " '__weakref__',\n",
       " '_prepare_requests',\n",
       " '_tokenize',\n",
       " 'get_urls',\n",
       " 'save',\n",
       " 'write_to_fp']"
      ]
     },
     "execution_count": 3,
     "metadata": {},
     "output_type": "execute_result"
    }
   ],
   "source": [
    "dir(gTTS)"
   ]
  },
  {
   "cell_type": "code",
   "execution_count": 4,
   "metadata": {},
   "outputs": [
    {
     "name": "stdout",
     "output_type": "stream",
     "text": [
      "Help on class gTTS in module gtts.tts:\n",
      "\n",
      "class gTTS(builtins.object)\n",
      " |  gTTS(text, tld='com', lang='en', slow=False, lang_check=True, pre_processor_funcs=[<function tone_marks at 0x7f0d3c0d24d0>, <function end_of_line at 0x7f0d3c0d7b90>, <function abbreviations at 0x7f0d3c0d7b00>, <function word_sub at 0x7f0d3c0d7a70>], tokenizer_func=<bound method Tokenizer.run of re.compile('(?<=\\\\?).|(?<=!).|(?<=？).|(?<=！).|(?<!\\\\.[a-z])\\\\. |(?<!\\\\.[a-z]), |(?<!\\\\d):|;|\\\\[|、|¡|¿|\\\\]|\\\\(|：|،|\\\\)|。|—|‥|…|，|\\\\\\n', re.IGNORECASE) from: [<function tone_marks at 0x7f0d3c0d79e0>, <function period_comma at 0x7f0d3c0da320>, <function colon at 0x7f0d3c0da3b0>, <function other_punctuation at 0x7f0d3c0da440>]>)\n",
      " |  \n",
      " |  gTTS -- Google Text-to-Speech.\n",
      " |  \n",
      " |  An interface to Google Translate's Text-to-Speech API.\n",
      " |  \n",
      " |  Args:\n",
      " |      text (string): The text to be read.\n",
      " |      tld (string): Top-level domain for the Google Translate host,\n",
      " |          i.e `https://translate.google.<tld>`. This is useful\n",
      " |          when ``google.com`` might be blocked within a network but\n",
      " |          a local or different Google host (e.g. ``google.cn``) is not.\n",
      " |          Default is ``com``.\n",
      " |      lang (string, optional): The language (IETF language tag) to\n",
      " |          read the text in. Default is ``en``.\n",
      " |      slow (bool, optional): Reads text more slowly. Defaults to ``False``.\n",
      " |      lang_check (bool, optional): Strictly enforce an existing ``lang``,\n",
      " |          to catch a language error early. If set to ``True``,\n",
      " |          a ``ValueError`` is raised if ``lang`` doesn't exist.\n",
      " |          Setting ``lang_check`` to ``False`` skips Web requests\n",
      " |          (to validate language) and therefore speeds up instanciation.\n",
      " |          Default is ``True``.\n",
      " |      pre_processor_funcs (list): A list of zero or more functions that are\n",
      " |          called to transform (pre-process) text before tokenizing. Those\n",
      " |          functions must take a string and return a string. Defaults to::\n",
      " |  \n",
      " |              [\n",
      " |                  pre_processors.tone_marks,\n",
      " |                  pre_processors.end_of_line,\n",
      " |                  pre_processors.abbreviations,\n",
      " |                  pre_processors.word_sub\n",
      " |              ]\n",
      " |  \n",
      " |      tokenizer_func (callable): A function that takes in a string and\n",
      " |          returns a list of string (tokens). Defaults to::\n",
      " |  \n",
      " |              Tokenizer([\n",
      " |                  tokenizer_cases.tone_marks,\n",
      " |                  tokenizer_cases.period_comma,\n",
      " |                  tokenizer_cases.colon,\n",
      " |                  tokenizer_cases.other_punctuation\n",
      " |              ]).run\n",
      " |  \n",
      " |  See Also:\n",
      " |      :doc:`Pre-processing and tokenizing <tokenizer>`\n",
      " |  \n",
      " |  Raises:\n",
      " |      AssertionError: When ``text`` is ``None`` or empty; when there's nothing\n",
      " |          left to speak after pre-precessing, tokenizing and cleaning.\n",
      " |      ValueError: When ``lang_check`` is ``True`` and ``lang`` is not supported.\n",
      " |      RuntimeError: When ``lang_check`` is ``True`` but there's an error loading\n",
      " |          the languages dictionnary.\n",
      " |  \n",
      " |  Methods defined here:\n",
      " |  \n",
      " |  __init__(self, text, tld='com', lang='en', slow=False, lang_check=True, pre_processor_funcs=[<function tone_marks at 0x7f0d3c0d24d0>, <function end_of_line at 0x7f0d3c0d7b90>, <function abbreviations at 0x7f0d3c0d7b00>, <function word_sub at 0x7f0d3c0d7a70>], tokenizer_func=<bound method Tokenizer.run of re.compile('(?<=\\\\?).|(?<=!).|(?<=？).|(?<=！).|(?<!\\\\.[a-z])\\\\. |(?<!\\\\.[a-z]), |(?<!\\\\d):|;|\\\\[|、|¡|¿|\\\\]|\\\\(|：|،|\\\\)|。|—|‥|…|，|\\\\\\n', re.IGNORECASE) from: [<function tone_marks at 0x7f0d3c0d79e0>, <function period_comma at 0x7f0d3c0da320>, <function colon at 0x7f0d3c0da3b0>, <function other_punctuation at 0x7f0d3c0da440>]>)\n",
      " |      Initialize self.  See help(type(self)) for accurate signature.\n",
      " |  \n",
      " |  get_urls(self)\n",
      " |      Get TTS API request URL(s) that would be sent to the TTS API.\n",
      " |      \n",
      " |      Returns:\n",
      " |          list: A list of TTS API request URLs to make.\n",
      " |      \n",
      " |              This is particularly useful to get the list of URLs generated\n",
      " |              by ``gTTS`` but not yet fullfilled,\n",
      " |              for example to be used by an external program.\n",
      " |  \n",
      " |  save(self, savefile)\n",
      " |      Do the TTS API request and write result to file.\n",
      " |      \n",
      " |      Args:\n",
      " |          savefile (string): The path and file name to save the ``mp3`` to.\n",
      " |      \n",
      " |      Raises:\n",
      " |          :class:`gTTSError`: When there's an error with the API request.\n",
      " |  \n",
      " |  write_to_fp(self, fp)\n",
      " |      Do the TTS API request(s) and write bytes to a file-like object.\n",
      " |      \n",
      " |      Args:\n",
      " |          fp (file object): Any file-like object to write the ``mp3`` to.\n",
      " |      \n",
      " |      Raises:\n",
      " |          :class:`gTTSError`: When there's an error with the API request.\n",
      " |          TypeError: When ``fp`` is not a file-like object that takes bytes.\n",
      " |  \n",
      " |  ----------------------------------------------------------------------\n",
      " |  Data descriptors defined here:\n",
      " |  \n",
      " |  __dict__\n",
      " |      dictionary for instance variables (if defined)\n",
      " |  \n",
      " |  __weakref__\n",
      " |      list of weak references to the object (if defined)\n",
      " |  \n",
      " |  ----------------------------------------------------------------------\n",
      " |  Data and other attributes defined here:\n",
      " |  \n",
      " |  GOOGLE_TTS_HEADERS = {'Referer': 'http://translate.google.com/', 'User...\n",
      " |  \n",
      " |  GOOGLE_TTS_MAX_CHARS = 100\n",
      "\n"
     ]
    }
   ],
   "source": [
    "help(gTTS)"
   ]
  },
  {
   "cell_type": "code",
   "execution_count": 15,
   "metadata": {},
   "outputs": [
    {
     "name": "stderr",
     "output_type": "stream",
     "text": [
      "/opt/conda/lib/python3.7/site-packages/requests/packages/urllib3/connectionpool.py:843: InsecureRequestWarning: Unverified HTTPS request is being made. Adding certificate verification is strongly advised. See: https://urllib3.readthedocs.io/en/latest/advanced-usage.html#ssl-warnings\n",
      "  InsecureRequestWarning)\n"
     ]
    }
   ],
   "source": [
    "speech = gTTS(\"This is Mike doing something cool!\", lang=\"en\")\n",
    "speech.save(\"demo.mp3\")"
   ]
  },
  {
   "cell_type": "code",
   "execution_count": 16,
   "metadata": {},
   "outputs": [
    {
     "data": {
      "text/html": [
       "\n",
       "                <audio  controls=\"controls\" >\n",
       "                    <source src=\"data:audio/mpeg;base64,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\" type=\"audio/mpeg\" />\n",
       "                    Your browser does not support the audio element.\n",
       "                </audio>\n",
       "              "
      ],
      "text/plain": [
       "<IPython.lib.display.Audio object>"
      ]
     },
     "execution_count": 16,
     "metadata": {},
     "output_type": "execute_result"
    }
   ],
   "source": [
    "import IPython.display as ipd\n",
    "ipd.Audio(\"demo.mp3\")\n"
   ]
  },
  {
   "cell_type": "code",
   "execution_count": 18,
   "metadata": {},
   "outputs": [
    {
     "name": "stdout",
     "output_type": "stream",
     "text": [
      "Type it, and I will speak it! You are very sexy mon sheri\n"
     ]
    },
    {
     "name": "stderr",
     "output_type": "stream",
     "text": [
      "/opt/conda/lib/python3.7/site-packages/requests/packages/urllib3/connectionpool.py:843: InsecureRequestWarning: Unverified HTTPS request is being made. Adding certificate verification is strongly advised. See: https://urllib3.readthedocs.io/en/latest/advanced-usage.html#ssl-warnings\n",
      "  InsecureRequestWarning)\n"
     ]
    },
    {
     "data": {
      "text/html": [
       "\n",
       "                <audio  controls=\"controls\" autoplay=\"autoplay\">\n",
       "                    <source src=\"data:audio/mpeg;base64,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\" type=\"audio/mpeg\" />\n",
       "                    Your browser does not support the audio element.\n",
       "                </audio>\n",
       "              "
      ],
      "text/plain": [
       "<IPython.lib.display.Audio object>"
      ]
     },
     "metadata": {},
     "output_type": "display_data"
    }
   ],
   "source": [
    "import urllib3\n",
    "from gtts import gTTS\n",
    "from IPython.display import display, Audio\n",
    "urllib3.disable_warnings()\n",
    "filename=\"speech.mp3\"\n",
    "text = input(\"Type it, and I will speak it! \")\n",
    "speech = gTTS(text, lang='fr')\n",
    "speech.save(filename)\n",
    "display(Audio(filename, autoplay=True))"
   ]
  },
  {
   "cell_type": "code",
   "execution_count": 30,
   "metadata": {},
   "outputs": [],
   "source": [
    "def speakIt(text, echo=True, lang = \"en\"):\n",
    "    if echo:\n",
    "        print(text)\n",
    "    speech = gTTS(text, lang=lang)\n",
    "    speech.save(filename)\n",
    "    result = Audio(filename, autoplay=True)\n",
    "    display(result)\n",
    "    return "
   ]
  },
  {
   "cell_type": "code",
   "execution_count": 34,
   "metadata": {},
   "outputs": [
    {
     "name": "stdout",
     "output_type": "stream",
     "text": [
      "Adding certificate verification is strongly advised.\n"
     ]
    },
    {
     "name": "stderr",
     "output_type": "stream",
     "text": [
      "/opt/conda/lib/python3.7/site-packages/requests/packages/urllib3/connectionpool.py:843: InsecureRequestWarning: Unverified HTTPS request is being made. Adding certificate verification is strongly advised. See: https://urllib3.readthedocs.io/en/latest/advanced-usage.html#ssl-warnings\n",
      "  InsecureRequestWarning)\n"
     ]
    },
    {
     "data": {
      "text/html": [
       "\n",
       "                <audio  controls=\"controls\" autoplay=\"autoplay\">\n",
       "                    <source src=\"data:audio/mpeg;base64,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\" type=\"audio/mpeg\" />\n",
       "                    Your browser does not support the audio element.\n",
       "                </audio>\n",
       "              "
      ],
      "text/plain": [
       "<IPython.lib.display.Audio object>"
      ]
     },
     "metadata": {},
     "output_type": "display_data"
    },
    {
     "name": "stdout",
     "output_type": "stream",
     "text": [
      "Yo Mama\n"
     ]
    },
    {
     "name": "stderr",
     "output_type": "stream",
     "text": [
      "/opt/conda/lib/python3.7/site-packages/requests/packages/urllib3/connectionpool.py:843: InsecureRequestWarning: Unverified HTTPS request is being made. Adding certificate verification is strongly advised. See: https://urllib3.readthedocs.io/en/latest/advanced-usage.html#ssl-warnings\n",
      "  InsecureRequestWarning)\n"
     ]
    },
    {
     "data": {
      "text/html": [
       "\n",
       "                <audio  controls=\"controls\" autoplay=\"autoplay\">\n",
       "                    <source src=\"data:audio/mpeg;base64,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\" type=\"audio/mpeg\" />\n",
       "                    Your browser does not support the audio element.\n",
       "                </audio>\n",
       "              "
      ],
      "text/plain": [
       "<IPython.lib.display.Audio object>"
      ]
     },
     "metadata": {},
     "output_type": "display_data"
    }
   ],
   "source": [
    "import time\n",
    "speakIt(\"Adding certificate verification is strongly advised.\")\n",
    "time.sleep(3)\n",
    "speakIt(\"Yo Mama\")"
   ]
  },
  {
   "cell_type": "code",
   "execution_count": null,
   "metadata": {},
   "outputs": [],
   "source": []
  }
 ],
 "metadata": {
  "kernelspec": {
   "display_name": "Python 3",
   "language": "python",
   "name": "python3"
  },
  "language_info": {
   "codemirror_mode": {
    "name": "ipython",
    "version": 3
   },
   "file_extension": ".py",
   "mimetype": "text/x-python",
   "name": "python",
   "nbconvert_exporter": "python",
   "pygments_lexer": "ipython3",
   "version": "3.7.6"
  }
 },
 "nbformat": 4,
 "nbformat_minor": 2
}
