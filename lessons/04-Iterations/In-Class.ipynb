{
 "cells": [
  {
   "cell_type": "code",
   "execution_count": 2,
   "metadata": {},
   "outputs": [
    {
     "name": "stdout",
     "output_type": "stream",
     "text": [
      "Enter your name: mikey\n",
      "I don't like you mikey\n",
      "Enter your name: mick\n",
      "I don't like you mick\n",
      "Enter your name: qwer\n",
      "I don't like you qwer\n",
      "Enter your name: \n",
      "I don't like you \n",
      "Enter your name: \n",
      "I don't like you \n",
      "Enter your name: \n",
      "I don't like you \n",
      "Enter your name: \n",
      "I don't like you \n",
      "Enter your name: jrdsg\n",
      "I don't like you jrdsg\n",
      "Enter your name: fdsxghdjf\n",
      "I don't like you fdsxghdjf\n",
      "Enter your name: setr\n",
      "I don't like you setr\n",
      "Enter your name: mike\n"
     ]
    }
   ],
   "source": [
    "name = input(\"Enter your name: \")\n",
    "while name != 'mike':\n",
    "    print(f\"I don't like you {name}\")\n",
    "    name = input(\"Enter your name: \")"
   ]
  },
  {
   "cell_type": "code",
   "execution_count": 5,
   "metadata": {},
   "outputs": [
    {
     "name": "stdout",
     "output_type": "stream",
     "text": [
      "1 2 3 4 5 6 7 8 9 10 "
     ]
    }
   ],
   "source": [
    "for i in range(1,11):\n",
    "    print(i, end= \" \")"
   ]
  },
  {
   "cell_type": "code",
   "execution_count": 6,
   "metadata": {},
   "outputs": [
    {
     "name": "stdout",
     "output_type": "stream",
     "text": [
      "m\n",
      "i\n",
      "k\n",
      "e\n"
     ]
    }
   ],
   "source": [
    "for i in \"mike\":\n",
    "    print(i)"
   ]
  },
  {
   "cell_type": "code",
   "execution_count": 8,
   "metadata": {},
   "outputs": [
    {
     "name": "stdout",
     "output_type": "stream",
     "text": [
      "Enter some textmike fudge\n",
      "There is a space in your text!\n"
     ]
    }
   ],
   "source": [
    "text=input(\"Enter some text: \")\n",
    "for ch in text:\n",
    "    if ch == ' ':\n",
    "        print(\"There is a space in your text!\")\n",
    "\n",
    "        "
   ]
  },
  {
   "cell_type": "code",
   "execution_count": 9,
   "metadata": {},
   "outputs": [
    {
     "ename": "TypeError",
     "evalue": "'int' object is not iterable",
     "output_type": "error",
     "traceback": [
      "\u001b[0;31m---------------------------------------------------------------------------\u001b[0m",
      "\u001b[0;31mTypeError\u001b[0m                                 Traceback (most recent call last)",
      "\u001b[0;32m<ipython-input-9-6c3116c82ebb>\u001b[0m in \u001b[0;36m<module>\u001b[0;34m\u001b[0m\n\u001b[1;32m      1\u001b[0m \u001b[0mage\u001b[0m \u001b[0;34m=\u001b[0m \u001b[0;36m100\u001b[0m\u001b[0;34m\u001b[0m\u001b[0;34m\u001b[0m\u001b[0m\n\u001b[0;32m----> 2\u001b[0;31m \u001b[0;32mfor\u001b[0m \u001b[0mi\u001b[0m \u001b[0;32min\u001b[0m \u001b[0mage\u001b[0m\u001b[0;34m:\u001b[0m\u001b[0;34m\u001b[0m\u001b[0;34m\u001b[0m\u001b[0m\n\u001b[0m\u001b[1;32m      3\u001b[0m     \u001b[0mprint\u001b[0m\u001b[0;34m(\u001b[0m\u001b[0mi\u001b[0m\u001b[0;34m)\u001b[0m\u001b[0;34m\u001b[0m\u001b[0;34m\u001b[0m\u001b[0m\n",
      "\u001b[0;31mTypeError\u001b[0m: 'int' object is not iterable"
     ]
    }
   ],
   "source": [
    "age = 100\n",
    "for i in age:\n",
    "    print(i)"
   ]
  },
  {
   "cell_type": "code",
   "execution_count": 10,
   "metadata": {},
   "outputs": [
    {
     "name": "stdout",
     "output_type": "stream",
     "text": [
      "You passed with a 100\n",
      "You fail with a 50\n",
      "You passed with a 100\n",
      "You passed with a 100\n",
      "You fail with a 0\n"
     ]
    }
   ],
   "source": [
    "grades = [ 100, 50, 100, 100, 0 ]\n",
    "for grade in grades:\n",
    "    if grade > 75:\n",
    "        print(f\"You passed with a {grade}\")\n",
    "    else:\n",
    "        print(f\"You fail with a {grade}\")\n",
    "        \n"
   ]
  },
  {
   "cell_type": "code",
   "execution_count": 15,
   "metadata": {},
   "outputs": [
    {
     "name": "stdout",
     "output_type": "stream",
     "text": [
      "Enter some text: mik\n",
      "There are 1 i's in the text mik\n"
     ]
    }
   ],
   "source": [
    "text = input(\"Enter some text: \")\n",
    "count = 0\n",
    "# mississippi\n",
    "for character in text:\n",
    "    if character == 'i':\n",
    "        count = count + 1\n",
    "print(\"There are %d i's in the text %s\" % (count,text))\n"
   ]
  },
  {
   "cell_type": "code",
   "execution_count": 16,
   "metadata": {},
   "outputs": [
    {
     "name": "stdout",
     "output_type": "stream",
     "text": [
      "do something\n",
      "Run this again? [y/n] y\n",
      "do something\n",
      "Run this again? [y/n] y\n",
      "do something\n",
      "Run this again? [y/n] n\n"
     ]
    }
   ],
   "source": [
    "runagain = 'y'\n",
    "while runagain =='y':\n",
    "    print(\"do something\")\n",
    "    runagain = input(\"Run this again? [y/n] \")\n",
    "    "
   ]
  },
  {
   "cell_type": "code",
   "execution_count": 17,
   "metadata": {},
   "outputs": [
    {
     "name": "stdout",
     "output_type": "stream",
     "text": [
      "Enter some text: mike\n",
      "There are 1 i's in the text mike\n",
      "Run this again? [y/n] y\n",
      "Enter some text: thiiiiiiiis iiiiiis fun\n",
      "There are 14 i's in the text thiiiiiiiis iiiiiis fun\n",
      "Run this again? [y/n] n\n"
     ]
    }
   ],
   "source": [
    "runagain = 'y'\n",
    "while runagain =='y':\n",
    "    \n",
    "    text = input(\"Enter some text: \")\n",
    "    count = 0\n",
    "    # mississippi\n",
    "    for character in text:\n",
    "        if character == 'i':\n",
    "            count = count + 1\n",
    "    print(\"There are %d i's in the text %s\" % (count,text))\n",
    "    \n",
    "    runagain = input(\"Run this again? [y/n] \")"
   ]
  },
  {
   "cell_type": "code",
   "execution_count": 22,
   "metadata": {},
   "outputs": [
    {
     "name": "stdout",
     "output_type": "stream",
     "text": [
      "1\n",
      "Enter a new value for x: 10\n",
      "10\n",
      "Enter a new value for x: 56\n",
      "56\n",
      "Enter a new value for x: 100\n",
      "100\n",
      "Enter a new value for x: 99\n",
      "You entered 99.. stopping\n"
     ]
    }
   ],
   "source": [
    "x = 1\n",
    "while True:\n",
    "    print(x)\n",
    "    x = int(input(\"Enter a new value for x: \"))\n",
    "    if x == 99:\n",
    "        print(\"You entered 99.. stopping\")\n",
    "        break\n",
    "    if x == 0:\n",
    "        print(\"You entered 0.. stopping\")\n",
    "        break\n",
    "        "
   ]
  },
  {
   "cell_type": "code",
   "execution_count": 24,
   "metadata": {},
   "outputs": [
    {
     "name": "stdout",
     "output_type": "stream",
     "text": [
      "Enter your lab grade: [0 to 5], type -1 to quit.5\n",
      "Enter your lab grade: [0 to 5], type -1 to quit.5\n",
      "Enter your lab grade: [0 to 5], type -1 to quit.5\n",
      "Enter your lab grade: [0 to 5], type -1 to quit.3\n",
      "Enter your lab grade: [0 to 5], type -1 to quit.-1\n",
      "Quitting, you entered a -1!\n",
      "Avg Lab Grade is: 4.5\n"
     ]
    }
   ],
   "source": [
    "total_lab_grade = 0\n",
    "lab_count = 0\n",
    "while True:\n",
    "    lab = int(input(\"Enter your lab grade: [0 to 5], type -1 to quit.\"))\n",
    "    if lab == -1:\n",
    "        print(\"Quitting, you entered a -1!\")\n",
    "        break\n",
    "    total_lab_grade = total_lab_grade + lab\n",
    "    lab_count = lab_count + 1\n",
    "\n",
    "print(f\"Avg Lab Grade is: {total_lab_grade/lab_count}\")"
   ]
  },
  {
   "cell_type": "markdown",
   "metadata": {},
   "source": [
    "- 5 attempts for the password\n",
    "- on correct password, print: “Access Granted”, then end the program\n",
    "- On incorrect password “Invalid Password Attempt #” and give the user another try\n",
    "- After 5 attempts, print “You are locked out”. Then end the program."
   ]
  },
  {
   "cell_type": "code",
   "execution_count": 34,
   "metadata": {},
   "outputs": [
    {
     "name": "stdout",
     "output_type": "stream",
     "text": [
      "Enter Password: a\n",
      "Bad Password :-( :-(  \n",
      "This is attempt #1\n",
      "Enter Password: s\n",
      "Bad Password :-( :-(  \n",
      "This is attempt #2\n",
      "Enter Password: d\n",
      "Bad Password :-( :-(  \n",
      "This is attempt #3\n",
      "Enter Password: f\n",
      "Bad Password :-( :-(  \n",
      "This is attempt #4\n",
      "Enter Password: g\n",
      "Bad Password :-( :-(  \n",
      "This is attempt #5\n",
      "Locked out!\n"
     ]
    }
   ],
   "source": [
    "attempts = 5\n",
    "your_password = \"rhubarb\"\n",
    "success = False\n",
    "for attempt in range(attempts):\n",
    "    password = input(\"Enter Password: \")\n",
    "    if password == your_password:\n",
    "        print(\"Access Granted!!!!!!!\")\n",
    "        success = True\n",
    "        break\n",
    "    else:\n",
    "        print(\"Bad Password :-( :-(  \")\n",
    "    print(f\"This is attempt #{attempt+1}\")\n",
    "\n",
    "if not success:\n",
    "    print(\"Locked out!\")\n",
    "    "
   ]
  },
  {
   "cell_type": "code",
   "execution_count": null,
   "metadata": {},
   "outputs": [],
   "source": []
  }
 ],
 "metadata": {
  "kernelspec": {
   "display_name": "Python 3",
   "language": "python",
   "name": "python3"
  },
  "language_info": {
   "codemirror_mode": {
    "name": "ipython",
    "version": 3
   },
   "file_extension": ".py",
   "mimetype": "text/x-python",
   "name": "python",
   "nbconvert_exporter": "python",
   "pygments_lexer": "ipython3",
   "version": "3.7.6"
  }
 },
 "nbformat": 4,
 "nbformat_minor": 2
}
